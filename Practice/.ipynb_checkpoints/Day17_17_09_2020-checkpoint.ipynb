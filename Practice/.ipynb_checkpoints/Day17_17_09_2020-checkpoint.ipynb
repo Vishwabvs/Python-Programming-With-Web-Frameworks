{
 "cells": [
  {
   "cell_type": "markdown",
   "metadata": {},
   "source": [
    "# Python Practice Day 17"
   ]
  },
  {
   "cell_type": "markdown",
   "metadata": {},
   "source": [
    "## Object Oriented Programming - Class and objects"
   ]
  },
  {
   "cell_type": "markdown",
   "metadata": {},
   "source": [
    "### Class Definition"
   ]
  },
  {
   "cell_type": "code",
   "execution_count": 1,
   "metadata": {},
   "outputs": [],
   "source": [
    "class Product:\n",
    "    def __init__(self, name, price, discountpercent):\n",
    "        self.name = name\n",
    "        self.price = price\n",
    "        self.discountpercent = discountpercent\n",
    "        \n",
    "    def getDiscountAmount(self):\n",
    "        return self.price * self.discountpercent/100\n",
    "    \n",
    "    def getDiscountPrice(self):\n",
    "        return self.price - self.getDiscountAmount()\n",
    "    \n",
    "    def __str__(self):\n",
    "        return \"Product Name: \" + self.name + \"\\nProduct Price: \" + str(self.price) + \"\\nReduced Price: \" + str(self.getDiscountPrice())"
   ]
  },
  {
   "cell_type": "markdown",
   "metadata": {},
   "source": [
    "### Object Instantiation"
   ]
  },
  {
   "cell_type": "code",
   "execution_count": 2,
   "metadata": {},
   "outputs": [
    {
     "name": "stdout",
     "output_type": "stream",
     "text": [
      "Product Name: AAA\n",
      "Product Price: 1000\n",
      "Reduced Price: 900.0\n"
     ]
    }
   ],
   "source": [
    "obj = Product(\"AAA\", 1000, 10)\n",
    "print(obj)"
   ]
  },
  {
   "cell_type": "markdown",
   "metadata": {},
   "source": [
    "### Constructors and String Representation"
   ]
  },
  {
   "cell_type": "code",
   "execution_count": 3,
   "metadata": {},
   "outputs": [],
   "source": [
    "from math import sqrt\n",
    "class Point:\n",
    "    def __init__(self, a, b):\n",
    "        self.x = a\n",
    "        self.y = b\n",
    "        \n",
    "    def __str__(self):\n",
    "        return \"(\" + str(self.x) + \",\" + str(self.y)+ \")\"\n",
    "    \n",
    "    def distance_from_origin(self):\n",
    "        return sqrt(self.x*self.x + self.y*self.y)\n",
    "    \n",
    "    def distance_between(self, other):\n",
    "        dx = self.x - other.x\n",
    "        dy = self.y - other.y\n",
    "        return sqrt(dx**2 + dy**2)\n",
    "    \n",
    "    def translate(self, tx, ty):\n",
    "        self.x = self.x + tx\n",
    "        self.y = self.y + ty"
   ]
  },
  {
   "cell_type": "code",
   "execution_count": 4,
   "metadata": {},
   "outputs": [
    {
     "name": "stdout",
     "output_type": "stream",
     "text": [
      "(4,8) --> (7,2)  Distance:  6.708203932499369\n"
     ]
    }
   ],
   "source": [
    "P1 = Point(4, 8)\n",
    "P2 = Point(7, 2)\n",
    "print(P1, \"-->\", P2, \" Distance: \", P1.distance_between(P2))"
   ]
  },
  {
   "cell_type": "code",
   "execution_count": 5,
   "metadata": {},
   "outputs": [
    {
     "name": "stdout",
     "output_type": "stream",
     "text": [
      "(7,9)\n"
     ]
    }
   ],
   "source": [
    "P1.translate(3, 1)\n",
    "print(P1)"
   ]
  },
  {
   "cell_type": "code",
   "execution_count": 6,
   "metadata": {},
   "outputs": [
    {
     "name": "stdout",
     "output_type": "stream",
     "text": [
      "11.40175425099138\n"
     ]
    }
   ],
   "source": [
    "print(P1.distance_from_origin())"
   ]
  },
  {
   "cell_type": "markdown",
   "metadata": {},
   "source": [
    "### Runtime Attributes at Runtime"
   ]
  },
  {
   "cell_type": "code",
   "execution_count": 7,
   "metadata": {},
   "outputs": [
    {
     "name": "stdout",
     "output_type": "stream",
     "text": [
      "\n",
      "\n",
      "name : AAA\n",
      "regno : 12345\n",
      "marks : [80, 95, 79]\n",
      "\n",
      "\n",
      "name : BBB\n",
      "desig : Manager\n",
      "salary : 5000\n"
     ]
    }
   ],
   "source": [
    "class A:\n",
    "    def __str__(self):\n",
    "        srep = \"\"\n",
    "        for x in self.__dict__:\n",
    "            srep += \"\\n\"+ str(x) + \" : \" + str(self.__dict__[x])\n",
    "        return srep\n",
    "    \n",
    "    \n",
    "a1 = A()\n",
    "print(a1)   #prints nothing\n",
    "a1.name = \"AAA\"\n",
    "a1.regno = 12345\n",
    "a1.marks = [80, 95, 79]\n",
    "print(a1)\n",
    "a2 = A()\n",
    "print(a2)\n",
    "a2.name = \"BBB\"\n",
    "a2.desig = \"Manager\"\n",
    "a2.salary = 5000\n",
    "print(a2)"
   ]
  },
  {
   "cell_type": "code",
   "execution_count": 8,
   "metadata": {},
   "outputs": [
    {
     "data": {
      "text/plain": [
       "{'name': 'AAA', 'regno': 12345, 'marks': [80, 95, 79]}"
      ]
     },
     "execution_count": 8,
     "metadata": {},
     "output_type": "execute_result"
    }
   ],
   "source": [
    "a1.__dict__"
   ]
  },
  {
   "cell_type": "code",
   "execution_count": 9,
   "metadata": {},
   "outputs": [
    {
     "data": {
      "text/plain": [
       "{'x': 7, 'y': 9}"
      ]
     },
     "execution_count": 9,
     "metadata": {},
     "output_type": "execute_result"
    }
   ],
   "source": [
    "P1.__dict__"
   ]
  },
  {
   "cell_type": "code",
   "execution_count": 10,
   "metadata": {},
   "outputs": [
    {
     "data": {
      "text/plain": [
       "{'x': 7, 'y': 2}"
      ]
     },
     "execution_count": 10,
     "metadata": {},
     "output_type": "execute_result"
    }
   ],
   "source": [
    "P2.__dict__"
   ]
  },
  {
   "cell_type": "code",
   "execution_count": 11,
   "metadata": {},
   "outputs": [
    {
     "data": {
      "text/plain": [
       "{'name': 'BBB', 'desig': 'Manager', 'salary': 5000}"
      ]
     },
     "execution_count": 11,
     "metadata": {},
     "output_type": "execute_result"
    }
   ],
   "source": [
    "a2.__dict__"
   ]
  },
  {
   "cell_type": "markdown",
   "metadata": {},
   "source": [
    "### Object Composition"
   ]
  },
  {
   "cell_type": "code",
   "execution_count": 12,
   "metadata": {},
   "outputs": [],
   "source": [
    "class DOB:\n",
    "    def __init__(self, dd, mm, yy):\n",
    "        self.dd = dd\n",
    "        self.mm = mm\n",
    "        self.yy = yy\n",
    "    \n",
    "    def __str__(self):\n",
    "        return \"{}/{}/{}\".format(self.dd, self.mm, self.yy)\n",
    "    \n",
    "class Person:\n",
    "    def __init__(self):\n",
    "        self.name = \"Aakash\"\n",
    "        self.db = DOB(10, 3, 2020)\n",
    "        \n",
    "    def __str__(self):\n",
    "        return \"Name: \" + self.name + \"\\nDoB: \" + str(self.db)"
   ]
  },
  {
   "cell_type": "code",
   "execution_count": 13,
   "metadata": {},
   "outputs": [
    {
     "name": "stdout",
     "output_type": "stream",
     "text": [
      "Name: Aakash\n",
      "DoB: 10/3/2020\n"
     ]
    }
   ],
   "source": [
    "P = Person()\n",
    "print(P)"
   ]
  },
  {
   "cell_type": "markdown",
   "metadata": {},
   "source": [
    "### Data Encapsulation"
   ]
  },
  {
   "cell_type": "code",
   "execution_count": 14,
   "metadata": {},
   "outputs": [
    {
     "name": "stdout",
     "output_type": "stream",
     "text": [
      "45 32\n"
     ]
    }
   ],
   "source": [
    "#Accessing and Manipulating Private attributes of a class using annotation lines\n",
    "\n",
    "class A:\n",
    "    def __init__(self):\n",
    "        self.__x = 0\n",
    "        self.__y = 0\n",
    "        \n",
    "        @property      #getter method\n",
    "        def x(self):   #name of the function should be same as name of the variable without preceding \"__\"\n",
    "            return self.__x\n",
    "        \n",
    "        @x.setter     #setter method\n",
    "        def x(self, a):\n",
    "            self.__x = a\n",
    "        \n",
    "        @property\n",
    "        def y(self):\n",
    "            return self.__y\n",
    "        \n",
    "        @y.setter\n",
    "        def y(self, b):\n",
    "            self.__y = b\n",
    "        \n",
    "obj = A()\n",
    "obj.x = 45\n",
    "obj.y = 32\n",
    "print(obj.x, obj.y)"
   ]
  },
  {
   "cell_type": "code",
   "execution_count": 15,
   "metadata": {},
   "outputs": [
    {
     "ename": "AttributeError",
     "evalue": "'A' object has no attribute '__x'",
     "output_type": "error",
     "traceback": [
      "\u001b[0;31m---------------------------------------------------------------------------\u001b[0m",
      "\u001b[0;31mAttributeError\u001b[0m                            Traceback (most recent call last)",
      "\u001b[0;32m<ipython-input-15-4e8ca2e07851>\u001b[0m in \u001b[0;36m<module>\u001b[0;34m\u001b[0m\n\u001b[1;32m      4\u001b[0m \u001b[0;34m\u001b[0m\u001b[0m\n\u001b[1;32m      5\u001b[0m \u001b[0mA1\u001b[0m \u001b[0;34m=\u001b[0m \u001b[0mA\u001b[0m\u001b[0;34m(\u001b[0m\u001b[0;34m)\u001b[0m\u001b[0;34m\u001b[0m\u001b[0;34m\u001b[0m\u001b[0m\n\u001b[0;32m----> 6\u001b[0;31m \u001b[0mprint\u001b[0m\u001b[0;34m(\u001b[0m\u001b[0mA1\u001b[0m\u001b[0;34m.\u001b[0m\u001b[0m__x\u001b[0m\u001b[0;34m)\u001b[0m\u001b[0;34m\u001b[0m\u001b[0;34m\u001b[0m\u001b[0m\n\u001b[0m",
      "\u001b[0;31mAttributeError\u001b[0m: 'A' object has no attribute '__x'"
     ]
    }
   ],
   "source": [
    "class A:\n",
    "    def __init__(self):\n",
    "        self.__x = 0\n",
    "        \n",
    "A1 = A()\n",
    "print(A1.__x)"
   ]
  },
  {
   "cell_type": "code",
   "execution_count": 16,
   "metadata": {},
   "outputs": [
    {
     "name": "stdout",
     "output_type": "stream",
     "text": [
      "0\n"
     ]
    }
   ],
   "source": [
    "print(A1._A__x)"
   ]
  },
  {
   "cell_type": "code",
   "execution_count": 17,
   "metadata": {},
   "outputs": [
    {
     "name": "stdout",
     "output_type": "stream",
     "text": [
      "45 20\n"
     ]
    }
   ],
   "source": [
    "#Accessing and Manipulating the Private members of the class using property() method\n",
    "class A:\n",
    "    def __init__(self):\n",
    "        self.__x = 0\n",
    "        self.__y = 0\n",
    "        \n",
    "    def get_x(self):\n",
    "        return self.__x\n",
    "    \n",
    "    def set_x(self, a):\n",
    "        self.__x = a\n",
    "        \n",
    "    def get_y(self):\n",
    "        return self.__y\n",
    "    \n",
    "    def set_y(self, b):\n",
    "        self.__y = b\n",
    "        \n",
    "    x = property(get_x, set_x)\n",
    "    y = property(get_y, set_y)\n",
    "    \n",
    "obj = A()\n",
    "obj.x = 45\n",
    "obj.y = 20\n",
    "print(obj.x, obj.y)"
   ]
  },
  {
   "cell_type": "markdown",
   "metadata": {},
   "source": [
    "### Class Attributes"
   ]
  },
  {
   "cell_type": "code",
   "execution_count": 18,
   "metadata": {},
   "outputs": [
    {
     "name": "stdout",
     "output_type": "stream",
     "text": [
      "C1's x value:  10\n",
      "C's x value:  10\n"
     ]
    }
   ],
   "source": [
    "class C:\n",
    "    x = 10     #attribute for class object \n",
    "    \n",
    "c1 = C()\n",
    "print(\"C1's x value: \", c1.x)\n",
    "print(\"C's x value: \", C.x)"
   ]
  },
  {
   "cell_type": "code",
   "execution_count": 19,
   "metadata": {},
   "outputs": [
    {
     "name": "stdout",
     "output_type": "stream",
     "text": [
      "C1's x value:  10\n",
      "C's x value:  10\n"
     ]
    }
   ],
   "source": [
    "c2 = C()\n",
    "print(\"C1's x value: \", c2.x)\n",
    "print(\"C's x value: \", C.x)"
   ]
  },
  {
   "cell_type": "code",
   "execution_count": 20,
   "metadata": {},
   "outputs": [
    {
     "name": "stdout",
     "output_type": "stream",
     "text": [
      "C1's x value:  30\n",
      "C's x value:  30\n",
      "C's x value:  30\n"
     ]
    }
   ],
   "source": [
    "C.x = 30                        #changing class attribute will change the object attributes value\n",
    "print(\"C1's x value: \", c2.x)\n",
    "print(\"C's x value: \", C.x)\n",
    "print(\"C's x value: \", c1.x)"
   ]
  },
  {
   "cell_type": "code",
   "execution_count": 21,
   "metadata": {},
   "outputs": [
    {
     "name": "stdout",
     "output_type": "stream",
     "text": [
      "C1's x value:  40\n",
      "C's x value:  30\n",
      "C's x value:  30\n"
     ]
    }
   ],
   "source": [
    "c2.x = 40                      #this changes objects attribute and no effect for class attribute\n",
    "print(\"C1's x value: \", c2.x)\n",
    "print(\"C's x value: \", C.x)\n",
    "print(\"C's x value: \", c1.x)"
   ]
  },
  {
   "cell_type": "code",
   "execution_count": 22,
   "metadata": {},
   "outputs": [
    {
     "name": "stdout",
     "output_type": "stream",
     "text": [
      "D's x value:  10\n",
      "D1's x value:  20\n",
      "D1's m value:  40\n"
     ]
    }
   ],
   "source": [
    "class D:\n",
    "    x = 10\n",
    "    def __init__(self, a):\n",
    "        self.x = a\n",
    "        \n",
    "    def myattr(self, a):\n",
    "        self.m = a\n",
    "        \n",
    "D1 = D(20)\n",
    "print(\"D's x value: \", D.x)\n",
    "print(\"D1's x value: \", D1.x)\n",
    "D1.myattr(40)\n",
    "print(\"D1's m value: \", D1.m)"
   ]
  },
  {
   "cell_type": "code",
   "execution_count": 23,
   "metadata": {},
   "outputs": [
    {
     "data": {
      "text/plain": [
       "mappingproxy({'__module__': '__main__',\n",
       "              'x': 10,\n",
       "              '__init__': <function __main__.D.__init__(self, a)>,\n",
       "              'myattr': <function __main__.D.myattr(self, a)>,\n",
       "              '__dict__': <attribute '__dict__' of 'D' objects>,\n",
       "              '__weakref__': <attribute '__weakref__' of 'D' objects>,\n",
       "              '__doc__': None})"
      ]
     },
     "execution_count": 23,
     "metadata": {},
     "output_type": "execute_result"
    }
   ],
   "source": [
    "D.__dict__"
   ]
  },
  {
   "cell_type": "code",
   "execution_count": 24,
   "metadata": {},
   "outputs": [
    {
     "name": "stdout",
     "output_type": "stream",
     "text": [
      "<class '__main__.E'>\n",
      "<__main__.E object at 0x7fef312fc400>\n",
      "<__main__.E object at 0x7fef302436a0>\n",
      "ID of E:  28145200\n",
      "ID of E1:  140665299125248\n",
      "ID of E2:  140665281590944\n"
     ]
    }
   ],
   "source": [
    "class E:\n",
    "    pass\n",
    "E1 = E()\n",
    "E2 = E()\n",
    "print(E)\n",
    "print(E1)\n",
    "print(E2)\n",
    "print(\"ID of E: \", id(E))\n",
    "print(\"ID of E1: \", id(E1))\n",
    "print(\"ID of E2: \", id(E2))"
   ]
  },
  {
   "cell_type": "code",
   "execution_count": 25,
   "metadata": {},
   "outputs": [
    {
     "name": "stdout",
     "output_type": "stream",
     "text": [
      "E1 Attributes:  {}\n",
      "E2 Attributes:  {}\n",
      "E3 Attributes:  {'x': 10, 'y': 40}\n"
     ]
    }
   ],
   "source": [
    "E3 = E()\n",
    "E3.x = 10\n",
    "E3.y = 40\n",
    "print(\"E1 Attributes: \", E1.__dict__)\n",
    "print(\"E2 Attributes: \", E2.__dict__)\n",
    "print(\"E3 Attributes: \", E3.__dict__)"
   ]
  },
  {
   "cell_type": "code",
   "execution_count": 26,
   "metadata": {},
   "outputs": [
    {
     "data": {
      "text/plain": [
       "mappingproxy({'__module__': '__main__',\n",
       "              '__dict__': <attribute '__dict__' of 'E' objects>,\n",
       "              '__weakref__': <attribute '__weakref__' of 'E' objects>,\n",
       "              '__doc__': None})"
      ]
     },
     "execution_count": 26,
     "metadata": {},
     "output_type": "execute_result"
    }
   ],
   "source": [
    "E.__dict__  #contains attributes of class"
   ]
  },
  {
   "cell_type": "code",
   "execution_count": 27,
   "metadata": {},
   "outputs": [
    {
     "name": "stdout",
     "output_type": "stream",
     "text": [
      "Breadth: 10 Length: 15\n",
      "Area:  150\n"
     ]
    }
   ],
   "source": [
    "class Room:\n",
    "    def __init__(self):\n",
    "        self.__length = 0\n",
    "        self.__breadth = 0\n",
    "        \n",
    "    @property\n",
    "    def length(self):\n",
    "        return self.__length\n",
    "    \n",
    "    @length.setter\n",
    "    def length(self, a):\n",
    "        self.__length = a\n",
    "        \n",
    "    @property\n",
    "    def breadth(self):\n",
    "        return self.__breadth\n",
    "    \n",
    "    @breadth.setter\n",
    "    def breadth(self, b):\n",
    "        self.__breadth = b\n",
    "        \n",
    "    def getArea(self):\n",
    "        return self.length*self.breadth\n",
    "    \n",
    "    def __str__(self):\n",
    "        return \"Breadth: \"+ str(self.__breadth) + \" Length: \" + str(self.__length)\n",
    "    \n",
    "    def __repr__(self):\n",
    "        return \"(\" + str(self.__breadth) + \" , \" + str(self.__length) + \")\"\n",
    "    \n",
    "R1 = Room()\n",
    "R1.length = 15\n",
    "R1.breadth = 10\n",
    "print(R1)                   #calls __str__ method\n",
    "print(\"Area: \", R1.getArea())"
   ]
  },
  {
   "cell_type": "code",
   "execution_count": 28,
   "metadata": {},
   "outputs": [
    {
     "data": {
      "text/plain": [
       "(10 , 15)"
      ]
     },
     "execution_count": 28,
     "metadata": {},
     "output_type": "execute_result"
    }
   ],
   "source": [
    "R1                    #calls __repr__ method"
   ]
  },
  {
   "cell_type": "markdown",
   "metadata": {},
   "source": [
    "### Inheritance"
   ]
  },
  {
   "cell_type": "code",
   "execution_count": 29,
   "metadata": {},
   "outputs": [
    {
     "name": "stdout",
     "output_type": "stream",
     "text": [
      "a = 10\n",
      "b = 20\n"
     ]
    }
   ],
   "source": [
    "class A:\n",
    "    def __init__(self, a):\n",
    "        self.a = a\n",
    "        \n",
    "class B(A):\n",
    "    def __init__(self, x, y):\n",
    "        A.__init__(self, x)\n",
    "        self.b = y\n",
    "        \n",
    "    def __str__(self):\n",
    "        return \"a = \" + str(self.a) + \"\\nb = \" + str(self.b)\n",
    "    \n",
    "B1 = B(10, 20)\n",
    "print(B1)"
   ]
  },
  {
   "cell_type": "markdown",
   "metadata": {},
   "source": [
    "### Method Overriding"
   ]
  },
  {
   "cell_type": "code",
   "execution_count": 30,
   "metadata": {},
   "outputs": [
    {
     "name": "stdout",
     "output_type": "stream",
     "text": [
      "A's Method\n",
      "B's Method\n",
      "C's Method\n",
      "A's Method\n"
     ]
    }
   ],
   "source": [
    "class A:\n",
    "    def myMethod(self):\n",
    "        print(\"A's Method\")\n",
    "        \n",
    "class B(A):\n",
    "    def myMethod(self):\n",
    "        print(\"B's Method\")\n",
    "        \n",
    "class C(A):\n",
    "    def myMethod(self):\n",
    "        print(\"C's Method\")\n",
    "        \n",
    "class D(A):\n",
    "    pass\n",
    "\n",
    "O1 = A()\n",
    "O2 = B()\n",
    "O3 = C()\n",
    "O4 = D()\n",
    "\n",
    "O1.myMethod()\n",
    "O2.myMethod()\n",
    "O3.myMethod()\n",
    "O4.myMethod()"
   ]
  },
  {
   "cell_type": "code",
   "execution_count": 31,
   "metadata": {},
   "outputs": [
    {
     "data": {
      "text/plain": [
       "True"
      ]
     },
     "execution_count": 31,
     "metadata": {},
     "output_type": "execute_result"
    }
   ],
   "source": [
    "isinstance(O1, A)"
   ]
  },
  {
   "cell_type": "code",
   "execution_count": 32,
   "metadata": {},
   "outputs": [
    {
     "data": {
      "text/plain": [
       "True"
      ]
     },
     "execution_count": 32,
     "metadata": {},
     "output_type": "execute_result"
    }
   ],
   "source": [
    "isinstance(O2, B)"
   ]
  },
  {
   "cell_type": "code",
   "execution_count": 33,
   "metadata": {},
   "outputs": [
    {
     "data": {
      "text/plain": [
       "True"
      ]
     },
     "execution_count": 33,
     "metadata": {},
     "output_type": "execute_result"
    }
   ],
   "source": [
    "isinstance(O2, A)"
   ]
  },
  {
   "cell_type": "code",
   "execution_count": 34,
   "metadata": {},
   "outputs": [
    {
     "data": {
      "text/plain": [
       "True"
      ]
     },
     "execution_count": 34,
     "metadata": {},
     "output_type": "execute_result"
    }
   ],
   "source": [
    "issubclass(B, A)"
   ]
  },
  {
   "cell_type": "code",
   "execution_count": 35,
   "metadata": {},
   "outputs": [
    {
     "data": {
      "text/plain": [
       "True"
      ]
     },
     "execution_count": 35,
     "metadata": {},
     "output_type": "execute_result"
    }
   ],
   "source": [
    "issubclass(C, A)"
   ]
  },
  {
   "cell_type": "code",
   "execution_count": 36,
   "metadata": {},
   "outputs": [
    {
     "data": {
      "text/plain": [
       "False"
      ]
     },
     "execution_count": 36,
     "metadata": {},
     "output_type": "execute_result"
    }
   ],
   "source": [
    "issubclass(C, B)"
   ]
  },
  {
   "cell_type": "markdown",
   "metadata": {},
   "source": [
    "### Multi-Level Inheritance"
   ]
  },
  {
   "cell_type": "code",
   "execution_count": 37,
   "metadata": {},
   "outputs": [
    {
     "name": "stdout",
     "output_type": "stream",
     "text": [
      "B's Method\n"
     ]
    }
   ],
   "source": [
    "class E(B):\n",
    "    pass\n",
    "E1 = E()\n",
    "E1.myMethod()"
   ]
  },
  {
   "cell_type": "code",
   "execution_count": 38,
   "metadata": {},
   "outputs": [
    {
     "data": {
      "text/plain": [
       "True"
      ]
     },
     "execution_count": 38,
     "metadata": {},
     "output_type": "execute_result"
    }
   ],
   "source": [
    "isinstance(E1, A)"
   ]
  },
  {
   "cell_type": "code",
   "execution_count": 39,
   "metadata": {},
   "outputs": [
    {
     "data": {
      "text/plain": [
       "True"
      ]
     },
     "execution_count": 39,
     "metadata": {},
     "output_type": "execute_result"
    }
   ],
   "source": [
    "isinstance(E1, B)"
   ]
  },
  {
   "cell_type": "code",
   "execution_count": 40,
   "metadata": {},
   "outputs": [
    {
     "data": {
      "text/plain": [
       "True"
      ]
     },
     "execution_count": 40,
     "metadata": {},
     "output_type": "execute_result"
    }
   ],
   "source": [
    "isinstance(E1, E)"
   ]
  },
  {
   "cell_type": "markdown",
   "metadata": {},
   "source": [
    "### Multiple Inheritance"
   ]
  },
  {
   "cell_type": "code",
   "execution_count": 41,
   "metadata": {},
   "outputs": [],
   "source": [
    "class F:\n",
    "    pass\n",
    "class G(A, F):\n",
    "    pass\n",
    "G1 = G()"
   ]
  },
  {
   "cell_type": "code",
   "execution_count": 43,
   "metadata": {},
   "outputs": [
    {
     "data": {
      "text/plain": [
       "True"
      ]
     },
     "execution_count": 43,
     "metadata": {},
     "output_type": "execute_result"
    }
   ],
   "source": [
    "isinstance(G1, G)"
   ]
  },
  {
   "cell_type": "code",
   "execution_count": 44,
   "metadata": {},
   "outputs": [
    {
     "data": {
      "text/plain": [
       "True"
      ]
     },
     "execution_count": 44,
     "metadata": {},
     "output_type": "execute_result"
    }
   ],
   "source": [
    "isinstance(G1, A)"
   ]
  },
  {
   "cell_type": "code",
   "execution_count": 45,
   "metadata": {},
   "outputs": [
    {
     "data": {
      "text/plain": [
       "True"
      ]
     },
     "execution_count": 45,
     "metadata": {},
     "output_type": "execute_result"
    }
   ],
   "source": [
    "isinstance(G1, F)"
   ]
  },
  {
   "cell_type": "markdown",
   "metadata": {},
   "source": [
    "### Diamond Inheritance"
   ]
  },
  {
   "cell_type": "code",
   "execution_count": 47,
   "metadata": {},
   "outputs": [
    {
     "name": "stdout",
     "output_type": "stream",
     "text": [
      "H's method\n"
     ]
    }
   ],
   "source": [
    "class H(B, C):\n",
    "    def h_myMethod(self):\n",
    "        print(\"H's method\")\n",
    "\n",
    "H1 = H()\n",
    "H1.h_myMethod()"
   ]
  },
  {
   "cell_type": "code",
   "execution_count": 48,
   "metadata": {},
   "outputs": [
    {
     "name": "stdout",
     "output_type": "stream",
     "text": [
      "B's Method\n"
     ]
    }
   ],
   "source": [
    "H1.myMethod()"
   ]
  },
  {
   "cell_type": "code",
   "execution_count": 50,
   "metadata": {},
   "outputs": [
    {
     "data": {
      "text/plain": [
       "(__main__.H, __main__.B, __main__.C, __main__.A, object)"
      ]
     },
     "execution_count": 50,
     "metadata": {},
     "output_type": "execute_result"
    }
   ],
   "source": [
    "H.__mro__     #method resolution order (mro)"
   ]
  },
  {
   "cell_type": "code",
   "execution_count": null,
   "metadata": {},
   "outputs": [],
   "source": []
  }
 ],
 "metadata": {
  "kernelspec": {
   "display_name": "Python 3",
   "language": "python",
   "name": "python3"
  },
  "language_info": {
   "codemirror_mode": {
    "name": "ipython",
    "version": 3
   },
   "file_extension": ".py",
   "mimetype": "text/x-python",
   "name": "python",
   "nbconvert_exporter": "python",
   "pygments_lexer": "ipython3",
   "version": "3.8.2"
  }
 },
 "nbformat": 4,
 "nbformat_minor": 4
}
