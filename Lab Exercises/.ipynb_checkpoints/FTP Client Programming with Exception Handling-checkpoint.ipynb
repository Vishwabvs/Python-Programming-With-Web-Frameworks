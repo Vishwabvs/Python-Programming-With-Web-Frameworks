{
 "cells": [
  {
   "cell_type": "code",
   "execution_count": 1,
   "metadata": {},
   "outputs": [],
   "source": [
    "from ftplib import FTP, error_perm\n",
    "from os import unlink\n",
    "from socket import error, gaierror"
   ]
  },
  {
   "cell_type": "code",
   "execution_count": 5,
   "metadata": {},
   "outputs": [
    {
     "name": "stdout",
     "output_type": "stream",
     "text": [
      "Connected to host\n"
     ]
    }
   ],
   "source": [
    "try:\n",
    "    f = FTP('ftp.cs.brown.edu')\n",
    "except (error, gaierror) as e:\n",
    "    print('ERROR: cannot reach host')\n",
    "else:\n",
    "    print (\"Connected to host\")"
   ]
  },
  {
   "cell_type": "code",
   "execution_count": 27,
   "metadata": {},
   "outputs": [
    {
     "name": "stdout",
     "output_type": "stream",
     "text": [
      "Logged in as 'anonymous' user\n"
     ]
    }
   ],
   "source": [
    "try:\n",
    "    f.login()\n",
    "except error_perm:\n",
    "    print ('ERROR: cannot login anonymously')\n",
    "    f.quit()\n",
    "else:\n",
    "    print(\"Logged in as 'anonymous' user\")"
   ]
  },
  {
   "cell_type": "code",
   "execution_count": 32,
   "metadata": {},
   "outputs": [
    {
     "name": "stdout",
     "output_type": "stream",
     "text": [
      "Changed to folder 'pub/papers/theory'\n"
     ]
    }
   ],
   "source": [
    "try:\n",
    "    f.cwd(r'/pub/papers/theory')\n",
    "except error_perm:\n",
    "    print(\"ERROR: cannot change directory to 'pub/papers'\")\n",
    "    f.quit()\n",
    "else:\n",
    "    print(\"Changed to folder 'pub/papers/theory'\")\n"
   ]
  },
  {
   "cell_type": "code",
   "execution_count": 36,
   "metadata": {},
   "outputs": [
    {
     "name": "stdout",
     "output_type": "stream",
     "text": [
      "Downloaded cs252.tar.gz to cs252.tar.gz\n"
     ]
    }
   ],
   "source": [
    "try:\n",
    "    f.retrbinary('RETR cs252.tar.gz', open('cs252.tar.gz', 'wb').write)\n",
    "except error_perm:\n",
    "    print('ERROR: cannot read file cs252.tar.gz')\n",
    "    unlink('README')\n",
    "else:\n",
    "    print (\"Downloaded cs252.tar.gz to cs252.tar.gz\")"
   ]
  },
  {
   "cell_type": "code",
   "execution_count": 37,
   "metadata": {},
   "outputs": [
    {
     "data": {
      "text/plain": [
       "'221-Goodbye. You uploaded 0 and downloaded 29470 kbytes.\\n221 Logout.'"
      ]
     },
     "execution_count": 37,
     "metadata": {},
     "output_type": "execute_result"
    }
   ],
   "source": [
    "f.quit()"
   ]
  },
  {
   "cell_type": "code",
   "execution_count": null,
   "metadata": {},
   "outputs": [],
   "source": []
  }
 ],
 "metadata": {
  "kernelspec": {
   "display_name": "Python 3",
   "language": "python",
   "name": "python3"
  },
  "language_info": {
   "codemirror_mode": {
    "name": "ipython",
    "version": 3
   },
   "file_extension": ".py",
   "mimetype": "text/x-python",
   "name": "python",
   "nbconvert_exporter": "python",
   "pygments_lexer": "ipython3",
   "version": "3.8.2"
  }
 },
 "nbformat": 4,
 "nbformat_minor": 2
}
