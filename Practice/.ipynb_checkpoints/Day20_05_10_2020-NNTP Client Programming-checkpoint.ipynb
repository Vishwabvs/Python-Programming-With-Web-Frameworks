{
 "cells": [
  {
   "cell_type": "markdown",
   "metadata": {},
   "source": [
    "# Python Practice Day 20"
   ]
  },
  {
   "cell_type": "markdown",
   "metadata": {},
   "source": [
    "## NNTP Client Programming"
   ]
  },
  {
   "cell_type": "code",
   "execution_count": 1,
   "metadata": {},
   "outputs": [],
   "source": [
    "from nntplib import NNTP, decode_header"
   ]
  },
  {
   "cell_type": "code",
   "execution_count": 2,
   "metadata": {},
   "outputs": [],
   "source": [
    "n = NNTP('news.aioe.org')"
   ]
  },
  {
   "cell_type": "code",
   "execution_count": 3,
   "metadata": {},
   "outputs": [],
   "source": [
    "resp, count, first, last, name = n.group('comp.lang.python')"
   ]
  },
  {
   "cell_type": "code",
   "execution_count": 4,
   "metadata": {},
   "outputs": [
    {
     "name": "stdout",
     "output_type": "stream",
     "text": [
      "Group: comp.lang.python has 3300 articles, range 229933 to 233239\n"
     ]
    }
   ],
   "source": [
    "print('Group:', name, 'has', count, 'articles, range', first, 'to', last)"
   ]
  },
  {
   "cell_type": "code",
   "execution_count": 5,
   "metadata": {},
   "outputs": [],
   "source": [
    "resp, overviews = n.over((first, first+20))"
   ]
  },
  {
   "cell_type": "code",
   "execution_count": 6,
   "metadata": {},
   "outputs": [
    {
     "name": "stdout",
     "output_type": "stream",
     "text": [
      "229938 Drawing inside the turtle canvas\n",
      "229939 Re: Drawing inside the turtle canvas\n",
      "229940 Re: unable to write content in csv filw\n",
      "229941 Re: Function to avoid a global variable\n",
      "229942 Re: Function to avoid a global variable\n",
      "229943 Re: Function to avoid a global variable\n",
      "229944 matplotlib: Difference between Axes and AxesSubplot\n",
      "229945 Re: Function to avoid a global variable\n",
      "229946 Re: Function to avoid a global variable\n",
      "229947 Test bank for Financial accounting 9th Australia Edition by Craig Deegan\n",
      "229948 Re: Function to avoid a global variable\n",
      "229949 Re: Function to avoid a global variable\n",
      "229950 Re: Function to avoid a global variable\n",
      "229951 Re: Function to avoid a global variable\n",
      "229952 Re: Function to avoid a global variable\n",
      "229953 Re: Function to avoid a global variable\n"
     ]
    }
   ],
   "source": [
    "for id, over in overviews:\n",
    "    print(id, decode_header(over['subject']))"
   ]
  },
  {
   "cell_type": "code",
   "execution_count": 7,
   "metadata": {},
   "outputs": [
    {
     "data": {
      "text/plain": [
       "5"
      ]
     },
     "execution_count": 7,
     "metadata": {},
     "output_type": "execute_result"
    }
   ],
   "source": [
    "from datetime import timedelta, date\n",
    "resp, groups = n.newgroups(date.today() - timedelta(weeks = 30))\n",
    "len(groups)"
   ]
  },
  {
   "cell_type": "code",
   "execution_count": 8,
   "metadata": {},
   "outputs": [
    {
     "name": "stdout",
     "output_type": "stream",
     "text": [
      "0 :  GroupInfo(group='it.eventi.covid19', last='2013', first='1', flag='y')\n",
      "1 :  GroupInfo(group='apple.lists.applescript-users', last='0', first='1', flag='y')\n",
      "2 :  GroupInfo(group='alt.info-science', last='25', first='1', flag='y')\n",
      "3 :  GroupInfo(group='scinet.stats', last='4067', first='1', flag='y')\n",
      "4 :  GroupInfo(group='free.homesteading.kiwis', last='0', first='1', flag='y')\n"
     ]
    }
   ],
   "source": [
    "for i in range(len(groups)):\n",
    "    print(i, \": \", groups[i])"
   ]
  },
  {
   "cell_type": "code",
   "execution_count": 10,
   "metadata": {},
   "outputs": [],
   "source": [
    "resp, count, first, last, name = n.group('it.eventi.covid19')"
   ]
  },
  {
   "cell_type": "code",
   "execution_count": 11,
   "metadata": {},
   "outputs": [
    {
     "name": "stdout",
     "output_type": "stream",
     "text": [
      "Group: it.eventi.covid19 has 1922 articles, range 1 to 2013\n"
     ]
    }
   ],
   "source": [
    "print('Group:', name, 'has', count, 'articles, range', first, 'to', last)"
   ]
  },
  {
   "cell_type": "code",
   "execution_count": 12,
   "metadata": {},
   "outputs": [
    {
     "name": "stdout",
     "output_type": "stream",
     "text": [
      "1 Oh finalmente!\n",
      "2 Comunque, appena finisce questa emergenza\n",
      "3 Facciamo pubblicità a questo gruppo\n",
      "4 Re: Comunque, appena finisce questa emergenza\n",
      "5 Mi raccomando\n",
      "6 Re: Oh finalmente!\n",
      "7 non se ne sentiva il bisogno\n",
      "8 Re: Comunque, appena finisce questa emergenza\n",
      "9 Re: non se ne sentiva il bisogno\n",
      "10 Panzironi e il Coronavirus\n",
      "11 Re: Panzironi e il Coronavirus\n"
     ]
    }
   ],
   "source": [
    "resp, overviews = n.over((first, first+10))\n",
    "for id, over in overviews:\n",
    "    print(id, decode_header(over['subject']))"
   ]
  },
  {
   "cell_type": "code",
   "execution_count": 13,
   "metadata": {},
   "outputs": [
    {
     "name": "stdout",
     "output_type": "stream",
     "text": [
      "1 <r5jico$1337$1@gioia.aioe.org>\n",
      "2 <r5kcms$6a0$2@dont-email.me>\n",
      "3 <mn.da427e43a97d4531.147270@taf.org>\n",
      "4 <mn.da477e43ae7a5c4d.105228@mynewsgate.net>\n",
      "5 <mn.da487e438173d20f.105228@mynewsgate.net>\n",
      "6 <mn.da4b7e434c4268f0.105228@mynewsgate.net>\n",
      "7 <r5kjqn$kqf$1@dont-email.me>\n",
      "8 <r5km8h$ffv$2@gioia.aioe.org>\n",
      "9 <mn.dad87e43e93c2294.142705@Kiss>\n",
      "10 <r5kp3o$pkf$1@dont-email.me>\n",
      "11 <r5kpa5$r26$1@dont-email.me>\n"
     ]
    }
   ],
   "source": [
    "for id, over in overviews:\n",
    "    print(id, decode_header(over['message-id']))"
   ]
  },
  {
   "cell_type": "code",
   "execution_count": 14,
   "metadata": {},
   "outputs": [],
   "source": [
    "resp, info = n.article('<r5jico$1337$1@gioia.aioe.org>')"
   ]
  },
  {
   "cell_type": "code",
   "execution_count": 15,
   "metadata": {},
   "outputs": [
    {
     "name": "stdout",
     "output_type": "stream",
     "text": [
      "b'Path: aioe.org!.POSTED.EMFKD0o+bxudnkKI/YRc5g.user.gioia.aioe.org!not-for-mail'\n",
      "b'From: Daniele Orlandi <daniele@orlandi.com>'\n",
      "b'Newsgroups: it.eventi.covid19'\n",
      "b'Subject: Oh finalmente!'\n",
      "b'Date: Fri, 27 Mar 2020 01:46:18 +0100'\n",
      "b'Organization: Aioe.org NNTP Server'\n",
      "b'Lines: 2'\n",
      "b'Message-ID: <r5jico$1337$1@gioia.aioe.org>'\n",
      "b'NNTP-Posting-Host: EMFKD0o+bxudnkKI/YRc5g.user.gioia.aioe.org'\n",
      "b'Mime-Version: 1.0'\n",
      "b'Content-Type: text/plain; charset=utf-8'\n",
      "b'Content-Transfer-Encoding: 7bit'\n",
      "b'X-Complaints-To: abuse@aioe.org'\n",
      "b'User-Agent: Mozilla/5.0 (X11; Linux x86_64; rv:68.0) Gecko/20100101'\n",
      "b' Thunderbird/68.4.1'\n",
      "b'Content-Language: en-US'\n",
      "b'X-Notice: Filtered by postfilter v. 0.9.2'\n",
      "b'X-Mozilla-News-Host: news://news.aioe.org:119'\n",
      "b'Xref: aioe.org it.eventi.covid19:1'\n",
      "b''\n",
      "b''\n",
      "b'Si aprano le danze, non accalcatevi, prego!'\n"
     ]
    }
   ],
   "source": [
    "for i in range(len(info.lines)):\n",
    "    print(info.lines[i])"
   ]
  },
  {
   "cell_type": "code",
   "execution_count": 16,
   "metadata": {},
   "outputs": [],
   "source": [
    "rsp, ct, fst, lst, grp = n.group('comp.lang.python')"
   ]
  },
  {
   "cell_type": "code",
   "execution_count": null,
   "metadata": {},
   "outputs": [],
   "source": []
  }
 ],
 "metadata": {
  "kernelspec": {
   "display_name": "Python 3",
   "language": "python",
   "name": "python3"
  },
  "language_info": {
   "codemirror_mode": {
    "name": "ipython",
    "version": 3
   },
   "file_extension": ".py",
   "mimetype": "text/x-python",
   "name": "python",
   "nbconvert_exporter": "python",
   "pygments_lexer": "ipython3",
   "version": "3.8.2"
  }
 },
 "nbformat": 4,
 "nbformat_minor": 4
}
