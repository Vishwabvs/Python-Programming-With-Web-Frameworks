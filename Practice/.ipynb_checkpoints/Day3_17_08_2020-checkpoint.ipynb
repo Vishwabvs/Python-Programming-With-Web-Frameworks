{
 "cells": [
  {
   "cell_type": "markdown",
   "metadata": {},
   "source": [
    "# Python Practice Day3"
   ]
  },
  {
   "cell_type": "markdown",
   "metadata": {},
   "source": [
    "## Functions and Variable Scopes"
   ]
  },
  {
   "cell_type": "code",
   "execution_count": 4,
   "metadata": {},
   "outputs": [],
   "source": [
    "x = 10 #having global scope"
   ]
  },
  {
   "cell_type": "code",
   "execution_count": 5,
   "metadata": {},
   "outputs": [
    {
     "name": "stdout",
     "output_type": "stream",
     "text": [
      "20\n"
     ]
    }
   ],
   "source": [
    "def f1():\n",
    "    x = 20    #local scope object\n",
    "    print(x)\n",
    "    \n",
    "f1()"
   ]
  },
  {
   "cell_type": "code",
   "execution_count": 6,
   "metadata": {},
   "outputs": [
    {
     "name": "stdout",
     "output_type": "stream",
     "text": [
      "30\n",
      "20\n"
     ]
    }
   ],
   "source": [
    "def f1():\n",
    "    x = 20\n",
    "    def f2():\n",
    "        x = 30\n",
    "        print(x)\n",
    "    f2()\n",
    "    print(x)\n",
    "f1()"
   ]
  },
  {
   "cell_type": "code",
   "execution_count": 8,
   "metadata": {},
   "outputs": [
    {
     "name": "stdout",
     "output_type": "stream",
     "text": [
      "20\n",
      "20\n"
     ]
    }
   ],
   "source": [
    "def f1():\n",
    "    x = 20\n",
    "    def f2():\n",
    "        print(x)   #takes the value form nonlocal namespace\n",
    "    f2()\n",
    "    print(x)\n",
    "f1()"
   ]
  },
  {
   "cell_type": "code",
   "execution_count": 10,
   "metadata": {},
   "outputs": [
    {
     "name": "stdout",
     "output_type": "stream",
     "text": [
      "20\n",
      "20\n"
     ]
    }
   ],
   "source": [
    "x = 20    #having global scope\n",
    "def f1():\n",
    "    def f2():\n",
    "        print(x)\n",
    "    f2()\n",
    "    print(x)\n",
    "f1()"
   ]
  },
  {
   "cell_type": "markdown",
   "metadata": {},
   "source": [
    "#### If we want to change the value of a global variable inside a function"
   ]
  },
  {
   "cell_type": "code",
   "execution_count": 14,
   "metadata": {},
   "outputs": [
    {
     "name": "stdout",
     "output_type": "stream",
     "text": [
      "30\n",
      "30\n",
      "30\n"
     ]
    }
   ],
   "source": [
    "x = 20    #having global scope\n",
    "def f1():\n",
    "    global x   #accessing global variable\n",
    "    x = 30\n",
    "    def f2():\n",
    "        print(x)\n",
    "    f2()\n",
    "    print(x)\n",
    "f1()\n",
    "print(x)"
   ]
  },
  {
   "cell_type": "code",
   "execution_count": 15,
   "metadata": {},
   "outputs": [
    {
     "name": "stdout",
     "output_type": "stream",
     "text": [
      "30\n",
      "30\n",
      "20\n"
     ]
    }
   ],
   "source": [
    "x = 20    #having global scope\n",
    "def f1():\n",
    "    x = 30     #not global variable\n",
    "    def f2():\n",
    "        print(x)\n",
    "    f2()\n",
    "    print(x)\n",
    "f1()\n",
    "print(x)"
   ]
  },
  {
   "cell_type": "markdown",
   "metadata": {},
   "source": [
    "#### Change the value of x belonging to f1 inside f2"
   ]
  },
  {
   "cell_type": "code",
   "execution_count": 17,
   "metadata": {},
   "outputs": [
    {
     "name": "stdout",
     "output_type": "stream",
     "text": [
      "40\n",
      "30\n",
      "20\n"
     ]
    }
   ],
   "source": [
    "x = 20    #having global scope\n",
    "def f1():\n",
    "    x = 30      \n",
    "    def f2():\n",
    "        x = 40    #creating another local variable that is local to f2\n",
    "        print(x)\n",
    "    f2()\n",
    "    print(x)\n",
    "f1()\n",
    "print(x)"
   ]
  },
  {
   "cell_type": "code",
   "execution_count": 18,
   "metadata": {},
   "outputs": [
    {
     "name": "stdout",
     "output_type": "stream",
     "text": [
      "40\n",
      "40\n",
      "20\n"
     ]
    }
   ],
   "source": [
    "x = 20    #having global scope\n",
    "def f1():\n",
    "    x = 30      \n",
    "    def f2():\n",
    "        nonlocal x\n",
    "        x = 40    #accessing x belonging to f1()\n",
    "        print(x)\n",
    "    f2()\n",
    "    print(x)\n",
    "f1()\n",
    "print(x)"
   ]
  },
  {
   "cell_type": "markdown",
   "metadata": {},
   "source": [
    "## Using Modules"
   ]
  },
  {
   "cell_type": "code",
   "execution_count": 20,
   "metadata": {},
   "outputs": [
    {
     "name": "stdout",
     "output_type": "stream",
     "text": [
      "40\n",
      "40\n"
     ]
    }
   ],
   "source": [
    "import s1  #s1.py saved in current dir\n",
    "s1.f1()"
   ]
  },
  {
   "cell_type": "code",
   "execution_count": 22,
   "metadata": {},
   "outputs": [
    {
     "name": "stdout",
     "output_type": "stream",
     "text": [
      "40\n",
      "40\n"
     ]
    }
   ],
   "source": [
    "import s1 as sample\n",
    "sample.f1() "
   ]
  },
  {
   "cell_type": "code",
   "execution_count": 24,
   "metadata": {},
   "outputs": [
    {
     "name": "stdout",
     "output_type": "stream",
     "text": [
      "Enter celsius: 30\n",
      "Equivalent Temperature in Fahrenheit is  86.0\n",
      "Enter Fahrenheit: 86\n",
      "Equivalent Temperature in Celsius is  30.0\n"
     ]
    }
   ],
   "source": [
    "import celsius_fahrenheit as cf#celsius_fahrenheit.py is saved in current dir\n",
    "c = int(input('Enter celsius: '))\n",
    "print('Equivalent Temperature in Fahrenheit is ', cf.to_fahrenheit(c))\n",
    "f = int(input('Enter Fahrenheit: '))\n",
    "print('Equivalent Temperature in Celsius is ', cf.to_celsius(f))"
   ]
  }
 ],
 "metadata": {
  "kernelspec": {
   "display_name": "Python 3",
   "language": "python",
   "name": "python3"
  },
  "language_info": {
   "codemirror_mode": {
    "name": "ipython",
    "version": 3
   },
   "file_extension": ".py",
   "mimetype": "text/x-python",
   "name": "python",
   "nbconvert_exporter": "python",
   "pygments_lexer": "ipython3",
   "version": "3.8.2"
  }
 },
 "nbformat": 4,
 "nbformat_minor": 4
}
