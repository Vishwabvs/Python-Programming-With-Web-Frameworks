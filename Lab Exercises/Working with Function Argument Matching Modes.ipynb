{
 "cells": [
  {
   "cell_type": "markdown",
   "metadata": {},
   "source": [
    "# Arguments Matching Modes"
   ]
  },
  {
   "cell_type": "code",
   "execution_count": null,
   "metadata": {},
   "outputs": [],
   "source": [
    "def min1(*args):\n",
    "    res = args[0]\n",
    "    for arg in args[1:]:\n",
    "        if arg < res:\n",
    "            res = arg\n",
    "    return res\n",
    "min1(61, 72, 31, 9, 12, 45, 8)\n",
    "min1(60)"
   ]
  },
  {
   "cell_type": "code",
   "execution_count": null,
   "metadata": {},
   "outputs": [],
   "source": [
    "def min2(first, *rest):\n",
    "    for arg in rest:\n",
    "        if arg < first:\n",
    "            first = arg\n",
    "    return first\n",
    "min2(61, 72, 31, 24, 15, 9)\n",
    "min2(60)"
   ]
  },
  {
   "cell_type": "code",
   "execution_count": null,
   "metadata": {},
   "outputs": [],
   "source": [
    "def f(a, b, c):             # Normal Argument Parameter\n",
    "    print(a, b, c)\n",
    "f(1, 2, 3)                  # Normal Argument Passing - Matching by position"
   ]
  },
  {
   "cell_type": "code",
   "execution_count": null,
   "metadata": {},
   "outputs": [],
   "source": [
    "def f(a, b, c):              # Normal Argument Parameter\n",
    "    print(a, b, c)\n",
    "f(c=3, b=2, a=1)             # Argument Passing by name - Matching by name"
   ]
  },
  {
   "cell_type": "code",
   "execution_count": null,
   "metadata": {},
   "outputs": [],
   "source": [
    "f(1, c=3, b=2)               # combining both positional and named arguments"
   ]
  },
  {
   "cell_type": "code",
   "execution_count": null,
   "metadata": {},
   "outputs": [],
   "source": [
    "def f(a, b=2, c=3):          # Default Argument \n",
    "    print(a, b, c)\n",
    "f(1)\n",
    "f(a=1, b=5)\n",
    "f(1, 9, 12)"
   ]
  },
  {
   "cell_type": "code",
   "execution_count": null,
   "metadata": {},
   "outputs": [],
   "source": [
    "def f(*a):                   # star argument in function definition for collecting multiple values\n",
    "    print(a)\n",
    "f(1,2,3,4)"
   ]
  },
  {
   "cell_type": "code",
   "execution_count": null,
   "metadata": {},
   "outputs": [],
   "source": [
    "def f(**a):                 # dictionary argument in function definition for collecting multiple keyword arguments\n",
    "    print(a)\n",
    "f(x=1, y=2, z=3, w=4)"
   ]
  },
  {
   "cell_type": "code",
   "execution_count": null,
   "metadata": {},
   "outputs": [],
   "source": [
    "def f(a, *b, **c):          # combining positional, star and dictionary arguments in function definition\n",
    "    print('a=', a, 'b=', b, 'c=', c)\n",
    "f(1, 2, 3, 4, 5, x=10, y=20)"
   ]
  },
  {
   "cell_type": "code",
   "execution_count": null,
   "metadata": {},
   "outputs": [],
   "source": [
    "def f(a,b,c,d): \n",
    "    print('a=', a, 'b=', b, 'c=', c, 'd=', d)\n",
    "x=[1,2,3,4]\n",
    "f(*x)                               # Unpacking of values before the function call ----- f(1,2,3,4)"
   ]
  },
  {
   "cell_type": "code",
   "execution_count": null,
   "metadata": {},
   "outputs": [],
   "source": [
    "x={'a':4, 'b':6, 'd':1, 'c':5}\n",
    "f(**x)                              # Unpacking of keyword arguments from dictionary before function call ---- f(a=4, b=6, d=1, c=5)"
   ]
  },
  {
   "cell_type": "code",
   "execution_count": null,
   "metadata": {},
   "outputs": [],
   "source": [
    "f(1, *(2,3), **{'d':4})             # combining normal argument with unpacking type argument passing in function call --- f(1,2,3,d=4)"
   ]
  },
  {
   "cell_type": "code",
   "execution_count": null,
   "metadata": {},
   "outputs": [],
   "source": []
  }
 ],
 "metadata": {
  "kernelspec": {
   "display_name": "Python 3",
   "language": "python",
   "name": "python3"
  },
  "language_info": {
   "codemirror_mode": {
    "name": "ipython",
    "version": 3
   },
   "file_extension": ".py",
   "mimetype": "text/x-python",
   "name": "python",
   "nbconvert_exporter": "python",
   "pygments_lexer": "ipython3",
   "version": "3.7.4"
  }
 },
 "nbformat": 4,
 "nbformat_minor": 2
}
