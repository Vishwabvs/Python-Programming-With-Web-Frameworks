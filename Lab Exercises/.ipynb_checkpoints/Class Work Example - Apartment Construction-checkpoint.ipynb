{
 "cells": [
  {
   "cell_type": "markdown",
   "metadata": {},
   "source": [
    "# Class Work Example"
   ]
  },
  {
   "cell_type": "markdown",
   "metadata": {},
   "source": [
    "### Create a class called Room to hold breadth & length as private members. Provide 2-parameter constructor for initialization, getter and setter methods for each attribute, a getArea() method to calculate and return the area of the room and, a str() method for displaying the instance object in the format “Breadth: breadth, Length: length” and a repr() method to display the instance object in the format “(breadth, length)”."
   ]
  },
  {
   "cell_type": "code",
   "execution_count": 3,
   "metadata": {},
   "outputs": [],
   "source": [
    "class Room:\n",
    "    def __init__(self, len, br):\n",
    "        self.__length = len\n",
    "        self.__breadth = br\n",
    "    def getArea(self):\n",
    "        return self.__length * self.__breadth\n",
    "    def __str__(self):\n",
    "        return \"Breadth: \" + str(self.__breadth) + \" Length: \" + str(self.__length)\n",
    "    def __repr__(self):\n",
    "        return \"(\" + str(self.__breadth) + \", \" + str(self.__length) + \")\""
   ]
  },
  {
   "cell_type": "markdown",
   "metadata": {},
   "source": [
    "### Derive four sub classes namely Kitchen, Hall, Studyroom, and Bedroom. In each of these classes provide 2-parameter constructor that takes breadth & length as parameters and calls the super class constructor to initialize them. Define a method getRoomType() that returns the type of the room as either Kitchen or Hall or Study Room or Bed Room based on the class. Provide the __str__() and __repr__() methods to display the description about the room by making use of super class methods, but now prefixed with the room type and suffixed with the area of the room like “Roomtype: Breadth: breadth, Length: length & Area : area” and “[Room type: (breadth, length), area]”. "
   ]
  },
  {
   "cell_type": "code",
   "execution_count": 4,
   "metadata": {},
   "outputs": [],
   "source": [
    "class Kitchen(Room):\n",
    "    def __init__(self, l, b):\n",
    "        super().__init__(l, b)\n",
    "    def getRoomType(self):\n",
    "        return \"Kitchen\"\n",
    "    def __str__(self):\n",
    "        return self.getRoomType() + \": \" + super().__str__() + \" Area: \" + str(super().getArea())\n",
    "    def __repr__(self):\n",
    "        return \"[\" + self.getRoomType() + \", \" + super().__repr__() + \", \" + str(super().getArea()) + \"]\"\n",
    "class Hall(Room):\n",
    "    def __init__(self, l, b):\n",
    "        super().__init__(l,b)\n",
    "    def getRoomType(self):\n",
    "        return \"Hall\"\n",
    "    def __str__(self):\n",
    "        return self.getRoomType() + \": \" + super().__str__() + \" Area: \" + str(super().getArea())\n",
    "    def __repr__(self):\n",
    "        return \"[\" + self.getRoomType() + \", \" + super().__repr__() + \", \" + str(super().getArea()) + \"]\"\n",
    "    \n",
    "class StudyRoom(Room):\n",
    "    def __init__(self, l, b):\n",
    "        super().__init__(l,b)\n",
    "    def getRoomType(self):\n",
    "        return \"Study Room\"\n",
    "    def __str__(self):\n",
    "        return self.getRoomType() + \": \" + super().__str__() + \" Area: \" + str(super().getArea())\n",
    "    def __repr__(self):\n",
    "        return \"[\" + self.getRoomType() + \", \" + super().__repr__() + \", \" + str(super().getArea()) + \"]\"    \n",
    "    \n",
    "class BedRoom(Room):\n",
    "    def __init__(self, l, b):\n",
    "        super().__init__(l,b)\n",
    "    def getRoomType(self):\n",
    "        return \"Bed Room\"\n",
    "    def __str__(self):\n",
    "        return self.getRoomType() + \": \" + super().__str__() + \" Area: \" + str(super().getArea())\n",
    "    def __repr__(self):\n",
    "        return \"[\" + self.getRoomType() + \", \" + super().__repr__() + \", \" + str(super().getArea()) + \"]\""
   ]
  },
  {
   "cell_type": "markdown",
   "metadata": {},
   "source": [
    "### Create a class called House to hold private data members of instance objects of Kitchen, Hall, Studyroom and a List of Bedroom. Provide a 4-parameter constructor to assign the instance objects of Kitchen, Hall, studyroom and bedroom list to the instance object of House. Provide the __str__() method to display the description about each room in the house by making use of the __str__() methods of appropriate classes"
   ]
  },
  {
   "cell_type": "code",
   "execution_count": 5,
   "metadata": {},
   "outputs": [],
   "source": [
    "class House:\n",
    "    def __init__(self, K, H, S, BL):\n",
    "        self.__kitchen = K\n",
    "        self.__hall = H\n",
    "        self.__studyroom = S\n",
    "        self.__bedroomlist = BL\n",
    "    def __str__(self):\n",
    "        return str(self.__kitchen) + \"\\n\"+str(self.__hall) + \"\\n\"+str(self.__studyroom) + \"\\n\" + str(self.__bedroomlist)\n",
    "\n",
    "    "
   ]
  },
  {
   "cell_type": "markdown",
   "metadata": {},
   "source": [
    "### Create a class called TwoBHK to build a house with two bedrooms, another class called ThreeBHK to build a house with three bedrooms. Create List of Houses that can hold instance objects of TwoBHK and ThreeBHK. "
   ]
  },
  {
   "cell_type": "code",
   "execution_count": 6,
   "metadata": {},
   "outputs": [],
   "source": [
    "class TwoBHK(House):\n",
    "    def __init__(self, K, H, S, B1, B2):\n",
    "        super().__init__(K, H, S, [B1, B2])\n",
    "    def __str__(self):\n",
    "        return super().__str__()\n",
    "class ThreeBHK(House):\n",
    "    def __init__(self, K, H, S, B1, B2, B3):\n",
    "        super().__init__(K, H, S, [B1, B2, B3])\n",
    "    def __str(self):\n",
    "        return super().__str__()"
   ]
  },
  {
   "cell_type": "markdown",
   "metadata": {},
   "source": [
    "### Get the number of houses to construct, and for each such house get the parameters from the user whether 2BHK or 3BHK house and length and breadth of each room in each house. Display the description about all houses"
   ]
  },
  {
   "cell_type": "code",
   "execution_count": 8,
   "metadata": {},
   "outputs": [
    {
     "name": "stdout",
     "output_type": "stream",
     "text": [
      "Enter number of houses to construct: 1\n",
      "Enter type of house [2BHK or 3BHK]2\n",
      "Enter Kitchen Length: 3\n",
      "Enter Kitchen Breadth: 4\n",
      "Enter Hall Length: 4\n",
      "Enter Hall Breadth: 2\n",
      "Enter Studyroom Length: 3\n",
      "Enter Studyroom Breadth: 2\n",
      "Enter Bedroom - 1 Length: 1\n",
      "Enter Bedroom - 1 Breadth: 3\n",
      "Enter Bedroom - 2 Length: 4\n",
      "Enter Bedroom - 2 Breadth: 3\n",
      "House: \n",
      " Kitchen: Breadth: 4 Length: 3 Area: 12\n",
      "Hall: Breadth: 2 Length: 4 Area: 8\n",
      "Study Room: Breadth: 2 Length: 3 Area: 6\n",
      "[[Bed Room, (3, 1), 3], [Bed Room, (3, 4), 12]]\n"
     ]
    }
   ],
   "source": [
    "def Construct_House():\n",
    "    n = int(input(\"Enter number of houses to construct: \"))\n",
    "    Apartment = []\n",
    "    for i in range(n):\n",
    "        housetype = input(\"Enter type of house [2BHK or 3BHK]\")\n",
    "        if housetype == \"2BHK\" or housetype == \"2\":\n",
    "            K_length = int(input(\"Enter Kitchen Length: \"))\n",
    "            K_breadth = int(input(\"Enter Kitchen Breadth: \"))\n",
    "            K = Kitchen(K_length, K_breadth)\n",
    "            H_length = int(input(\"Enter Hall Length: \"))\n",
    "            H_breadth = int(input(\"Enter Hall Breadth: \"))\n",
    "            H = Hall(H_length, H_breadth)\n",
    "            S_length = int(input(\"Enter Studyroom Length: \"))\n",
    "            S_breadth = int(input(\"Enter Studyroom Breadth: \"))\n",
    "            S = StudyRoom(S_length, S_breadth)\n",
    "            B_length = int(input(\"Enter Bedroom - 1 Length: \"))\n",
    "            B_breadth = int(input(\"Enter Bedroom - 1 Breadth: \"))\n",
    "            B1 = BedRoom(B_length, B_breadth)\n",
    "            B_length = int(input(\"Enter Bedroom - 2 Length: \"))\n",
    "            B_breadth = int(input(\"Enter Bedroom - 2 Breadth: \"))\n",
    "            B2 = BedRoom(B_length, B_breadth)\n",
    "            TB = TwoBHK(K, H, S, B1, B2)\n",
    "        else:\n",
    "            K_length = int(input(\"Enter Kitchen Length: \"))\n",
    "            K_breadth = int(input(\"Enter Kitchen Breadth: \"))\n",
    "            K = Kitchen(K_length, K_breadth)\n",
    "            H_length = int(input(\"Enter Hall Length: \"))\n",
    "            H_breadth = int(input(\"Enter Hall Breadth: \"))\n",
    "            H = Hall(H_length, H_breadth)\n",
    "            S_length = int(input(\"Enter Studyroom Length: \"))\n",
    "            S_breadth = int(input(\"Enter Studyroom Breadth: \"))\n",
    "            S = StudyRoom(S_length, S_breadth)\n",
    "            B_length = int(input(\"Enter Bedroom - 1 Length: \"))\n",
    "            B_breadth = int(input(\"Enter Bedroom - 1 Breadth: \"))\n",
    "            B1 = BedRoom(B_length, B_breadth)\n",
    "            B_length = int(input(\"Enter Bedroom - 2 Length: \"))\n",
    "            B_breadth = int(input(\"Enter Bedroom - 2 Breadth: \"))\n",
    "            B2 = BedRoom(B_length, B_breadth)\n",
    "            B_length = int(input(\"Enter Bedroom - 3 Length: \"))\n",
    "            B_breadth = int(input(\"Enter Bedroom - 3 Breadth: \"))\n",
    "            B3 = BedRoom(B_length, B_breadth)\n",
    "            TB = ThreeBHK(K, H, S, B1, B2, B3)\n",
    "        Apartment.append(TB)\n",
    "    for house in Apartment:\n",
    "        print(\"House: \\n\", house)\n",
    "Construct_House()"
   ]
  }
 ],
 "metadata": {
  "kernelspec": {
   "display_name": "Python 3",
   "language": "python",
   "name": "python3"
  },
  "language_info": {
   "codemirror_mode": {
    "name": "ipython",
    "version": 3
   },
   "file_extension": ".py",
   "mimetype": "text/x-python",
   "name": "python",
   "nbconvert_exporter": "python",
   "pygments_lexer": "ipython3",
   "version": "3.8.2"
  }
 },
 "nbformat": 4,
 "nbformat_minor": 2
}
