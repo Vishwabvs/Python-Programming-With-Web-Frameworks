{
 "cells": [
  {
   "cell_type": "markdown",
   "metadata": {},
   "source": [
    "# Assessment 2"
   ]
  },
  {
   "cell_type": "markdown",
   "metadata": {},
   "source": [
    "1.Store a matrix of order m x n as a list of lists. Write a list comprehension to find the transpose of\n",
    "the matrix.\n",
    "\n",
    "Input: L = [[2, 3, 5, 1, 8], [4, 1, 2, 6, 1], [6, 4, 5, 7, 9]]\n",
    "\n",
    "Expected Output: [[2, 4, 6], [3,1, 4], [5, 2, 5], [1, 6, 7], [8, 1, 9]]"
   ]
  },
  {
   "cell_type": "code",
   "execution_count": 37,
   "metadata": {},
   "outputs": [],
   "source": [
    "L = [[2, 3, 5, 1, 8], [4, 1, 2, 6, 1], [6, 4, 5, 7, 9]]"
   ]
  },
  {
   "cell_type": "code",
   "execution_count": 38,
   "metadata": {},
   "outputs": [],
   "source": [
    "mat = [[L[j][i] for j in range(len(L))] for i in range(len(L[0]))]"
   ]
  },
  {
   "cell_type": "code",
   "execution_count": 39,
   "metadata": {},
   "outputs": [
    {
     "data": {
      "text/plain": [
       "[[2, 4, 6], [3, 1, 4], [5, 2, 5], [1, 6, 7], [8, 1, 9]]"
      ]
     },
     "execution_count": 39,
     "metadata": {},
     "output_type": "execute_result"
    }
   ],
   "source": [
    "mat"
   ]
  },
  {
   "cell_type": "code",
   "execution_count": null,
   "metadata": {},
   "outputs": [],
   "source": []
  },
  {
   "cell_type": "markdown",
   "metadata": {},
   "source": [
    "2.Get a string as input from user. Create a dictionary containing for each character in the string,\n",
    "how many times that character appears in the string using dictionary comprehension\n",
    "\n",
    "Input: s = 'string is a string is a string'\n",
    "\n",
    "Expected Output: {'s':5, 't':3, 'r':3, 'i':5, 'n':3, 'g':3, ' ':6, 'a':2 }"
   ]
  },
  {
   "cell_type": "code",
   "execution_count": 47,
   "metadata": {},
   "outputs": [],
   "source": [
    "string = 'string is a string is a string'"
   ]
  },
  {
   "cell_type": "code",
   "execution_count": 48,
   "metadata": {},
   "outputs": [],
   "source": [
    "D = {}"
   ]
  },
  {
   "cell_type": "code",
   "execution_count": 54,
   "metadata": {},
   "outputs": [],
   "source": [
    "L = list(string)\n",
    "D = {x:string.count(x) for x in string}"
   ]
  },
  {
   "cell_type": "code",
   "execution_count": 55,
   "metadata": {},
   "outputs": [
    {
     "data": {
      "text/plain": [
       "{'s': 5, 't': 3, 'r': 3, 'i': 5, 'n': 3, 'g': 3, ' ': 6, 'a': 2}"
      ]
     },
     "execution_count": 55,
     "metadata": {},
     "output_type": "execute_result"
    }
   ],
   "source": [
    "D"
   ]
  }
 ],
 "metadata": {
  "kernelspec": {
   "display_name": "Python 3",
   "language": "python",
   "name": "python3"
  },
  "language_info": {
   "codemirror_mode": {
    "name": "ipython",
    "version": 3
   },
   "file_extension": ".py",
   "mimetype": "text/x-python",
   "name": "python",
   "nbconvert_exporter": "python",
   "pygments_lexer": "ipython3",
   "version": "3.8.2"
  }
 },
 "nbformat": 4,
 "nbformat_minor": 4
}
