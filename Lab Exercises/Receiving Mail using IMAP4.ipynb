{
 "cells": [
  {
   "cell_type": "code",
   "execution_count": 8,
   "metadata": {},
   "outputs": [],
   "source": [
    "from imaplib import IMAP4_SSL\n",
    "import getpass\n",
    "import email"
   ]
  },
  {
   "cell_type": "code",
   "execution_count": 9,
   "metadata": {},
   "outputs": [],
   "source": [
    "server = IMAP4_SSL('imap.gmail.com')"
   ]
  },
  {
   "cell_type": "code",
   "execution_count": 10,
   "metadata": {},
   "outputs": [
    {
     "name": "stdout",
     "output_type": "stream",
     "text": [
      "Enter your password: ········\n"
     ]
    },
    {
     "data": {
      "text/plain": [
       "('OK', [b'122015115@sastra.ac.in authenticated (Success)'])"
      ]
     },
     "execution_count": 10,
     "metadata": {},
     "output_type": "execute_result"
    }
   ],
   "source": [
    "server.login(\"122015115@sastra.ac.in\", getpass.getpass(\"Enter your password: \"))"
   ]
  },
  {
   "cell_type": "code",
   "execution_count": 11,
   "metadata": {},
   "outputs": [],
   "source": [
    "status, messages = server.select('INBOX')"
   ]
  },
  {
   "cell_type": "code",
   "execution_count": 12,
   "metadata": {},
   "outputs": [],
   "source": [
    "res, msg = server.fetch(messages[0], \"(RFC822)\")"
   ]
  },
  {
   "cell_type": "code",
   "execution_count": 13,
   "metadata": {
    "scrolled": false
   },
   "outputs": [
    {
     "name": "stdout",
     "output_type": "stream",
     "text": [
      "Delivered-To: 122015115@sastra.ac.in\n",
      "Received: by 2002:ac9:dae:0:0:0:0:0 with SMTP id n46csp767354ocd;\n",
      "        Thu, 15 Oct 2020 10:52:56 -0700 (PDT)\n",
      "X-Received: by 2002:a05:6512:2101:: with SMTP id q1mr1570271lfr.187.1602784376119;\n",
      "        Thu, 15 Oct 2020 10:52:56 -0700 (PDT)\n",
      "ARC-Seal: i=1; a=rsa-sha256; t=1602784376; cv=none;\n",
      "        d=google.com; s=arc-20160816;\n",
      "        b=zQt8n2GscujclSGXh2IyPJkIiWsVwQbvCHBoU86XMnpGPX+eXacqeCmYbVDGHOCliv\n",
      "         GOQaiCIBd3OJtfYa+3DTRKGbe1a7PRKFYUVcjUj524jfQSZnX7V0UNJ6uHVyI05YbhOS\n",
      "         D5MQtxtQDlkxDEOLaGxYZf60QZOf9jEhRqt8PtjoHAEUMjEZzxh04VLoxln+gJ8qY/rz\n",
      "         UmSxKtPssiZoqkXgJJLXY8bOJxEvDXL3DMRgcJrZgofY1HcZjSIJ1vYfnUlLIO+r9i5e\n",
      "         5uxy6JSZ8uKlX/yCyv+7jGk6sUVD1LvNwMTF4XUPjAeAyF7YMQQXf5jbX744tSMIkulF\n",
      "         mSPQ==\n",
      "ARC-Message-Signature: i=1; a=rsa-sha256; c=relaxed/relaxed; d=google.com; s=arc-20160816;\n",
      "        h=to:subject:message-id:date:from:in-reply-to:references:mime-version\n",
      "         :dkim-signature;\n",
      "        bh=3rMNB/zkD+4t/vRN8hCWpxVm6+S6FRQDfRchPcPbBkM=;\n",
      "        b=esDT+a2nw1TRclFNtIGySMkJ4KV25+TuF91IgePQPesAsCVkSVVWF+awEUOzJm0X9G\n",
      "         /xoclqOuSWMfs33rE7PLaWE2AH2jn9NH8ff4OpWfXwttojmwxK3/beEbofSvzlYLADrZ\n",
      "         mocQy2H/kyzVbOynr+LFA4lVpsFt4AAcZY5KqfhKBr669AYFqaHtZRts0wOK9TawLKov\n",
      "         3FI+cNyLqFfm/+46c5UcKDH+1g96TazkoJxqJKxm/jjY8gVuOjxWHIUUpDrfeJDi2PEy\n",
      "         61rH1H5TJO/VicVJvCbD25NAzYQ/1k75mTdxJGrXhuc5u6N0MT9TgKa2nFqIQXAoxrXY\n",
      "         SJ4A==\n",
      "ARC-Authentication-Results: i=1; mx.google.com;\n",
      "       dkim=pass header.i=@gmail.com header.s=20161025 header.b=rKmyFoxa;\n",
      "       spf=pass (google.com: domain of viswanathv31@gmail.com designates 209.85.220.41 as permitted sender) smtp.mailfrom=viswanathv31@gmail.com;\n",
      "       dmarc=pass (p=NONE sp=QUARANTINE dis=NONE) header.from=gmail.com\n",
      "Return-Path: <viswanathv31@gmail.com>\n",
      "Received: from mail-sor-f41.google.com (mail-sor-f41.google.com. [209.85.220.41])\n",
      "        by mx.google.com with SMTPS id e8sor780172lfc.20.2020.10.15.10.52.55\n",
      "        for <122015115@sastra.ac.in>\n",
      "        (Google Transport Security);\n",
      "        Thu, 15 Oct 2020 10:52:56 -0700 (PDT)\n",
      "Received-SPF: pass (google.com: domain of viswanathv31@gmail.com designates 209.85.220.41 as permitted sender) client-ip=209.85.220.41;\n",
      "Authentication-Results: mx.google.com;\n",
      "       dkim=pass header.i=@gmail.com header.s=20161025 header.b=rKmyFoxa;\n",
      "       spf=pass (google.com: domain of viswanathv31@gmail.com designates 209.85.220.41 as permitted sender) smtp.mailfrom=viswanathv31@gmail.com;\n",
      "       dmarc=pass (p=NONE sp=QUARANTINE dis=NONE) header.from=gmail.com\n",
      "DKIM-Signature: v=1; a=rsa-sha256; c=relaxed/relaxed;\n",
      "        d=gmail.com; s=20161025;\n",
      "        h=mime-version:references:in-reply-to:from:date:message-id:subject:to;\n",
      "        bh=3rMNB/zkD+4t/vRN8hCWpxVm6+S6FRQDfRchPcPbBkM=;\n",
      "        b=rKmyFoxaukvJY2zO3fIWWLQlzyTByvaNGNQIheDlA8SajRgFyLhOjHyYnKCuo6lhQw\n",
      "         E92OvBNBcmNpB2KxQdYGKi4LxiqyRDGaITvfezu/o0qwyNwfgEkkfSWqtT9WepgJ2hIY\n",
      "         yg/89U6jlHbdbjGKPwKJCQg4uLLZvTlsU+CRiUtCcR43GbViKS0D5Q6xbGLNLODWyCBf\n",
      "         lzShaqc2P9ENhg6J/fLZiUvbuu7BvvNUizE8omHcRU1B5we9Wx43NG4I7hnD8H2AtXWD\n",
      "         O4xQRnN0nod6OxdaAh/5Zi97FaLnksX9nLBSUX+TqdwVfoxIxwQ2mkB13ZzrWd69Xkjr\n",
      "         tiJA==\n",
      "X-Google-DKIM-Signature: v=1; a=rsa-sha256; c=relaxed/relaxed;\n",
      "        d=1e100.net; s=20161025;\n",
      "        h=x-gm-message-state:mime-version:references:in-reply-to:from:date\n",
      "         :message-id:subject:to;\n",
      "        bh=3rMNB/zkD+4t/vRN8hCWpxVm6+S6FRQDfRchPcPbBkM=;\n",
      "        b=KL9pdZFKN46NYxDFAM6Ehp0Jy4CAGQUq2ui/tylun+0Fy4C3ioDeutVlpZHwTtMSro\n",
      "         ZleRrNnLdKZd+6m+WtbuHSwvzr7GNZtg9v0HLpSd9AdrofS3qug6B4GceP2oL92qLiyb\n",
      "         WJH0eVvcHtLzZrKx3F3nKaWyDpv4m/L4d/jY2byg3+i6L6HtMc7Q4IGZIt6siOH63yuH\n",
      "         XrC66z0s9dH+BKdVKIivb0pHJytRKc3NTq+onlp3alyOTxGFut11Bzg5hLdP1gCB/vEp\n",
      "         /SU+/lrHWcFU3943dj43TsUrWQNooptPGxPi4vrV2R2ud+Vj6bQlCG5onEHXFFCrhjUC\n",
      "         U43Q==\n",
      "X-Gm-Message-State: AOAM532poO++bjJNQq0Dwm+wfkHPCfTB2/sgWTxwjdAWlR3u+CPRL7nv\n",
      "\t/ZJ8B+++cY6ZwcMQuABb/QTBHpbUXHx1A0RqQq5MGrD1\n",
      "X-Google-Smtp-Source: ABdhPJwBXDR/SqFUyqEeWipApzwitInivItbPBx/tzZUWkWVpc4/mHIgKHrsGEzG0OIU3t9n4QXP5yVd0V/0YI6GBok=\n",
      "X-Received: by 2002:a05:6512:2029:: with SMTP id s9mr1359665lfs.273.1602784375385;\n",
      " Thu, 15 Oct 2020 10:52:55 -0700 (PDT)\n",
      "MIME-Version: 1.0\n",
      "References: <5f888655.1c69fb81.f7ee2.80fc@mx.google.com>\n",
      "In-Reply-To: <5f888655.1c69fb81.f7ee2.80fc@mx.google.com>\n",
      "From: Viswanath Bvs <viswanathv31@gmail.com>\n",
      "Date: Thu, 15 Oct 2020 23:22:44 +0530\n",
      "Message-ID: <CAGVCTZ-tKx89AuMis1_vLVFmAvT39yajy+GSB2u5kfJY3yB+SQ@mail.gmail.com>\n",
      "Subject: Re: Message From Python Code\n",
      "To: \"122015115@sastra.ac.in\" <122015115@sastra.ac.in>\n",
      "Content-Type: multipart/alternative; boundary=\"00000000000058b2d405b1b951f7\"\n",
      "\n",
      "--00000000000058b2d405b1b951f7\n",
      "Content-Type: text/plain; charset=\"UTF-8\"\n",
      "\n",
      "heyyyy how r u\n",
      "\n",
      "On Thu, Oct 15, 2020 at 10:56 PM <122015115@sastra.ac.in> wrote:\n",
      "\n",
      "> Osey idhedho code nerpindhi madam...python code tho mail pampadam....\n",
      "> baagundhi kadhaaa :).....!!!!\n",
      ">\n",
      "\n",
      "\n",
      "-- \n",
      "*viswanath*\n",
      "\n",
      "--00000000000058b2d405b1b951f7\n",
      "Content-Type: text/html; charset=\"UTF-8\"\n",
      "Content-Transfer-Encoding: quoted-printable\n",
      "\n",
      "<div dir=3D\"ltr\">heyyyy how r u</div><br><div class=3D\"gmail_quote\"><div di=\n",
      "r=3D\"ltr\" class=3D\"gmail_attr\">On Thu, Oct 15, 2020 at 10:56 PM &lt;<a href=\n",
      "=3D\"mailto:122015115@sastra.ac.in\">122015115@sastra.ac.in</a>&gt; wrote:<br=\n",
      "></div><blockquote class=3D\"gmail_quote\" style=3D\"margin:0px 0px 0px 0.8ex;=\n",
      "border-left:1px solid rgb(204,204,204);padding-left:1ex\">Osey idhedho code =\n",
      "nerpindhi madam...python code tho mail pampadam.... baagundhi kadhaaa :)...=\n",
      "..!!!!<br>\n",
      "</blockquote></div><br clear=3D\"all\"><div><br></div>-- <br><div dir=3D\"ltr\"=\n",
      " class=3D\"gmail_signature\"><i>viswanath</i></div>\n",
      "\n",
      "--00000000000058b2d405b1b951f7--\n",
      "\n",
      "Delivered-To: 122015115@sastra.ac.in\n",
      "Received: by 2002:ac9:dae:0:0:0:0:0 with SMTP id n46csp767354ocd;\n",
      "        Thu, 15 Oct 2020 10:52:56 -0700 (PDT)\n",
      "X-Received: by 2002:a05:6512:2101:: with SMTP id q1mr1570271lfr.187.1602784376119;\n",
      "        Thu, 15 Oct 2020 10:52:56 -0700 (PDT)\n",
      "ARC-Seal: i=1; a=rsa-sha256; t=1602784376; cv=none;\n",
      "        d=google.com; s=arc-20160816;\n",
      "        b=zQt8n2GscujclSGXh2IyPJkIiWsVwQbvCHBoU86XMnpGPX+eXacqeCmYbVDGHOCliv\n",
      "         GOQaiCIBd3OJtfYa+3DTRKGbe1a7PRKFYUVcjUj524jfQSZnX7V0UNJ6uHVyI05YbhOS\n",
      "         D5MQtxtQDlkxDEOLaGxYZf60QZOf9jEhRqt8PtjoHAEUMjEZzxh04VLoxln+gJ8qY/rz\n",
      "         UmSxKtPssiZoqkXgJJLXY8bOJxEvDXL3DMRgcJrZgofY1HcZjSIJ1vYfnUlLIO+r9i5e\n",
      "         5uxy6JSZ8uKlX/yCyv+7jGk6sUVD1LvNwMTF4XUPjAeAyF7YMQQXf5jbX744tSMIkulF\n",
      "         mSPQ==\n",
      "ARC-Message-Signature: i=1; a=rsa-sha256; c=relaxed/relaxed; d=google.com; s=arc-20160816;\n",
      "        h=to:subject:message-id:date:from:in-reply-to:references:mime-version\n",
      "         :dkim-signature;\n",
      "        bh=3rMNB/zkD+4t/vRN8hCWpxVm6+S6FRQDfRchPcPbBkM=;\n",
      "        b=esDT+a2nw1TRclFNtIGySMkJ4KV25+TuF91IgePQPesAsCVkSVVWF+awEUOzJm0X9G\n",
      "         /xoclqOuSWMfs33rE7PLaWE2AH2jn9NH8ff4OpWfXwttojmwxK3/beEbofSvzlYLADrZ\n",
      "         mocQy2H/kyzVbOynr+LFA4lVpsFt4AAcZY5KqfhKBr669AYFqaHtZRts0wOK9TawLKov\n",
      "         3FI+cNyLqFfm/+46c5UcKDH+1g96TazkoJxqJKxm/jjY8gVuOjxWHIUUpDrfeJDi2PEy\n",
      "         61rH1H5TJO/VicVJvCbD25NAzYQ/1k75mTdxJGrXhuc5u6N0MT9TgKa2nFqIQXAoxrXY\n",
      "         SJ4A==\n",
      "ARC-Authentication-Results: i=1; mx.google.com;\n",
      "       dkim=pass header.i=@gmail.com header.s=20161025 header.b=rKmyFoxa;\n",
      "       spf=pass (google.com: domain of viswanathv31@gmail.com designates 209.85.220.41 as permitted sender) smtp.mailfrom=viswanathv31@gmail.com;\n",
      "       dmarc=pass (p=NONE sp=QUARANTINE dis=NONE) header.from=gmail.com\n",
      "Return-Path: <viswanathv31@gmail.com>\n",
      "Received: from mail-sor-f41.google.com (mail-sor-f41.google.com. [209.85.220.41])\n",
      "        by mx.google.com with SMTPS id e8sor780172lfc.20.2020.10.15.10.52.55\n",
      "        for <122015115@sastra.ac.in>\n",
      "        (Google Transport Security);\n",
      "        Thu, 15 Oct 2020 10:52:56 -0700 (PDT)\n",
      "Received-SPF: pass (google.com: domain of viswanathv31@gmail.com designates 209.85.220.41 as permitted sender) client-ip=209.85.220.41;\n",
      "Authentication-Results: mx.google.com;\n",
      "       dkim=pass header.i=@gmail.com header.s=20161025 header.b=rKmyFoxa;\n",
      "       spf=pass (google.com: domain of viswanathv31@gmail.com designates 209.85.220.41 as permitted sender) smtp.mailfrom=viswanathv31@gmail.com;\n",
      "       dmarc=pass (p=NONE sp=QUARANTINE dis=NONE) header.from=gmail.com\n",
      "DKIM-Signature: v=1; a=rsa-sha256; c=relaxed/relaxed;\n",
      "        d=gmail.com; s=20161025;\n",
      "        h=mime-version:references:in-reply-to:from:date:message-id:subject:to;\n",
      "        bh=3rMNB/zkD+4t/vRN8hCWpxVm6+S6FRQDfRchPcPbBkM=;\n",
      "        b=rKmyFoxaukvJY2zO3fIWWLQlzyTByvaNGNQIheDlA8SajRgFyLhOjHyYnKCuo6lhQw\n",
      "         E92OvBNBcmNpB2KxQdYGKi4LxiqyRDGaITvfezu/o0qwyNwfgEkkfSWqtT9WepgJ2hIY\n",
      "         yg/89U6jlHbdbjGKPwKJCQg4uLLZvTlsU+CRiUtCcR43GbViKS0D5Q6xbGLNLODWyCBf\n",
      "         lzShaqc2P9ENhg6J/fLZiUvbuu7BvvNUizE8omHcRU1B5we9Wx43NG4I7hnD8H2AtXWD\n",
      "         O4xQRnN0nod6OxdaAh/5Zi97FaLnksX9nLBSUX+TqdwVfoxIxwQ2mkB13ZzrWd69Xkjr\n",
      "         tiJA==\n",
      "X-Google-DKIM-Signature: v=1; a=rsa-sha256; c=relaxed/relaxed;\n",
      "        d=1e100.net; s=20161025;\n",
      "        h=x-gm-message-state:mime-version:references:in-reply-to:from:date\n",
      "         :message-id:subject:to;\n",
      "        bh=3rMNB/zkD+4t/vRN8hCWpxVm6+S6FRQDfRchPcPbBkM=;\n",
      "        b=KL9pdZFKN46NYxDFAM6Ehp0Jy4CAGQUq2ui/tylun+0Fy4C3ioDeutVlpZHwTtMSro\n",
      "         ZleRrNnLdKZd+6m+WtbuHSwvzr7GNZtg9v0HLpSd9AdrofS3qug6B4GceP2oL92qLiyb\n",
      "         WJH0eVvcHtLzZrKx3F3nKaWyDpv4m/L4d/jY2byg3+i6L6HtMc7Q4IGZIt6siOH63yuH\n",
      "         XrC66z0s9dH+BKdVKIivb0pHJytRKc3NTq+onlp3alyOTxGFut11Bzg5hLdP1gCB/vEp\n",
      "         /SU+/lrHWcFU3943dj43TsUrWQNooptPGxPi4vrV2R2ud+Vj6bQlCG5onEHXFFCrhjUC\n",
      "         U43Q==\n",
      "X-Gm-Message-State: AOAM532poO++bjJNQq0Dwm+wfkHPCfTB2/sgWTxwjdAWlR3u+CPRL7nv\n",
      "\t/ZJ8B+++cY6ZwcMQuABb/QTBHpbUXHx1A0RqQq5MGrD1\n",
      "X-Google-Smtp-Source: ABdhPJwBXDR/SqFUyqEeWipApzwitInivItbPBx/tzZUWkWVpc4/mHIgKHrsGEzG0OIU3t9n4QXP5yVd0V/0YI6GBok=\n",
      "X-Received: by 2002:a05:6512:2029:: with SMTP id s9mr1359665lfs.273.1602784375385;\n",
      " Thu, 15 Oct 2020 10:52:55 -0700 (PDT)\n",
      "MIME-Version: 1.0\n",
      "References: <5f888655.1c69fb81.f7ee2.80fc@mx.google.com>\n",
      "In-Reply-To: <5f888655.1c69fb81.f7ee2.80fc@mx.google.com>\n",
      "From: Viswanath Bvs <viswanathv31@gmail.com>\n",
      "Date: Thu, 15 Oct 2020 23:22:44 +0530\n",
      "Message-ID: <CAGVCTZ-tKx89AuMis1_vLVFmAvT39yajy+GSB2u5kfJY3yB+SQ@mail.gmail.com>\n",
      "Subject: Re: Message From Python Code\n",
      "To: \"122015115@sastra.ac.in\" <122015115@sastra.ac.in>\n",
      "Content-Type: multipart/alternative; boundary=\"00000000000058b2d405b1b951f7\"\n",
      "\n",
      "--00000000000058b2d405b1b951f7\n",
      "Content-Type: text/plain; charset=\"UTF-8\"\n",
      "\n",
      "heyyyy how r u\n",
      "\n",
      "On Thu, Oct 15, 2020 at 10:56 PM <122015115@sastra.ac.in> wrote:\n",
      "\n",
      "> Osey idhedho code nerpindhi madam...python code tho mail pampadam....\n",
      "> baagundhi kadhaaa :).....!!!!\n",
      ">\n",
      "\n",
      "\n",
      "-- \n",
      "*viswanath*\n",
      "\n",
      "--00000000000058b2d405b1b951f7\n",
      "Content-Type: text/html; charset=\"UTF-8\"\n",
      "Content-Transfer-Encoding: quoted-printable\n",
      "\n",
      "<div dir=3D\"ltr\">heyyyy how r u</div><br><div class=3D\"gmail_quote\"><div di=\n",
      "r=3D\"ltr\" class=3D\"gmail_attr\">On Thu, Oct 15, 2020 at 10:56 PM &lt;<a href=\n",
      "=3D\"mailto:122015115@sastra.ac.in\">122015115@sastra.ac.in</a>&gt; wrote:<br=\n",
      "></div><blockquote class=3D\"gmail_quote\" style=3D\"margin:0px 0px 0px 0.8ex;=\n",
      "border-left:1px solid rgb(204,204,204);padding-left:1ex\">Osey idhedho code =\n",
      "nerpindhi madam...python code tho mail pampadam.... baagundhi kadhaaa :)...=\n",
      "..!!!!<br>\n",
      "</blockquote></div><br clear=3D\"all\"><div><br></div>-- <br><div dir=3D\"ltr\"=\n",
      " class=3D\"gmail_signature\"><i>viswanath</i></div>\n",
      "\n",
      "--00000000000058b2d405b1b951f7--\n",
      "\n"
     ]
    }
   ],
   "source": [
    "for line in msg:\n",
    "    if (isinstance(line, tuple)):\n",
    "        msg = email.message_from_bytes(line[1])\n",
    "    print(msg)"
   ]
  },
  {
   "cell_type": "code",
   "execution_count": 7,
   "metadata": {},
   "outputs": [
    {
     "data": {
      "text/plain": [
       "('BYE', [b'LOGOUT Requested'])"
      ]
     },
     "execution_count": 7,
     "metadata": {},
     "output_type": "execute_result"
    }
   ],
   "source": [
    "server.logout()"
   ]
  },
  {
   "cell_type": "code",
   "execution_count": null,
   "metadata": {},
   "outputs": [],
   "source": []
  }
 ],
 "metadata": {
  "kernelspec": {
   "display_name": "Python 3",
   "language": "python",
   "name": "python3"
  },
  "language_info": {
   "codemirror_mode": {
    "name": "ipython",
    "version": 3
   },
   "file_extension": ".py",
   "mimetype": "text/x-python",
   "name": "python",
   "nbconvert_exporter": "python",
   "pygments_lexer": "ipython3",
   "version": "3.8.5"
  }
 },
 "nbformat": 4,
 "nbformat_minor": 2
}
