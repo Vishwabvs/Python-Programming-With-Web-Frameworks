{
 "cells": [
  {
   "cell_type": "code",
   "execution_count": 52,
   "metadata": {},
   "outputs": [],
   "source": [
    "import csv"
   ]
  },
  {
   "cell_type": "code",
   "execution_count": 53,
   "metadata": {},
   "outputs": [],
   "source": [
    "with open('person.csv', mode = 'w', newline = \"\") as fp:\n",
    "    field_names = ['Name', 'Status', 'Income', 'FD_List', 'Asset_Value_Dict']\n",
    "    writer = csv.DictWriter(fp, fieldnames=field_names)\n",
    "    \n",
    "    writer.writeheader()\n",
    "    writer.writerow({'Name':'AAA', 'Status':'Professional', 'Income':800000, \n",
    "                     'FD_List':[12000, 45000,300000, 200000], \n",
    "                     'Asset_Value_Dict':str({'House':4500000, 'Car':600000, 'Land':4000000, 'Jewels':1000000})\n",
    "                    })\n",
    "    writer.writerow({'Name':'BBB', 'Status':'Politician',\n",
    "                     'Income':10000000, \n",
    "                     'FD_List':[2000000, 1000000, 25000000], \n",
    "                     'Asset_Value_Dict':str({'House':30000000, 'Car':2000000, 'Land':100000000, 'Jewels':25000000})\n",
    "                    })\n",
    "    writer.writerow({'Name':'CCC',\n",
    "                     'Status':'Employee',\n",
    "                     'Income':700000, \n",
    "                     'FD_List':[500000, 200000, 150000], \n",
    "                     'Asset_Value_Dict':str({'House':1000000, 'Jewels':250000})\n",
    "                    })\n",
    "    "
   ]
  },
  {
   "cell_type": "code",
   "execution_count": 54,
   "metadata": {},
   "outputs": [
    {
     "name": "stdout",
     "output_type": "stream",
     "text": [
      "{'Name': 'AAA', 'Status': 'Professional', 'Income': '800000', 'FD_List': '[12000, 45000, 300000, 200000]', 'Asset_Value_Dict': \"{'House': 4500000, 'Car': 600000, 'Land': 4000000, 'Jewels': 1000000}\"}\n",
      "{'Name': 'BBB', 'Status': 'Politician', 'Income': '10000000', 'FD_List': '[2000000, 1000000, 25000000]', 'Asset_Value_Dict': \"{'House': 30000000, 'Car': 2000000, 'Land': 100000000, 'Jewels': 25000000}\"}\n",
      "{'Name': 'CCC', 'Status': 'Employee', 'Income': '700000', 'FD_List': '[500000, 200000, 150000]', 'Asset_Value_Dict': \"{'House': 1000000, 'Jewels': 250000}\"}\n"
     ]
    }
   ],
   "source": [
    "with open('person.csv', mode = 'r', newline = \"\") as fp:\n",
    "    reader = csv.DictReader(fp)\n",
    "    for row in reader:\n",
    "        print(row)"
   ]
  },
  {
   "cell_type": "code",
   "execution_count": 55,
   "metadata": {},
   "outputs": [
    {
     "name": "stdout",
     "output_type": "stream",
     "text": [
      "\n",
      "\n",
      "Good\n",
      "Name:  AAA \n",
      "Status:  Professional \n",
      "Income:  800000 \n",
      "FD_List:  [12000, 45000, 300000, 200000] \n",
      "Asset_Value_Dict:  {'House': 4500000, 'Car': 600000, 'Land': 4000000, 'Jewels': 1000000}\n",
      "\n",
      "\n",
      "Good\n",
      "Name:  BBB \n",
      "Status:  Politician \n",
      "Income:  10000000 \n",
      "FD_List:  [2000000, 1000000, 25000000] \n",
      "Asset_Value_Dict:  {'House': 30000000, 'Car': 2000000, 'Land': 100000000, 'Jewels': 25000000}\n",
      "\n",
      "\n",
      "Good\n",
      "Name:  CCC \n",
      "Status:  Employee \n",
      "Income:  700000 \n",
      "FD_List:  [500000, 200000, 150000] \n",
      "Asset_Value_Dict:  {'House': 1000000, 'Jewels': 250000}\n"
     ]
    }
   ],
   "source": [
    "with open('person.csv', mode = 'r', newline = \"\") as fp:\n",
    "    reader = csv.DictReader(fp)\n",
    "    for row in reader:\n",
    "        try:\n",
    "            if row['Status'] == 'Professional' and (sum(eval(row['FD_List']))>10*int(row['Income']) or sum(eval(row['Asset_Value_Dict']).values())>25*int(row['Income'])):\n",
    "                raise ValueError('IT Raid Alert')\n",
    "            if row['Status'] == 'Politician' and (sum(eval(row['FD_List']))>10*int(row['Income']) and sum(eval(row['Asset_Value_Dict']).values())>10*int(row['Income'])):\n",
    "                raise ValueError('Disproportionate Assets Alert')\n",
    "            if row['Status'] == 'Employee' and (sum(eval(row['FD_List']))>20*int(row['Income']) or sum(eval(row['Asset_Value_Dict']).values())>20*int(row['Income'])):\n",
    "                raise ValueError('Scam Alert')\n",
    "        except ValueError as e:\n",
    "            print('\\n\\nException: ', e)\n",
    "        else:\n",
    "            print('\\n\\nGood')\n",
    "            print('Name: ', row['Name'],\n",
    "                  '\\nStatus: ', row['Status'],\n",
    "                  '\\nIncome: ', row['Income'],\n",
    "                  '\\nFD_List: ', row['FD_List'],\n",
    "                  '\\nAsset_Value_Dict: ', row['Asset_Value_Dict'])\n",
    "        "
   ]
  },
  {
   "cell_type": "code",
   "execution_count": null,
   "metadata": {},
   "outputs": [],
   "source": []
  }
 ],
 "metadata": {
  "kernelspec": {
   "display_name": "Python 3",
   "language": "python",
   "name": "python3"
  },
  "language_info": {
   "codemirror_mode": {
    "name": "ipython",
    "version": 3
   },
   "file_extension": ".py",
   "mimetype": "text/x-python",
   "name": "python",
   "nbconvert_exporter": "python",
   "pygments_lexer": "ipython3",
   "version": "3.8.2"
  }
 },
 "nbformat": 4,
 "nbformat_minor": 4
}
