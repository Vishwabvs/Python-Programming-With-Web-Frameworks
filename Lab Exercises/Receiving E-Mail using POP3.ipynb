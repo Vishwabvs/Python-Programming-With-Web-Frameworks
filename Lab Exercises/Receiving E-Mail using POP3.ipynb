{
 "cells": [
  {
   "cell_type": "code",
   "execution_count": 2,
   "metadata": {},
   "outputs": [],
   "source": [
    "from poplib import POP3_SSL\n",
    "import getpass\n",
    "import logging"
   ]
  },
  {
   "cell_type": "code",
   "execution_count": 3,
   "metadata": {},
   "outputs": [],
   "source": [
    "logging.debug('connecting to gmail')\n"
   ]
  },
  {
   "cell_type": "code",
   "execution_count": 4,
   "metadata": {},
   "outputs": [],
   "source": [
    "server = POP3_SSL('pop.gmail.com')"
   ]
  },
  {
   "cell_type": "code",
   "execution_count": 5,
   "metadata": {},
   "outputs": [],
   "source": [
    "logging.debug('log in')\n",
    "\n"
   ]
  },
  {
   "cell_type": "code",
   "execution_count": 6,
   "metadata": {},
   "outputs": [
    {
     "data": {
      "text/plain": [
       "b'+OK send PASS'"
      ]
     },
     "execution_count": 6,
     "metadata": {},
     "output_type": "execute_result"
    }
   ],
   "source": [
    "server.user(\"122015115@sastra.ac.in\")"
   ]
  },
  {
   "cell_type": "code",
   "execution_count": 7,
   "metadata": {},
   "outputs": [
    {
     "name": "stdout",
     "output_type": "stream",
     "text": [
      "Enter your password: ········\n"
     ]
    },
    {
     "data": {
      "text/plain": [
       "b'+OK Welcome.'"
      ]
     },
     "execution_count": 7,
     "metadata": {},
     "output_type": "execute_result"
    }
   ],
   "source": [
    "server.pass_(getpass.getpass(\"Enter your password: \"))"
   ]
  },
  {
   "cell_type": "code",
   "execution_count": 8,
   "metadata": {
    "scrolled": false
   },
   "outputs": [
    {
     "name": "stdout",
     "output_type": "stream",
     "text": [
      "b'MIME-Version: 1.0'\n",
      "b'Date: Fri, 5 Apr 2019 00:08:46 +0530'\n",
      "b'Message-ID: <CAJEVet31TPDQfcTD5tPqK29KCkzJnwoQCQ08n5DMJ83FaXwinw@mail.gmail.com>'\n",
      "b'Subject: ML papers on Weed Detection'\n",
      "b'From: \"Viswanath B .\" <122015115@sastra.ac.in>'\n",
      "b'To: rajasekhar@sastra.ac.in'\n",
      "b'Content-Type: multipart/alternative; boundary=\"0000000000004e87660585b8aebb\"'\n",
      "b''\n",
      "b'--0000000000004e87660585b8aebb'\n",
      "b'Content-Type: text/plain; charset=\"UTF-8\"'\n",
      "b''\n",
      "b' Broad-Leaf Weed Detection in Pasture.pdf'\n",
      "b'<https://drive.google.com/a/sastra.ac.in/file/d/1IZlbTzk2fjklQY9C4EsFYqfTdM-8L0oD/view?usp=drive_web>'\n",
      "b' Characterization of food cultivation along road...'\n",
      "b'<https://drive.google.com/a/sastra.ac.in/file/d/1WI68AReaNdyLKozmatVLi4wkkRpvTtWG/view?usp=drive_web>'\n",
      "b' Colour feature extreme learning machine_ .pdf'\n",
      "b'<https://drive.google.com/a/sastra.ac.in/file/d/1t7cHLPJ9UYySw58A-4FsBS0zuIDpwXwk/view?usp=drive_web>'\n",
      "b' Detection using OpenCV by SRM.pdf'\n",
      "b'<https://drive.google.com/a/sastra.ac.in/file/d/1qyDjlAjBBCyzFYRJPhYw-SZwFywK792o/view?usp=drive_web>'\n",
      "b' New Text Document.txt'\n",
      "b'<https://drive.google.com/a/sastra.ac.in/file/d/18losfMLaYhZt8lrUXNf5ky4vJ3upO5kx/view?usp=drive_web>'\n",
      "b' Using Deep CNN.pdf'\n",
      "b'<https://drive.google.com/a/sastra.ac.in/file/d/1UsEaSHcjAzpgRY2W1bJ6HW-agaAN99_h/view?usp=drive_web>'\n",
      "b' Using Random_forest classifiers.pdf'\n",
      "b'<https://drive.google.com/a/sastra.ac.in/file/d/1GSVUO0s1TO8uuFuV7nInua0lyMmPdQNJ/view?usp=drive_web>'\n",
      "b' Using Supervised KNN,SVM.pdf'\n",
      "b'<https://drive.google.com/a/sastra.ac.in/file/d/1y4MIhBTaMzEXTFA2WxcW6mpYyZ_XNWdP/view?usp=drive_web>'\n",
      "b' Using YOLOv3.pdf'\n",
      "b'<https://drive.google.com/a/sastra.ac.in/file/d/1R25g9w_7fCtDJ8pETxaPhm8lU8fjBdE-/view?usp=drive_web>'\n",
      "b' weed detection using multiple-expert colour fea...'\n",
      "b'<https://drive.google.com/a/sastra.ac.in/file/d/1ynANYB8raq84CopaR9sdzXKw45gqrSWj/view?usp=drive_web>'\n",
      "b' Weed detection_using_MOG_SOM.pdf'\n",
      "b'<https://drive.google.com/a/sastra.ac.in/file/d/1AOim71NPaCxiZFw24-UKCSumh1iMOqZC/view?usp=drive_web>'\n",
      "b' Weed Mapping using Bayesian Classifiers.pdf'\n",
      "b'<https://drive.google.com/a/sastra.ac.in/file/d/1mDUEr7k7TRzrgWmdbYx7gR976D3lSmqq/view?usp=drive_web>'\n",
      "b' Weed Mapping via Unmanned Aerial Vehicles.pdf'\n",
      "b'<https://drive.google.com/a/sastra.ac.in/file/d/1oPJI2AyFJlunYRITBKrt8oN__k6ovfnW/view?usp=drive_web>'\n",
      "b''\n",
      "b'--0000000000004e87660585b8aebb'\n",
      "b'Content-Type: text/html; charset=\"UTF-8\"'\n",
      "b'Content-Transfer-Encoding: quoted-printable'\n",
      "b''\n",
      "b'<div dir=3D\"ltr\"><div class=3D\"gmail_chip gmail_drive_chip\" style=3D\"width:='\n",
      "b'396px;height:18px;max-height:18px;background-color:#f5f5f5;padding:5px;colo='\n",
      "b'r:#222;font-family:arial;font-style:normal;font-weight:bold;font-size:13px;='\n",
      "b'border:1px solid #ddd;line-height:1\" contenteditable=3D\"false\"><a style=3D\"='\n",
      "b'display:inline-block;max-width:366px;overflow:hidden;text-overflow:ellipsis='\n",
      "b';white-space:nowrap;text-decoration:none;padding:1px 0;border:none\" href=3D='\n",
      "b'\"https://drive.google.com/a/sastra.ac.in/file/d/1IZlbTzk2fjklQY9C4EsFYqfTdM='\n",
      "b'-8L0oD/view?usp=3Ddrive_web\" target=3D\"_blank\"><img style=3D\"vertical-align='\n",
      "b': bottom; border: none;\" src=3D\"https://ssl.gstatic.com/docs/doclist/images='\n",
      "b'/icon_10_generic_list.png\">=C2=A0<span style=3D\"color:#15c;text-decoration:='\n",
      "b'none;vertical-align:bottom\" dir=3D\"ltr\">Broad-Leaf Weed Detection in Pastur='\n",
      "b'e.pdf</span></a><img style=3D\"display:none; opacity: 0.55; cursor: pointer;='\n",
      "b' float: right; position: relative; top: -1px; \" src=3D\"https://ssl.gstatic.='\n",
      "b'com/ui/v1/icons/common/x_8px.png\"></div><div class=3D\"gmail_chip gmail_driv='\n",
      "b'e_chip\" style=3D\"width:396px;height:18px;max-height:18px;background-color:#='\n",
      "b'f5f5f5;padding:5px;color:#222;font-family:arial;font-style:normal;font-weig='\n",
      "b'ht:bold;font-size:13px;border:1px solid #ddd;line-height:1\" contenteditable='\n",
      "b'=3D\"false\"><a style=3D\"display:inline-block;max-width:366px;overflow:hidden='\n",
      "b';text-overflow:ellipsis;white-space:nowrap;text-decoration:none;padding:1px='\n",
      "b' 0;border:none\" href=3D\"https://drive.google.com/a/sastra.ac.in/file/d/1WI6='\n",
      "b'8AReaNdyLKozmatVLi4wkkRpvTtWG/view?usp=3Ddrive_web\" target=3D\"_blank\"><img ='\n",
      "b'style=3D\"vertical-align: bottom; border: none;\" src=3D\"https://ssl.gstatic.='\n",
      "b'com/docs/doclist/images/icon_10_generic_list.png\">=C2=A0<span style=3D\"colo='\n",
      "b'r:#15c;text-decoration:none;vertical-align:bottom\" dir=3D\"ltr\">Characteriza='\n",
      "b'tion of food cultivation along road...</span></a><img style=3D\"display:none='\n",
      "b'; opacity: 0.55; cursor: pointer; float: right; position: relative; top: -1='\n",
      "b'px; \" src=3D\"https://ssl.gstatic.com/ui/v1/icons/common/x_8px.png\"></div><d='\n",
      "b'iv class=3D\"gmail_chip gmail_drive_chip\" style=3D\"width:396px;height:18px;m='\n",
      "b'ax-height:18px;background-color:#f5f5f5;padding:5px;color:#222;font-family:='\n",
      "b'arial;font-style:normal;font-weight:bold;font-size:13px;border:1px solid #d='\n",
      "b'dd;line-height:1\" contenteditable=3D\"false\"><a style=3D\"display:inline-bloc='\n",
      "b'k;max-width:366px;overflow:hidden;text-overflow:ellipsis;white-space:nowrap='\n",
      "b';text-decoration:none;padding:1px 0;border:none\" href=3D\"https://drive.goog='\n",
      "b'le.com/a/sastra.ac.in/file/d/1t7cHLPJ9UYySw58A-4FsBS0zuIDpwXwk/view?usp=3Dd='\n",
      "b'rive_web\" target=3D\"_blank\"><img style=3D\"vertical-align: bottom; border: n='\n",
      "b'one;\" src=3D\"https://ssl.gstatic.com/docs/doclist/images/icon_10_generic_li='\n",
      "b'st.png\">=C2=A0<span style=3D\"color:#15c;text-decoration:none;vertical-align='\n",
      "b':bottom\" dir=3D\"ltr\">Colour feature extreme learning machine_ .pdf</span></='\n",
      "b'a><img style=3D\"display:none; opacity: 0.55; cursor: pointer; float: right;='\n",
      "b' position: relative; top: -1px; \" src=3D\"https://ssl.gstatic.com/ui/v1/icon='\n",
      "b's/common/x_8px.png\"></div><div class=3D\"gmail_chip gmail_drive_chip\" style='\n",
      "b'=3D\"width:396px;height:18px;max-height:18px;background-color:#f5f5f5;paddin='\n",
      "b'g:5px;color:#222;font-family:arial;font-style:normal;font-weight:bold;font-='\n",
      "b'size:13px;border:1px solid #ddd;line-height:1\" contenteditable=3D\"false\"><a='\n",
      "b' style=3D\"display:inline-block;max-width:366px;overflow:hidden;text-overflo='\n",
      "b'w:ellipsis;white-space:nowrap;text-decoration:none;padding:1px 0;border:non='\n",
      "b'e\" href=3D\"https://drive.google.com/a/sastra.ac.in/file/d/1qyDjlAjBBCyzFYRJ='\n",
      "b'PhYw-SZwFywK792o/view?usp=3Ddrive_web\" target=3D\"_blank\"><img style=3D\"vert='\n",
      "b'ical-align: bottom; border: none;\" src=3D\"https://ssl.gstatic.com/docs/docl='\n",
      "b'ist/images/icon_10_generic_list.png\">=C2=A0<span style=3D\"color:#15c;text-d='\n",
      "b'ecoration:none;vertical-align:bottom\" dir=3D\"ltr\">Detection using OpenCV by='\n",
      "b' SRM.pdf</span></a><img style=3D\"display:none; opacity: 0.55; cursor: point='\n",
      "b'er; float: right; position: relative; top: -1px; \" src=3D\"https://ssl.gstat='\n",
      "b'ic.com/ui/v1/icons/common/x_8px.png\"></div><div class=3D\"gmail_chip gmail_d='\n",
      "b'rive_chip\" style=3D\"width:396px;height:18px;max-height:18px;background-colo='\n",
      "b'r:#f5f5f5;padding:5px;color:#222;font-family:arial;font-style:normal;font-w='\n",
      "b'eight:bold;font-size:13px;border:1px solid #ddd;line-height:1\" contentedita='\n",
      "b'ble=3D\"false\"><a style=3D\"display:inline-block;max-width:366px;overflow:hid='\n",
      "b'den;text-overflow:ellipsis;white-space:nowrap;text-decoration:none;padding:='\n",
      "b'1px 0;border:none\" href=3D\"https://drive.google.com/a/sastra.ac.in/file/d/1='\n",
      "b'8losfMLaYhZt8lrUXNf5ky4vJ3upO5kx/view?usp=3Ddrive_web\" target=3D\"_blank\"><i='\n",
      "b'mg style=3D\"vertical-align: bottom; border: none;\" src=3D\"https://ssl.gstat='\n",
      "b'ic.com/docs/doclist/images/icon_10_generic_list.png\">=C2=A0<span style=3D\"c='\n",
      "b'olor:#15c;text-decoration:none;vertical-align:bottom\" dir=3D\"ltr\">New Text ='\n",
      "b'Document.txt</span></a><img style=3D\"display:none; opacity: 0.55; cursor: p='\n",
      "b'ointer; float: right; position: relative; top: -1px; \" src=3D\"https://ssl.g='\n",
      "b'static.com/ui/v1/icons/common/x_8px.png\"></div><div class=3D\"gmail_chip gma='\n",
      "b'il_drive_chip\" style=3D\"width:396px;height:18px;max-height:18px;background-='\n",
      "b'color:#f5f5f5;padding:5px;color:#222;font-family:arial;font-style:normal;fo='\n",
      "b'nt-weight:bold;font-size:13px;border:1px solid #ddd;line-height:1\" contente='\n",
      "b'ditable=3D\"false\"><a style=3D\"display:inline-block;max-width:366px;overflow='\n",
      "b':hidden;text-overflow:ellipsis;white-space:nowrap;text-decoration:none;padd='\n",
      "b'ing:1px 0;border:none\" href=3D\"https://drive.google.com/a/sastra.ac.in/file='\n",
      "b'/d/1UsEaSHcjAzpgRY2W1bJ6HW-agaAN99_h/view?usp=3Ddrive_web\" target=3D\"_blank='\n",
      "b'\"><img style=3D\"vertical-align: bottom; border: none;\" src=3D\"https://ssl.g='\n",
      "b'static.com/docs/doclist/images/icon_10_generic_list.png\">=C2=A0<span style='\n",
      "b'=3D\"color:#15c;text-decoration:none;vertical-align:bottom\" dir=3D\"ltr\">Usin='\n",
      "b'g Deep CNN.pdf</span></a><img style=3D\"display:none; opacity: 0.55; cursor:='\n",
      "b' pointer; float: right; position: relative; top: -1px; \" src=3D\"https://ssl='\n",
      "b'.gstatic.com/ui/v1/icons/common/x_8px.png\"></div><div class=3D\"gmail_chip g='\n",
      "b'mail_drive_chip\" style=3D\"width:396px;height:18px;max-height:18px;backgroun='\n",
      "b'd-color:#f5f5f5;padding:5px;color:#222;font-family:arial;font-style:normal;='\n",
      "b'font-weight:bold;font-size:13px;border:1px solid #ddd;line-height:1\" conten='\n",
      "b'teditable=3D\"false\"><a style=3D\"display:inline-block;max-width:366px;overfl='\n",
      "b'ow:hidden;text-overflow:ellipsis;white-space:nowrap;text-decoration:none;pa='\n",
      "b'dding:1px 0;border:none\" href=3D\"https://drive.google.com/a/sastra.ac.in/fi='\n",
      "b'le/d/1GSVUO0s1TO8uuFuV7nInua0lyMmPdQNJ/view?usp=3Ddrive_web\" target=3D\"_bla='\n",
      "b'nk\"><img style=3D\"vertical-align: bottom; border: none;\" src=3D\"https://ssl='\n",
      "b'.gstatic.com/docs/doclist/images/icon_10_generic_list.png\">=C2=A0<span styl='\n",
      "b'e=3D\"color:#15c;text-decoration:none;vertical-align:bottom\" dir=3D\"ltr\">Usi='\n",
      "b'ng Random_forest classifiers.pdf</span></a><img style=3D\"display:none; opac='\n",
      "b'ity: 0.55; cursor: pointer; float: right; position: relative; top: -1px; \" ='\n",
      "b'src=3D\"https://ssl.gstatic.com/ui/v1/icons/common/x_8px.png\"></div><div cla='\n",
      "b'ss=3D\"gmail_chip gmail_drive_chip\" style=3D\"width:396px;height:18px;max-hei='\n",
      "b'ght:18px;background-color:#f5f5f5;padding:5px;color:#222;font-family:arial;='\n",
      "b'font-style:normal;font-weight:bold;font-size:13px;border:1px solid #ddd;lin='\n",
      "b'e-height:1\" contenteditable=3D\"false\"><a style=3D\"display:inline-block;max-='\n",
      "b'width:366px;overflow:hidden;text-overflow:ellipsis;white-space:nowrap;text-='\n",
      "b'decoration:none;padding:1px 0;border:none\" href=3D\"https://drive.google.com='\n",
      "b'/a/sastra.ac.in/file/d/1y4MIhBTaMzEXTFA2WxcW6mpYyZ_XNWdP/view?usp=3Ddrive_w='\n",
      "b'eb\" target=3D\"_blank\"><img style=3D\"vertical-align: bottom; border: none;\" ='\n",
      "b'src=3D\"https://ssl.gstatic.com/docs/doclist/images/icon_10_generic_list.png='\n",
      "b'\">=C2=A0<span style=3D\"color:#15c;text-decoration:none;vertical-align:botto='\n",
      "b'm\" dir=3D\"ltr\">Using Supervised KNN,SVM.pdf</span></a><img style=3D\"display='\n",
      "b':none; opacity: 0.55; cursor: pointer; float: right; position: relative; to='\n",
      "b'p: -1px; \" src=3D\"https://ssl.gstatic.com/ui/v1/icons/common/x_8px.png\"></d='\n",
      "b'iv><div class=3D\"gmail_chip gmail_drive_chip\" style=3D\"padding:5px;border:1='\n",
      "b'px solid rgb(221,221,221);width:396px;height:18px;color:rgb(34,34,34);line-='\n",
      "b'height:1;font-family:arial;font-size:13px;font-style:normal;font-weight:bol='\n",
      "b'd;max-height:18px;background-color:rgb(245,245,245)\" contenteditable=3D\"fal='\n",
      "b'se\"><a style=3D\"display:inline-block;max-width:366px;overflow:hidden;text-o='\n",
      "b'verflow:ellipsis;white-space:nowrap;text-decoration:none;padding:1px 0;bord='\n",
      "b'er:none\" href=3D\"https://drive.google.com/a/sastra.ac.in/file/d/1R25g9w_7fC='\n",
      "b'tDJ8pETxaPhm8lU8fjBdE-/view?usp=3Ddrive_web\" target=3D\"_blank\"><img style='\n",
      "b'=3D\"vertical-align: bottom; border: none;\" src=3D\"https://ssl.gstatic.com/d='\n",
      "b'ocs/doclist/images/icon_10_generic_list.png\">=C2=A0<span style=3D\"color:rgb='\n",
      "b'(17,85,204);text-decoration:none;vertical-align:bottom\" dir=3D\"ltr\">Using Y='\n",
      "b'OLOv3.pdf</span></a><img style=3D\"top: -1px; display: none; position: relat='\n",
      "b'ive; cursor: pointer; opacity: 0.55; float: right;\" src=3D\"https://ssl.gsta='\n",
      "b'tic.com/ui/v1/icons/common/x_8px.png\"></div><div class=3D\"gmail_chip gmail_='\n",
      "b'drive_chip\" style=3D\"padding:5px;border:1px solid rgb(221,221,221);width:39='\n",
      "b'6px;height:18px;color:rgb(34,34,34);line-height:1;font-family:arial;font-si='\n",
      "b'ze:13px;font-style:normal;font-weight:bold;max-height:18px;background-color='\n",
      "b':rgb(245,245,245)\" contenteditable=3D\"false\"><a style=3D\"display:inline-blo='\n",
      "b'ck;max-width:366px;overflow:hidden;text-overflow:ellipsis;white-space:nowra='\n",
      "b'p;text-decoration:none;padding:1px 0;border:none\" href=3D\"https://drive.goo='\n",
      "b'gle.com/a/sastra.ac.in/file/d/1ynANYB8raq84CopaR9sdzXKw45gqrSWj/view?usp=3D='\n",
      "b'drive_web\" target=3D\"_blank\"><img style=3D\"vertical-align: bottom; border: ='\n",
      "b'none;\" src=3D\"https://ssl.gstatic.com/docs/doclist/images/icon_10_generic_l='\n",
      "b'ist.png\">=C2=A0<span style=3D\"color:rgb(17,85,204);text-decoration:none;ver='\n",
      "b'tical-align:bottom\" dir=3D\"ltr\">weed detection using multiple-expert colour='\n",
      "b' fea...</span></a><img style=3D\"top: -1px; display: none; position: relativ='\n",
      "b'e; cursor: pointer; opacity: 0.55; float: right;\" src=3D\"https://ssl.gstati='\n",
      "b'c.com/ui/v1/icons/common/x_8px.png\"></div><div class=3D\"gmail_chip gmail_dr='\n",
      "b'ive_chip\" style=3D\"padding:5px;border:1px solid rgb(221,221,221);width:396p='\n",
      "b'x;height:18px;color:rgb(34,34,34);line-height:1;font-family:arial;font-size='\n",
      "b':13px;font-style:normal;font-weight:bold;max-height:18px;background-color:r='\n",
      "b'gb(245,245,245)\" contenteditable=3D\"false\"><a style=3D\"display:inline-block='\n",
      "b';max-width:366px;overflow:hidden;text-overflow:ellipsis;white-space:nowrap;='\n",
      "b'text-decoration:none;padding:1px 0;border:none\" href=3D\"https://drive.googl='\n",
      "b'e.com/a/sastra.ac.in/file/d/1AOim71NPaCxiZFw24-UKCSumh1iMOqZC/view?usp=3Ddr='\n",
      "b'ive_web\" target=3D\"_blank\"><img style=3D\"vertical-align: bottom; border: no='\n",
      "b'ne;\" src=3D\"https://ssl.gstatic.com/docs/doclist/images/icon_10_generic_lis='\n",
      "b't.png\">=C2=A0<span style=3D\"color:rgb(17,85,204);text-decoration:none;verti='\n",
      "b'cal-align:bottom\" dir=3D\"ltr\">Weed detection_using_MOG_SOM.pdf</span></a><i='\n",
      "b'mg style=3D\"top: -1px; display: none; position: relative; cursor: pointer; ='\n",
      "b'opacity: 0.55; float: right;\" src=3D\"https://ssl.gstatic.com/ui/v1/icons/co='\n",
      "b'mmon/x_8px.png\"></div><div class=3D\"gmail_chip gmail_drive_chip\" style=3D\"p='\n",
      "b'adding:5px;border:1px solid rgb(221,221,221);width:396px;height:18px;color:='\n",
      "b'rgb(34,34,34);line-height:1;font-family:arial;font-size:13px;font-style:nor='\n",
      "b'mal;font-weight:bold;max-height:18px;background-color:rgb(245,245,245)\" con='\n",
      "b'tenteditable=3D\"false\"><a style=3D\"display:inline-block;max-width:366px;ove='\n",
      "b'rflow:hidden;text-overflow:ellipsis;white-space:nowrap;text-decoration:none='\n",
      "b';padding:1px 0;border:none\" href=3D\"https://drive.google.com/a/sastra.ac.in='\n",
      "b'/file/d/1mDUEr7k7TRzrgWmdbYx7gR976D3lSmqq/view?usp=3Ddrive_web\" target=3D\"_='\n",
      "b'blank\"><img style=3D\"vertical-align: bottom; border: none;\" src=3D\"https://='\n",
      "b'ssl.gstatic.com/docs/doclist/images/icon_10_generic_list.png\">=C2=A0<span s='\n",
      "b'tyle=3D\"color:rgb(17,85,204);text-decoration:none;vertical-align:bottom\" di='\n",
      "b'r=3D\"ltr\">Weed Mapping using Bayesian Classifiers.pdf</span></a><img style='\n",
      "b'=3D\"top: -1px; display: none; position: relative; cursor: pointer; opacity:='\n",
      "b' 0.55; float: right;\" src=3D\"https://ssl.gstatic.com/ui/v1/icons/common/x_8='\n",
      "b'px.png\"></div><div class=3D\"gmail_chip gmail_drive_chip\" style=3D\"padding:5='\n",
      "b'px;border:1px solid rgb(221,221,221);width:396px;height:18px;color:rgb(34,3='\n",
      "b'4,34);line-height:1;font-family:arial;font-size:13px;font-style:normal;font='\n",
      "b'-weight:bold;max-height:18px;background-color:rgb(245,245,245)\" contentedit='\n",
      "b'able=3D\"false\"><a style=3D\"display:inline-block;max-width:366px;overflow:hi='\n",
      "b'dden;text-overflow:ellipsis;white-space:nowrap;text-decoration:none;padding='\n",
      "b':1px 0;border:none\" href=3D\"https://drive.google.com/a/sastra.ac.in/file/d/='\n",
      "b'1oPJI2AyFJlunYRITBKrt8oN__k6ovfnW/view?usp=3Ddrive_web\" target=3D\"_blank\"><='\n",
      "b'img style=3D\"vertical-align: bottom; border: none;\" src=3D\"https://ssl.gsta='\n",
      "b'tic.com/docs/doclist/images/icon_10_generic_list.png\">=C2=A0<span style=3D\"='\n",
      "b'color:rgb(17,85,204);text-decoration:none;vertical-align:bottom\" dir=3D\"ltr='\n",
      "b'\">Weed Mapping via Unmanned Aerial Vehicles.pdf</span></a><img style=3D\"top='\n",
      "b': -1px; display: none; position: relative; cursor: pointer; opacity: 0.55; ='\n",
      "b'float: right;\" src=3D\"https://ssl.gstatic.com/ui/v1/icons/common/x_8px.png\"='\n",
      "b'></div></div>'\n",
      "b''\n",
      "b'--0000000000004e87660585b8aebb--'\n"
     ]
    }
   ],
   "source": [
    "logging.debug('listing emails')\n",
    "resp, items, octets = server.list()\n",
    "id, size = items[0].split()\n",
    "resp, text, octets = server.retr(int(id))\n",
    "for line in text:\n",
    "    print(line)"
   ]
  },
  {
   "cell_type": "code",
   "execution_count": 9,
   "metadata": {},
   "outputs": [
    {
     "data": {
      "text/plain": [
       "b'+OK Farewell.'"
      ]
     },
     "execution_count": 9,
     "metadata": {},
     "output_type": "execute_result"
    }
   ],
   "source": [
    "server.quit()"
   ]
  },
  {
   "cell_type": "code",
   "execution_count": null,
   "metadata": {},
   "outputs": [],
   "source": []
  }
 ],
 "metadata": {
  "kernelspec": {
   "display_name": "Python 3",
   "language": "python",
   "name": "python3"
  },
  "language_info": {
   "codemirror_mode": {
    "name": "ipython",
    "version": 3
   },
   "file_extension": ".py",
   "mimetype": "text/x-python",
   "name": "python",
   "nbconvert_exporter": "python",
   "pygments_lexer": "ipython3",
   "version": "3.8.5"
  }
 },
 "nbformat": 4,
 "nbformat_minor": 2
}
