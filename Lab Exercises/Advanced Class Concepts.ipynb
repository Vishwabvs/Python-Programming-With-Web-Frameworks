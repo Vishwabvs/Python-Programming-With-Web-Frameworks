{
 "cells": [
  {
   "cell_type": "markdown",
   "metadata": {},
   "source": [
    "# Types of subclasses in inheritance"
   ]
  },
  {
   "cell_type": "code",
   "execution_count": 1,
   "metadata": {},
   "outputs": [
    {
     "name": "stdout",
     "output_type": "stream",
     "text": [
      "Display from Super Class\n",
      "Display from Replacer Class\n",
      "Display from Super Class\n",
      "Display from Extender Class\n"
     ]
    }
   ],
   "source": [
    "class Super:\n",
    "    def display(self):\n",
    "        print(\"Display from Super Class\")\n",
    "class Inheritor(Super):\n",
    "    pass\n",
    "class Replacer(Super):\n",
    "    def display(self):\n",
    "        print(\"Display from Replacer Class\")\n",
    "class Extender(Super):\n",
    "    def display(self):\n",
    "        super().display()\n",
    "        print(\"Display from Extender Class\")\n",
    "I = Inheritor()\n",
    "R = Replacer()\n",
    "E = Extender()\n",
    "I.display()\n",
    "R.display()\n",
    "E.display()"
   ]
  },
  {
   "cell_type": "markdown",
   "metadata": {},
   "source": [
    "# Provider Subclass Inheritance"
   ]
  },
  {
   "cell_type": "code",
   "execution_count": 2,
   "metadata": {},
   "outputs": [
    {
     "name": "stdout",
     "output_type": "stream",
     "text": [
      "Action from Sub1\n",
      "Action from Sub2\n"
     ]
    }
   ],
   "source": [
    "# Abstract super class:\n",
    "class Super:\n",
    "    def delegate(self):\n",
    "        self.action()\n",
    "#Separate subclass implementations:\n",
    "class Sub1(Super): \n",
    "    def action(self):\n",
    "        print (\"Action from Sub1\")\n",
    "class Sub2(Super):\n",
    "    def action(self):\n",
    "        print (\"Action from Sub2\")\n",
    "X = Super()\n",
    "X1 = Sub1()\n",
    "X2 = Sub2()\n",
    "X1.delegate()\n",
    "X2.delegate()\n",
    "#X.delegate()                  # raises AttributeError"
   ]
  },
  {
   "cell_type": "markdown",
   "metadata": {},
   "source": [
    "# Operator Overloading\n",
    "        __add__, __iadd__, __radd__                  Addition\n",
    "        __sub__, __isub__, __rsub__                  Subtraction\n",
    "        __mul__, __imul__, __rmul__                  Multiplication\n",
    "        __truediv__, __itruediv__, __rtruediv__      True Division (/)\n",
    "        __eq__                                       Equality (==)\n",
    "        __gt__, __ge__                               Greater than, Greater than or equal to\n",
    "        __lt__, __le__                               Less than, Less than or equal to\n",
    "        __neg__                                      Unary negation\n",
    "        __and__                                      and (&)\n",
    "        __or__                                       or (|)\n",
    "        __xor__                                      xor (^)\n",
    "        "
   ]
  },
  {
   "cell_type": "code",
   "execution_count": 3,
   "metadata": {},
   "outputs": [
    {
     "name": "stdout",
     "output_type": "stream",
     "text": [
      "calling __add__\n",
      "Adding two objects of A  30\n",
      "calling __add__\n",
      "Adding int with object of A  14\n",
      "calling __radd__\n",
      "Adding object of A with int 18\n",
      "calling __iadd__\n",
      "Adding two objects of A with inplace add  30\n",
      "calling __neg__\n",
      "A3:  -30\n",
      "30  is greater than  20\n"
     ]
    }
   ],
   "source": [
    "class A:\n",
    "    def __init__(self, a):\n",
    "        self.a = a\n",
    "    def __str__(self):\n",
    "        return str(self.a)\n",
    "    def __neg__(self):\n",
    "        print(\"calling __neg__\")\n",
    "        T = A(0)\n",
    "        T.a = -self.a\n",
    "        return T\n",
    "    def __add__(self, other):\n",
    "        print(\"calling __add__\")\n",
    "        T = A(0)\n",
    "        if isinstance(other, int):\n",
    "            T.a = self.a + other\n",
    "            return T\n",
    "        elif isinstance(other, A):\n",
    "            T.a = self.a + other.a\n",
    "            return T\n",
    "        else:\n",
    "            return None\n",
    "    def __iadd__(self, other):\n",
    "        print(\"calling __iadd__\")\n",
    "        if isinstance(other, int):\n",
    "            self.a = self.a + other\n",
    "            return self\n",
    "        elif isinstance(other, A):\n",
    "            self.a = self.a + other.a\n",
    "            return self\n",
    "        else:\n",
    "            return None\n",
    "    def __radd__(self, other):\n",
    "        print(\"calling __radd__\")\n",
    "        T = A(0)\n",
    "        if isinstance(other, int):\n",
    "            T.a = self.a + other\n",
    "            return T\n",
    "        else:\n",
    "            return None\n",
    "    def __gt__(self, other):\n",
    "        if self.a > other.a:\n",
    "            return True\n",
    "        else:\n",
    "            return False\n",
    "A1 = A(10)\n",
    "A2 = A(20)\n",
    "print(\"Adding two objects of A \", str(A1+A2))                   #calls __add__\n",
    "print(\"Adding int with object of A \", str(A1+4))                #calls __add__\n",
    "print(\"Adding object of A with int\", str(8+A1))                 #calls __radd__\n",
    "A1+=A2                                                          #calls __iadd__\n",
    "print(\"Adding two objects of A with inplace add \",A1.a)    \n",
    "A3 = -A1                                                        #calls __neg__\n",
    "print(\"A3: \", A3.a)\n",
    "if A1 > A2:                                                     #calls __gt__\n",
    "    print(A1.a, \" is greater than \", A2.a)\n",
    "else:\n",
    "    print(A1.a, \" is lesser than \", A2.a)"
   ]
  },
  {
   "cell_type": "markdown",
   "metadata": {},
   "source": [
    "# Indexable and Iterable User Defined Object\n",
    "       __getitem__, __setitem__          Indexing and Slicing\n",
    "       __iter__, __next__                Iterable"
   ]
  },
  {
   "cell_type": "code",
   "execution_count": 4,
   "metadata": {},
   "outputs": [
    {
     "name": "stdout",
     "output_type": "stream",
     "text": [
      "[12, 14, 18, 26, 20, 30]\n",
      "[12, 14, 18, 26, 20, 40]\n",
      "[12, 14, 18, 26, 20, 40]\n",
      "Accessing through Slicing: \n",
      "[12, 14, 18, 60, 64, 86, 40]\n",
      "Accessing through indexing: \n",
      "12, 14, 18, 60, 64, 86, 40, \n",
      "Accessing through iterator\n",
      "12, 14, 18, 60, 64, 86, 40, \n"
     ]
    }
   ],
   "source": [
    "class MyArray:\n",
    "    def __init__(self, *args):\n",
    "        self.mydata = [x for x in args if x % 2 == 0]\n",
    "    def __len__(self):\n",
    "        return len(self.mydata)\n",
    "    def __getitem__(self, index):\n",
    "        if isinstance(index, int):\n",
    "            return self.mydata[index]\n",
    "        else:\n",
    "            return self.mydata[index.start:index.stop:index.step]\n",
    "    def __setitem__(self, index, value):\n",
    "        if isinstance(index, int):\n",
    "            if value % 2 == 0:\n",
    "                self.mydata[index] = value\n",
    "        else:\n",
    "            self.mydata[index.start:index.stop:index.step] = value\n",
    "    def __iter__(self):\n",
    "        self.index = -1\n",
    "        return iter(self.mydata)\n",
    "    def __next__(self):\n",
    "        self.index += 1\n",
    "        if self.index < len(mydata):\n",
    "            return self.mydata[self.index]\n",
    "        else:\n",
    "            raise StopIteration()\n",
    "        \n",
    "        \n",
    "M = MyArray(12, 14, 15, 18, 23, 26, 20, 30)\n",
    "print(M.mydata)\n",
    "M[5] = 40                                   # calls __setitem__\n",
    "print(M.mydata)\n",
    "M[4] = 45\n",
    "print(M.mydata)\n",
    "print(\"Accessing through Slicing: \")        \n",
    "M[3:5] = [60, 64, 86]                       # calls __setitem__\n",
    "print(M[:])                                 # calls __getitem__\n",
    "print (\"Accessing through indexing: \")      \n",
    "for i in range(0, len(M)):\n",
    "    print (M[i], end=', ')                  # calls __getitem__\n",
    "print(\"\\nAccessing through iterator\")\n",
    "for x in M:                                 # calls __iter__ and __next__\n",
    "    print(x, end=', ')\n",
    "print()"
   ]
  },
  {
   "cell_type": "code",
   "execution_count": 5,
   "metadata": {},
   "outputs": [
    {
     "name": "stdout",
     "output_type": "stream",
     "text": [
      "10, 20, \n",
      "10, 20, \n"
     ]
    }
   ],
   "source": [
    "class Complex:\n",
    "    def __init__(self, a, b):\n",
    "        self.rp = a\n",
    "        self.ip = b\n",
    "    def __getitem__(self, index):\n",
    "        if index == 0:\n",
    "            return self.rp\n",
    "        elif index == 1:\n",
    "            return self.ip\n",
    "        else:\n",
    "            raise IndexError\n",
    "    def __setitem__(self, index, value):\n",
    "        if index == 0:\n",
    "            self.rp = value\n",
    "        elif index == 1:\n",
    "            self.ip = value\n",
    "        else:\n",
    "            raise IndexError\n",
    "    def __iter__(self):\n",
    "        self.index = -1\n",
    "        return self\n",
    "    def __next__(self):\n",
    "        self.index += 1\n",
    "        if self.index == 0:\n",
    "            return self.rp\n",
    "        elif self.index == 1:\n",
    "            return self.ip\n",
    "        else:\n",
    "            raise StopIteration()\n",
    "C1 = Complex(10, 20)\n",
    "for i in range(0,2):\n",
    "    print (C1[i], end =\", \")\n",
    "print()\n",
    "for x in C1:\n",
    "    print (x, end =', ')\n",
    "print()\n"
   ]
  },
  {
   "cell_type": "markdown",
   "metadata": {},
   "source": [
    "# Static and Class Methods"
   ]
  },
  {
   "cell_type": "code",
   "execution_count": 6,
   "metadata": {},
   "outputs": [
    {
     "name": "stdout",
     "output_type": "stream",
     "text": [
      "Using static method:  9\n"
     ]
    }
   ],
   "source": [
    "class Calc:\n",
    "#    @staticmethod\n",
    "    def add(a, b):\n",
    "        return a+b\n",
    "    sadd = staticmethod(add)\n",
    "print (\"Using static method: \", Calc.sadd(4, 5))"
   ]
  },
  {
   "cell_type": "code",
   "execution_count": 7,
   "metadata": {},
   "outputs": [
    {
     "name": "stdout",
     "output_type": "stream",
     "text": [
      "Sub1 Objects:  3\n",
      "Sub2 Objects:  6\n",
      "Total Objects:  5\n"
     ]
    }
   ],
   "source": [
    "class Super:\n",
    "    n_objects = 0\n",
    "#    @classmethod\n",
    "    def increment(cls):\n",
    "        Super.n_objects+=1\n",
    "        cls.n_objects += 1\n",
    "    inc = classmethod(increment)\n",
    "class Sub1(Super):\n",
    "    def __init__(self):\n",
    "        self.inc()\n",
    "class Sub2(Super):\n",
    "    def __init__(self):\n",
    "        self.inc()\n",
    "S1 = Sub1()\n",
    "S2 = Sub1()\n",
    "S3 = Sub2()\n",
    "S4 = Sub2()\n",
    "S5 = Sub2()\n",
    "print (\"Sub1 Objects: \", Sub1.n_objects)\n",
    "print (\"Sub2 Objects: \", Sub2.n_objects)\n",
    "print (\"Total Objects: \", Super.n_objects)"
   ]
  },
  {
   "cell_type": "markdown",
   "metadata": {},
   "source": [
    "# User Defined Exception"
   ]
  },
  {
   "cell_type": "code",
   "execution_count": 8,
   "metadata": {},
   "outputs": [
    {
     "name": "stdout",
     "output_type": "stream",
     "text": [
      "Enter integer in range 0 to 10020\n",
      "your Marks:  20\n"
     ]
    }
   ],
   "source": [
    "class InvalidInputError(Exception): \n",
    "    def __init__(self, msg):\n",
    "        self.error_msg = msg\n",
    "    def __str__(self):\n",
    "        return \"Invalid Input: \"+self.error_msg\n",
    "\n",
    "def getMark():\n",
    "        x = int(input(\"Enter integer in range 0 to 100\"))\n",
    "        if x < 0 or x > 100:\n",
    "            raise InvalidInputError(\"Mark should be within range [0, 100]\")               \n",
    "        return x\n",
    "try:\n",
    "    m = getMark()\n",
    "    print (\"your Marks: \", m)\n",
    "except InvalidInputError as e: \n",
    "    print(\"Got exception: \", e)\n"
   ]
  },
  {
   "cell_type": "markdown",
   "metadata": {},
   "source": [
    "# Chained Exceptions"
   ]
  },
  {
   "cell_type": "code",
   "execution_count": 9,
   "metadata": {},
   "outputs": [
    {
     "name": "stdout",
     "output_type": "stream",
     "text": [
      "Enter integer in range 0 to 100: 20\n",
      "Enter integer in range 0 to 100: 40\n",
      "20  +  40  =  60\n"
     ]
    }
   ],
   "source": [
    "import traceback\n",
    "class InvalidInputError(Exception): \n",
    "    def __init__(self, msg):\n",
    "        self.error_msg = msg\n",
    "    def __str__(self):\n",
    "        return \"Invalid Input: \"+self.error_msg\n",
    "    \n",
    "class BadOperandError(Exception):\n",
    "    def __init__(self, msg):\n",
    "        self.error_msg = msg\n",
    "    def __str__(self):\n",
    "        return \"Bad Operand: \"+self.error_msg\n",
    "    \n",
    "def getInput():\n",
    "    x = int(input(\"Enter integer in range 0 to 100: \"))\n",
    "    if x < 0 or x > 100:\n",
    "        raise InvalidInputError(str(x))               \n",
    "    return x\n",
    "def evalExp():\n",
    "    try:\n",
    "        a = getInput()\n",
    "        b = getInput()\n",
    "        c = a + b\n",
    "        return a, b, c\n",
    "    except InvalidInputError as e:\n",
    "        raise BadOperandError(str(e) + \"\\nInput should be within range [0, 100]\") from e\n",
    "try:\n",
    "    a, b, c = evalExp()\n",
    "    print (a, \" + \", b, \" = \", c)\n",
    "except BadOperandError as e:\n",
    "    tb = traceback.format_exc()\n",
    "    print(tb)"
   ]
  },
  {
   "cell_type": "code",
   "execution_count": null,
   "metadata": {},
   "outputs": [],
   "source": []
  }
 ],
 "metadata": {
  "kernelspec": {
   "display_name": "Python 3",
   "language": "python",
   "name": "python3"
  },
  "language_info": {
   "codemirror_mode": {
    "name": "ipython",
    "version": 3
   },
   "file_extension": ".py",
   "mimetype": "text/x-python",
   "name": "python",
   "nbconvert_exporter": "python",
   "pygments_lexer": "ipython3",
   "version": "3.7.4"
  }
 },
 "nbformat": 4,
 "nbformat_minor": 2
}
