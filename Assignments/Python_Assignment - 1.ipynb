{
 "cells": [
  {
   "cell_type": "markdown",
   "metadata": {},
   "source": [
    "# Python Assignment"
   ]
  },
  {
   "cell_type": "markdown",
   "metadata": {},
   "source": [
    "### 1. To check whether a given year is leap year or not."
   ]
  },
  {
   "cell_type": "code",
   "execution_count": 4,
   "metadata": {},
   "outputs": [
    {
     "name": "stdout",
     "output_type": "stream",
     "text": [
      "2019\n",
      "2019 is not a leap year\n"
     ]
    }
   ],
   "source": [
    "n = int(input())\n",
    "if n % 400 == 0:\n",
    "    print(n, \" is a leap year\")\n",
    "elif n % 100 == 0 and n % 400 != 0:\n",
    "    print(n, \"is not a leap year\")\n",
    "elif n % 4 == 0:\n",
    "    print(n, \"is a leap year\")\n",
    "else:\n",
    "    print(n, \"is not a leap year\")"
   ]
  },
  {
   "cell_type": "markdown",
   "metadata": {},
   "source": [
    "### 2. Check whether a given date is valid or not."
   ]
  },
  {
   "cell_type": "code",
   "execution_count": 7,
   "metadata": {},
   "outputs": [
    {
     "name": "stdout",
     "output_type": "stream",
     "text": [
      "Enter the date in format 'dd/mm/yy' : 10/13/20\n",
      "Given date is not valid.\n"
     ]
    }
   ],
   "source": [
    "import datetime\n",
    "inDate = input(\"Enter the date in format 'dd/mm/yy' : \")\n",
    "dd, mm, yy = inDate.split('/')\n",
    "temp = True\n",
    "try :\n",
    "    datetime.datetime(int(yy),int(mm),int(dd))\n",
    "except ValueError :\n",
    "    temp = False\n",
    "if(temp) :\n",
    "    print (\"Given date is valid.\")\n",
    "else :\n",
    "    print (\"Given date is not valid.\")"
   ]
  },
  {
   "cell_type": "markdown",
   "metadata": {},
   "source": [
    "### 3. Given the sides a triangle, check whether triangle is equilateral, scalene or isosceles or not"
   ]
  },
  {
   "cell_type": "code",
   "execution_count": 16,
   "metadata": {},
   "outputs": [
    {
     "name": "stdout",
     "output_type": "stream",
     "text": [
      "3\n",
      "4\n",
      "4\n",
      "Isoceles Triangle\n"
     ]
    }
   ],
   "source": [
    "x = int(input())\n",
    "y = int(input())\n",
    "z = int(input())\n",
    " \n",
    "if x == y == z:\n",
    "    print(\"Equilateral Triangle\")\n",
    "if x == y and y != z or y == z and z != x or x == z and z != y:\n",
    "    print(\"Isoceles Triangle\")\n",
    "if x != y and y != z and x != z :\n",
    "    print(\"Scalene Triangle\")"
   ]
  },
  {
   "cell_type": "markdown",
   "metadata": {},
   "source": [
    "### 4. Given the three angles, check whether it forms a triangle or not."
   ]
  },
  {
   "cell_type": "code",
   "execution_count": 18,
   "metadata": {},
   "outputs": [
    {
     "name": "stdout",
     "output_type": "stream",
     "text": [
      "20\n",
      "80\n",
      "90\n",
      "It does not form a triangle\n"
     ]
    }
   ],
   "source": [
    "a=int(input())\n",
    "b=int(input())\n",
    "c=int(input())\n",
    "if(a != 0 and b != 0 and c != 0 and a + b + c == 180):\n",
    "    print(\"It forms a triangle\")\n",
    "else:\n",
    "    print(\"It does not form a triangle\")\n"
   ]
  },
  {
   "cell_type": "markdown",
   "metadata": {},
   "source": [
    "### 5. Print the first ‘n’ terms of the sequence."
   ]
  },
  {
   "cell_type": "code",
   "execution_count": 20,
   "metadata": {},
   "outputs": [
    {
     "name": "stdout",
     "output_type": "stream",
     "text": [
      "5\n",
      "0 0 1 1 2 "
     ]
    }
   ],
   "source": [
    "n = int(input())\n",
    "arr = [0]*n\n",
    "arr[0] = 0\n",
    "arr[1] = 0\n",
    "arr[2] = 1\n",
    "for x in range(3, n):\n",
    "    arr[x]= arr[x-1] + arr[x-2] + arr[x-3];\n",
    "for x in range(0,n):\n",
    "    print(arr[x],end=\" \")"
   ]
  },
  {
   "cell_type": "markdown",
   "metadata": {},
   "source": [
    "### 6. Get input of n integers from the user one by one and print the number of positive, negative and zeros. Also find the sum and average of all positive and negative numbers separately."
   ]
  },
  {
   "cell_type": "code",
   "execution_count": 21,
   "metadata": {},
   "outputs": [
    {
     "name": "stdout",
     "output_type": "stream",
     "text": [
      "Enter n: 4\n",
      "1\n",
      "-1\n",
      "0\n",
      "5\n",
      "Number of positives:  2\n",
      "Number of negatives:  1\n",
      "Number of zeroes:  1\n",
      "Sum of positives:  6\n",
      "Sum of negatives:  -1\n",
      "Avg of positive numbers:  3.0\n",
      "Avg of negative numbers:  -1.0\n"
     ]
    }
   ],
   "source": [
    "n = int(input('Enter n: '))\n",
    "\n",
    "pos = neg = zero = pos_sum = neg_sum = 0\n",
    "for i in range(n):\n",
    "    i = int(input())\n",
    "    if i > 0:\n",
    "        pos = pos + 1\n",
    "        pos_sum = pos_sum + i\n",
    "    if i < 0:\n",
    "        neg = neg + 1\n",
    "        neg_sum = neg_sum + i\n",
    "    if i == 0:\n",
    "        zero = zero + 1\n",
    "        \n",
    "print(\"Number of positives: \", pos)\n",
    "print(\"Number of negatives: \", neg)\n",
    "print(\"Number of zeroes: \", zero)\n",
    "print(\"Sum of positives: \", pos_sum)\n",
    "print(\"Sum of negatives: \", neg_sum)\n",
    "print(\"Avg of positive numbers: \", pos_sum/pos)\n",
    "print(\"Avg of negative numbers: \", neg_sum/neg)\n"
   ]
  },
  {
   "cell_type": "markdown",
   "metadata": {},
   "source": [
    "###  7. Write a program to input marks in English, Maths and Science of 10 students who have passed CBSE Examination 2020.\n",
    "Now perform the following tasks:\n",
    "\n",
    "a) Print the number of students who have secured 95% or more in all the subjects.\n",
    "\n",
    "b) For each subject, print the number of students who have secured 90% or more.\n"
   ]
  },
  {
   "cell_type": "code",
   "execution_count": 28,
   "metadata": {},
   "outputs": [
    {
     "name": "stdout",
     "output_type": "stream",
     "text": [
      "Enter marks in first subject of student 1: 95\n",
      "Enter marks in second subject of student 1: 96\n",
      "Enter marks in third subject of student 1: 100\n",
      "Enter marks in first subject of student 2: 30\n",
      "Enter marks in second subject of student 2: 65\n",
      "Enter marks in third subject of student 2: 25\n",
      "Enter marks in first subject of student 3: 5\n",
      "Enter marks in second subject of student 3: 96\n",
      "Enter marks in third subject of student 3: 92\n",
      "Enter marks in first subject of student 4: 53\n",
      "Enter marks in second subject of student 4: 85\n",
      "Enter marks in third subject of student 4: 36\n",
      "Enter marks in first subject of student 5: 96\n",
      "Enter marks in second subject of student 5: 74\n",
      "Enter marks in third subject of student 5: 85\n",
      "Enter marks in first subject of student 6: 25\n",
      "Enter marks in second subject of student 6: 14\n",
      "Enter marks in third subject of student 6: 36\n",
      "Enter marks in first subject of student 7: 85\n",
      "Enter marks in second subject of student 7: 96\n",
      "Enter marks in third subject of student 7: 95\n",
      "Enter marks in first subject of student 8: 94\n",
      "Enter marks in second subject of student 8: 93\n",
      "Enter marks in third subject of student 8: 97\n",
      "Enter marks in first subject of student 9: 98\n",
      "Enter marks in second subject of student 9: 90\n",
      "Enter marks in third subject of student 9: 100\n",
      "Enter marks in first subject of student 10: 100\n",
      "Enter marks in second subject of student 10: 90\n",
      "Enter marks in third subject of student 10: 95\n",
      "Number of students who have secured 95% or more in all the subjects are: 1\n",
      "Number of students who secured more than 90% in first subject: 5\n",
      "Number of students who secured more than 90% in second subject: 4\n",
      "Number of students who secured more than 90% in third subject: 6\n"
     ]
    }
   ],
   "source": [
    "s=0\n",
    "a=0\n",
    "b=0\n",
    "c=0\n",
    "for i in range(1,11):\n",
    "    \n",
    "    x = int(input(f\"Enter marks in first subject of student {i}: \"))\n",
    "    y = int(input(f\"Enter marks in second subject of student {i}: \"))\n",
    "    z = int(input(f\"Enter marks in third subject of student {i}: \"))\n",
    "    \n",
    "    #total=(x + y + z)/300\n",
    "    #total=total*100\n",
    "    \n",
    "    if x >= 95 and y >= 95 and z >= 95:\n",
    "        s = s + 1\n",
    "    if x > 90:\n",
    "        a = a + 1\n",
    "    if y > 90:\n",
    "        b = b + 1\n",
    "    if z > 90:\n",
    "        c = c + 1\n",
    "print(\"Number of students who have secured 95% or more in all the subjects are:\",s)\n",
    "print(\"Number of students who secured more than 90% in first subject:\",a)\n",
    "print(\"Number of students who secured more than 90% in second subject:\",b)\n",
    "print(\"Number of students who secured more than 90% in third subject:\",c)"
   ]
  },
  {
   "cell_type": "markdown",
   "metadata": {},
   "source": [
    "### 8. Write a program to accept a number from the user and check whether it is a palindrome or a perfect number.\n"
   ]
  },
  {
   "cell_type": "code",
   "execution_count": 32,
   "metadata": {},
   "outputs": [
    {
     "name": "stdout",
     "output_type": "stream",
     "text": [
      "101\n",
      "Given number is a palindrome\n",
      "Given number is not a perfect number\n"
     ]
    }
   ],
   "source": [
    "n = int(input())\n",
    "temp = n\n",
    "rev = 0\n",
    "while temp > 0:\n",
    "    rev = rev * 10 + (temp%10)\n",
    "    temp = temp // 10\n",
    "if rev == n:\n",
    "    print(\"Given number is a palindrome\")\n",
    "else:\n",
    "    print(\"Given number is not a palindrome\")\n",
    "x = n//2\n",
    "sum = 0\n",
    "\n",
    "for i in range(1, x+1):\n",
    "    if n % i == 0:\n",
    "        sum = sum + i\n",
    "if n == sum:\n",
    "    print(\"Given number is a perfect number\")\n",
    "else:\n",
    "    print(\"Given number is not a perfect number\")"
   ]
  }
 ],
 "metadata": {
  "kernelspec": {
   "display_name": "Python 3",
   "language": "python",
   "name": "python3"
  },
  "language_info": {
   "codemirror_mode": {
    "name": "ipython",
    "version": 3
   },
   "file_extension": ".py",
   "mimetype": "text/x-python",
   "name": "python",
   "nbconvert_exporter": "python",
   "pygments_lexer": "ipython3",
   "version": "3.8.2"
  }
 },
 "nbformat": 4,
 "nbformat_minor": 4
}
