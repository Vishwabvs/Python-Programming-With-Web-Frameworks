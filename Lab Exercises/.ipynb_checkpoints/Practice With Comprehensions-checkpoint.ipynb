{
 "cells": [
  {
   "cell_type": "markdown",
   "metadata": {},
   "source": [
    "# Comprehensions"
   ]
  },
  {
   "cell_type": "markdown",
   "metadata": {},
   "source": [
    "### List Comprehension"
   ]
  },
  {
   "cell_type": "code",
   "execution_count": 1,
   "metadata": {},
   "outputs": [
    {
     "name": "stdout",
     "output_type": "stream",
     "text": [
      "L1 =  [10, 20, 30, 40]\n",
      "L2 =  [15, 25, 35, 45]\n"
     ]
    }
   ],
   "source": [
    "L1 = [10, 20, 30, 40]\n",
    "L2 = [x+5 for x in L1]             # List comprehension\n",
    "print('L1 = ', L1)\n",
    "print('L2 = ', L2)"
   ]
  },
  {
   "cell_type": "code",
   "execution_count": 2,
   "metadata": {},
   "outputs": [
    {
     "name": "stdout",
     "output_type": "stream",
     "text": [
      "L3 =  [15, 25, 35, 45]\n"
     ]
    }
   ],
   "source": [
    "L3 = [x+5 for x in range(10,50,10)]\n",
    "print('L3 = ', L3)"
   ]
  },
  {
   "cell_type": "code",
   "execution_count": 3,
   "metadata": {},
   "outputs": [
    {
     "name": "stdout",
     "output_type": "stream",
     "text": [
      "L4 =  ['Think Merit', ' Think Transparency', ' Think SASTRA']\n"
     ]
    }
   ],
   "source": [
    "s = \"Think Merit, Think Transparency, Think SASTRA\"\n",
    "L4 = [x for x in s.split(',')]\n",
    "print('L4 = ', L4)"
   ]
  },
  {
   "cell_type": "code",
   "execution_count": 4,
   "metadata": {},
   "outputs": [
    {
     "name": "stdout",
     "output_type": "stream",
     "text": [
      "L5 =  ['Think Merit', 'Think Transparency', 'Think SASTRA']\n"
     ]
    }
   ],
   "source": [
    "s = \"Think Merit,  Think Transparency,  Think SASTRA  \"\n",
    "L5 = [x.strip() for x in s.split(',')]\n",
    "print('L5 = ', L5)"
   ]
  },
  {
   "cell_type": "code",
   "execution_count": 5,
   "metadata": {},
   "outputs": [
    {
     "name": "stdout",
     "output_type": "stream",
     "text": [
      "L6 =  ['THINK MERIT', 'THINK TRANSPARENCY', 'THINK SASTRA']\n"
     ]
    }
   ],
   "source": [
    "L6 = [x.strip().upper() for x in s.split(',')]\n",
    "print('L6 = ', L6)"
   ]
  },
  {
   "cell_type": "code",
   "execution_count": 6,
   "metadata": {},
   "outputs": [
    {
     "name": "stdout",
     "output_type": "stream",
     "text": [
      "L7 =  [0, 2, 4, 6, 8, 10, 12, 14, 16, 18, 20, 22, 24, 26, 28, 30, 32, 34, 36, 38, 40, 42, 44, 46, 48]\n"
     ]
    }
   ],
   "source": [
    "L7 = [x for x in range(50) if x%2 == 0]\n",
    "print('L7 = ', L7)"
   ]
  },
  {
   "cell_type": "code",
   "execution_count": 9,
   "metadata": {},
   "outputs": [
    {
     "name": "stdout",
     "output_type": "stream",
     "text": [
      "L8 =  [100, 102, 104, 106, 108, 101, 103, 105, 107, 109, 102, 104, 106, 108, 110, 103, 105, 107, 109, 111, 104, 106, 108, 110, 112, 105, 107, 109, 111, 113, 106, 108, 110, 112, 114, 107, 109, 111, 113, 115, 108, 110, 112, 114, 116, 109, 111, 113, 115, 117]\n"
     ]
    }
   ],
   "source": [
    "L8 = [x+y for x in range(100,110) for y in range(0,10,2)]\n",
    "print('L8 = ', L8)"
   ]
  },
  {
   "cell_type": "markdown",
   "metadata": {},
   "source": [
    "### Set Comprehension"
   ]
  },
  {
   "cell_type": "code",
   "execution_count": 10,
   "metadata": {},
   "outputs": [
    {
     "name": "stdout",
     "output_type": "stream",
     "text": [
      "S1 =  {40, 10, 20, 30}\n",
      "S2 =  {25, 35, 45, 15}\n"
     ]
    }
   ],
   "source": [
    "S1 = {10, 20, 30, 40}\n",
    "S2 = {x+5 for x in L1}\n",
    "print('S1 = ', S1)\n",
    "print('S2 = ', S2)"
   ]
  },
  {
   "cell_type": "code",
   "execution_count": 11,
   "metadata": {},
   "outputs": [
    {
     "name": "stdout",
     "output_type": "stream",
     "text": [
      "S3 =  {25, 35, 45, 15}\n"
     ]
    }
   ],
   "source": [
    "S3 = {x+5 for x in range(10,50,10)}\n",
    "print('S3 = ', S3)"
   ]
  },
  {
   "cell_type": "code",
   "execution_count": 12,
   "metadata": {},
   "outputs": [
    {
     "name": "stdout",
     "output_type": "stream",
     "text": [
      "S4 =  {' Think SASTRA', 'Think Merit', ' Think Transparency'}\n"
     ]
    }
   ],
   "source": [
    "s = \"Think Merit, Think Transparency, Think SASTRA\"\n",
    "S4 = {x for x in s.split(',')}\n",
    "print('S4 = ', S4)"
   ]
  },
  {
   "cell_type": "code",
   "execution_count": 13,
   "metadata": {},
   "outputs": [
    {
     "name": "stdout",
     "output_type": "stream",
     "text": [
      "S5 =  {'Think Merit', 'Think Transparency', 'Think SASTRA'}\n"
     ]
    }
   ],
   "source": [
    "s = \"Think Merit,  Think Transparency,  Think SASTRA  \"\n",
    "S5 = {x.strip() for x in s.split(',')}\n",
    "print('S5 = ', S5)"
   ]
  },
  {
   "cell_type": "code",
   "execution_count": 14,
   "metadata": {},
   "outputs": [
    {
     "name": "stdout",
     "output_type": "stream",
     "text": [
      "S6 =  {'THINK TRANSPARENCY', 'THINK SASTRA', 'THINK MERIT'}\n"
     ]
    }
   ],
   "source": [
    "S6 = {x.strip().upper() for x in s.split(',')}\n",
    "print('S6 = ', S6)"
   ]
  },
  {
   "cell_type": "code",
   "execution_count": 15,
   "metadata": {},
   "outputs": [
    {
     "name": "stdout",
     "output_type": "stream",
     "text": [
      "S7 =  {0, 2, 4, 6, 8, 10, 12, 14, 16, 18, 20, 22, 24, 26, 28, 30, 32, 34, 36, 38, 40, 42, 44, 46, 48}\n"
     ]
    }
   ],
   "source": [
    "S7 = {x for x in range(50) if x%2 == 0}\n",
    "print('S7 = ', S7)"
   ]
  },
  {
   "cell_type": "code",
   "execution_count": 16,
   "metadata": {},
   "outputs": [
    {
     "name": "stdout",
     "output_type": "stream",
     "text": [
      "S8 =  {100, 101, 102, 103, 104, 105, 106, 107, 108, 109, 110, 111, 112, 113, 114, 115, 116, 117}\n"
     ]
    }
   ],
   "source": [
    "S8 = {x+y for x in range(100,110) for y in range(0,10,2)}\n",
    "print('S8 = ', S8)"
   ]
  },
  {
   "cell_type": "markdown",
   "metadata": {},
   "source": [
    "### Dictionary Comprehension"
   ]
  },
  {
   "cell_type": "code",
   "execution_count": 17,
   "metadata": {},
   "outputs": [
    {
     "name": "stdout",
     "output_type": "stream",
     "text": [
      "L1 =  ['A', 'B', 'C', 'D', 'E', 'F', 'G', 'H']\n",
      "D1 =  {'A': 65, 'B': 66, 'C': 67, 'D': 68, 'E': 69, 'F': 70, 'G': 71, 'H': 72}\n"
     ]
    }
   ],
   "source": [
    "L1 = ['A', 'B', 'C', 'D', 'E', 'F', 'G', 'H']\n",
    "D1 = {x:ord(x) for x in L1}\n",
    "print('L1 = ', L1)\n",
    "print('D1 = ', D1)"
   ]
  },
  {
   "cell_type": "code",
   "execution_count": 18,
   "metadata": {},
   "outputs": [
    {
     "name": "stdout",
     "output_type": "stream",
     "text": [
      "D2 =  {1: 1, 2: 4, 3: 9, 4: 16, 5: 25, 6: 36, 7: 49, 8: 64, 9: 81, 10: 100}\n"
     ]
    }
   ],
   "source": [
    "D2 = {x:x**2 for x in range(1,11)}\n",
    "print('D2 = ', D2)"
   ]
  },
  {
   "cell_type": "code",
   "execution_count": 19,
   "metadata": {},
   "outputs": [
    {
     "name": "stdout",
     "output_type": "stream",
     "text": [
      "D3 =  {'a': 97, 'b': 98, 'c': 99, 'd': 100, 'e': 101, 'f': 102, 'g': 103, 'h': 104, 'i': 105, 'j': 106, 'k': 107, 'l': 108, 'm': 109, 'n': 110, 'o': 111, 'p': 112, 'q': 113, 'r': 114, 's': 115, 't': 116, 'u': 117, 'v': 118, 'w': 119, 'x': 120, 'y': 121, 'z': 122}\n"
     ]
    }
   ],
   "source": [
    "L1 = [(x, ord(x)) for x in 'abcdefghijklmnopqrstuvwxyz']\n",
    "D3 = {x:y for (x, y) in L1}\n",
    "print('D3 = ', D3)"
   ]
  },
  {
   "cell_type": "code",
   "execution_count": 20,
   "metadata": {},
   "outputs": [
    {
     "name": "stdout",
     "output_type": "stream",
     "text": [
      "D3 =  {'a': 97, 'b': 98, 'c': 99, 'd': 100, 'e': 101, 'f': 102, 'g': 103, 'h': 104, 'i': 105, 'j': 106, 'k': 107, 'l': 108, 'm': 109, 'n': 110, 'o': 111, 'p': 112, 'q': 113, 'r': 114, 's': 115, 't': 116, 'u': 117, 'v': 118, 'w': 119, 'x': 120, 'y': 121, 'z': 122}\n"
     ]
    }
   ],
   "source": [
    "D3 = {x:y for x, y in L1}\n",
    "print('D3 = ', D3)"
   ]
  },
  {
   "cell_type": "code",
   "execution_count": 21,
   "metadata": {},
   "outputs": [
    {
     "name": "stdout",
     "output_type": "stream",
     "text": [
      "D4 =  {'Joe': 48, 'Kim': 32, 'Raja': 25, 'Ajai': 60}\n"
     ]
    }
   ],
   "source": [
    "L1 = [['Joe', 48], ['Kim', 32], ['Raja', 25], ['Ajai', 60]]\n",
    "D4 = {a:b for [a,b] in L1}\n",
    "print('D4 = ', D4)"
   ]
  },
  {
   "cell_type": "code",
   "execution_count": 22,
   "metadata": {},
   "outputs": [
    {
     "name": "stdout",
     "output_type": "stream",
     "text": [
      "D4 =  {'Joe': 48, 'Kim': 32, 'Raja': 25, 'Ajai': 60}\n"
     ]
    }
   ],
   "source": [
    "D4 = {a:b for a,b in L1}\n",
    "print('D4 = ', D4)"
   ]
  },
  {
   "cell_type": "markdown",
   "metadata": {},
   "source": [
    "### Tuple Comprehension"
   ]
  },
  {
   "cell_type": "code",
   "execution_count": 23,
   "metadata": {},
   "outputs": [
    {
     "name": "stdout",
     "output_type": "stream",
     "text": [
      "T1 =  (('Joe', 48), ('Kim', 32), ('Raja', 25), ('Ajai', 60))\n"
     ]
    }
   ],
   "source": [
    "D1 = {'Joe': 48, 'Kim': 32, 'Raja': 25, 'Ajai': 60}\n",
    "T1 = tuple(D1.items())\n",
    "print('T1 = ', T1)"
   ]
  },
  {
   "cell_type": "code",
   "execution_count": 24,
   "metadata": {},
   "outputs": [
    {
     "name": "stdout",
     "output_type": "stream",
     "text": [
      "T2 =  (('JOE', 48), ('KIM', 32), ('RAJA', 25), ('AJAI', 60))\n"
     ]
    }
   ],
   "source": [
    "T2 = tuple((x.upper(), y) for x,y in D1.items())\n",
    "print('T2 = ', T2)"
   ]
  },
  {
   "cell_type": "code",
   "execution_count": 25,
   "metadata": {},
   "outputs": [
    {
     "name": "stdout",
     "output_type": "stream",
     "text": [
      "T2 =  <generator object <genexpr> at 0x7fe8a0482820>\n",
      "JOE 48\n",
      "KIM 32\n",
      "RAJA 25\n",
      "AJAI 60\n"
     ]
    }
   ],
   "source": [
    "T2 = ((x.upper(), y) for x,y in D1.items())\n",
    "print('T2 = ', T2)\n",
    "for x,y in T2:\n",
    "    print (x, y)"
   ]
  },
  {
   "cell_type": "code",
   "execution_count": 26,
   "metadata": {},
   "outputs": [
    {
     "name": "stdout",
     "output_type": "stream",
     "text": [
      "T3 =  ((1, 10, 10), (1, 20, 20), (2, 10, 20), (2, 20, 40), (3, 10, 30), (3, 20, 60), (4, 10, 40), (4, 20, 80))\n"
     ]
    }
   ],
   "source": [
    "L1 = [1, 2, 3, 4]\n",
    "L2 = [10, 20]\n",
    "T3 = tuple((x, y, x*y) for x in L1 for y in L2)\n",
    "print('T3 = ', T3)"
   ]
  },
  {
   "cell_type": "markdown",
   "metadata": {},
   "source": [
    "Only for tuple we need to explicity specify tuple() otherwise if we specify [] it is interpreted as list and {} as set and etc"
   ]
  },
  {
   "cell_type": "code",
   "execution_count": null,
   "metadata": {},
   "outputs": [],
   "source": []
  }
 ],
 "metadata": {
  "kernelspec": {
   "display_name": "Python 3",
   "language": "python",
   "name": "python3"
  },
  "language_info": {
   "codemirror_mode": {
    "name": "ipython",
    "version": 3
   },
   "file_extension": ".py",
   "mimetype": "text/x-python",
   "name": "python",
   "nbconvert_exporter": "python",
   "pygments_lexer": "ipython3",
   "version": "3.8.2"
  }
 },
 "nbformat": 4,
 "nbformat_minor": 2
}
