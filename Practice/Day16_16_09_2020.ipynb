{
 "cells": [
  {
   "cell_type": "markdown",
   "metadata": {},
   "source": [
    "# Python Practice Day 16"
   ]
  },
  {
   "cell_type": "markdown",
   "metadata": {},
   "source": [
    "## Recursion and Algorithms"
   ]
  },
  {
   "cell_type": "markdown",
   "metadata": {},
   "source": [
    "### Adding n numbers using iterations and recursion"
   ]
  },
  {
   "cell_type": "code",
   "execution_count": 11,
   "metadata": {},
   "outputs": [
    {
     "name": "stdout",
     "output_type": "stream",
     "text": [
      "276\n"
     ]
    }
   ],
   "source": [
    "def add_Iter(*numbers):\n",
    "    sum = 0\n",
    "    for x in numbers:\n",
    "        sum = sum + x\n",
    "    return sum\n",
    "print(add_Iter(24, 35, 11, 56, 29, 87, 34))"
   ]
  },
  {
   "cell_type": "code",
   "execution_count": 12,
   "metadata": {},
   "outputs": [
    {
     "name": "stdout",
     "output_type": "stream",
     "text": [
      "276\n"
     ]
    }
   ],
   "source": [
    "def add_Rec(*numbers):\n",
    "    if(len(numbers)) == 0:\n",
    "        return 0\n",
    "    else:\n",
    "        return numbers[0] + add_Rec(*numbers[1:])\n",
    "print(add_Rec(24, 35, 11, 56, 29, 87, 34))"
   ]
  },
  {
   "cell_type": "markdown",
   "metadata": {},
   "source": [
    "### Finding Factorial "
   ]
  },
  {
   "cell_type": "code",
   "execution_count": 13,
   "metadata": {},
   "outputs": [
    {
     "name": "stdout",
     "output_type": "stream",
     "text": [
      "3628800\n"
     ]
    }
   ],
   "source": [
    "def fact_iter(n):\n",
    "    fact = 1\n",
    "    for i in range(1, n+1):\n",
    "        fact = fact*i\n",
    "    return fact\n",
    "print(fact_iter(10))"
   ]
  },
  {
   "cell_type": "code",
   "execution_count": 14,
   "metadata": {},
   "outputs": [
    {
     "name": "stdout",
     "output_type": "stream",
     "text": [
      "3628800\n"
     ]
    }
   ],
   "source": [
    "def fact_recur(n):\n",
    "    if n == 1:\n",
    "        return 1\n",
    "    else:\n",
    "        return n*fact_recur(n-1)\n",
    "print(fact_recur(10))"
   ]
  },
  {
   "cell_type": "markdown",
   "metadata": {},
   "source": [
    "### Nth Fibonacci Number"
   ]
  },
  {
   "cell_type": "code",
   "execution_count": 16,
   "metadata": {},
   "outputs": [
    {
     "name": "stdout",
     "output_type": "stream",
     "text": [
      "4181\n"
     ]
    }
   ],
   "source": [
    "def fib_iter(n):\n",
    "    f0 = 0\n",
    "    f1 = 1\n",
    "    for i in range(3, n+1):\n",
    "        f0, f1 = f1, f0 + f1\n",
    "    return f1\n",
    "print(fib_iter(20))"
   ]
  },
  {
   "cell_type": "code",
   "execution_count": 18,
   "metadata": {},
   "outputs": [
    {
     "name": "stdout",
     "output_type": "stream",
     "text": [
      "4181\n"
     ]
    }
   ],
   "source": [
    "def fib_recur(n):\n",
    "    if n == 1:\n",
    "        return 0\n",
    "    elif n == 2:\n",
    "        return 1\n",
    "    else:\n",
    "        return fib_recur(n-1) + fib_recur(n-2)\n",
    "print(fib_recur(20))"
   ]
  },
  {
   "cell_type": "markdown",
   "metadata": {},
   "source": [
    "### Binary Tree Traversal using Recursion"
   ]
  },
  {
   "cell_type": "code",
   "execution_count": 29,
   "metadata": {},
   "outputs": [
    {
     "name": "stdout",
     "output_type": "stream",
     "text": [
      "G D H B I E A C J F K "
     ]
    }
   ],
   "source": [
    "tree = {'Root':'A', 'A':{'left':'B', 'right':'C'}, 'B':{'left':'D', 'right':'E'}, 'C':{'left':None, 'right':'F'},\n",
    "        'D':{'left':'G', 'right':'H'}, 'E':{'left':'I', 'right':None}, 'F':{'left':'J', 'right':'K'}}\n",
    "\n",
    "def inorder(node):\n",
    "    if node:\n",
    "        if tree.get(node):\n",
    "            inorder(tree[node].get('left'))\n",
    "        print(node, end = ' ')\n",
    "        if tree.get(node):\n",
    "            inorder(tree[node].get('right'))\n",
    "inorder(tree['Root'])"
   ]
  },
  {
   "cell_type": "code",
   "execution_count": 31,
   "metadata": {},
   "outputs": [
    {
     "name": "stdout",
     "output_type": "stream",
     "text": [
      "A B D G H E I C F J K "
     ]
    }
   ],
   "source": [
    "def preorder(node):\n",
    "    if node:\n",
    "        print(node, end = ' ')\n",
    "        if tree.get(node):\n",
    "            preorder(tree[node].get('left'))\n",
    "        if tree.get(node):\n",
    "            preorder(tree[node].get('right'))\n",
    "preorder(tree['Root'])"
   ]
  },
  {
   "cell_type": "code",
   "execution_count": 32,
   "metadata": {},
   "outputs": [
    {
     "name": "stdout",
     "output_type": "stream",
     "text": [
      "G H D I E B J K F C A "
     ]
    }
   ],
   "source": [
    "def postorder(node):\n",
    "    if node:\n",
    "        if tree.get(node):\n",
    "            postorder(tree[node].get('left'))\n",
    "        if tree.get(node):\n",
    "            postorder(tree[node].get('right'))\n",
    "        print(node, end = ' ')\n",
    "        \n",
    "postorder(tree['Root'])"
   ]
  },
  {
   "cell_type": "markdown",
   "metadata": {},
   "source": [
    "### MergeSort"
   ]
  },
  {
   "cell_type": "code",
   "execution_count": 33,
   "metadata": {},
   "outputs": [],
   "source": [
    "def merge(A, low, mid, high):\n",
    "    i, j, k = low, mid+1, 0\n",
    "    T = [0]*(high-low+1)\n",
    "    while i<=mid and j<=high:\n",
    "        if A[i] < A[j]:\n",
    "            T[k] = A[i]\n",
    "            i += 1\n",
    "            k += 1\n",
    "        else:\n",
    "            T[k] = A[j]\n",
    "            j += 1\n",
    "            k += 1\n",
    "    if i > mid:\n",
    "        T[k:high-low+1] = A[j:high+1]\n",
    "    else:\n",
    "        T[k:high-low+1] = A[i:mid+1]\n",
    "    A[low:high+1] = T[0:high-low+1]"
   ]
  },
  {
   "cell_type": "code",
   "execution_count": 34,
   "metadata": {},
   "outputs": [],
   "source": [
    "def mergesort(A, low, high):\n",
    "    if low < high:\n",
    "        mid = (low + high)//2\n",
    "        mergesort(A, low, mid)\n",
    "        mergesort(A, mid + 1, high)\n",
    "        merge(A, low, mid, high)"
   ]
  },
  {
   "cell_type": "code",
   "execution_count": 36,
   "metadata": {},
   "outputs": [
    {
     "data": {
      "text/plain": [
       "[11, 21, 35, 41, 44, 53, 62, 73, 98]"
      ]
     },
     "execution_count": 36,
     "metadata": {},
     "output_type": "execute_result"
    }
   ],
   "source": [
    "L = [41, 35, 53, 21, 62, 11, 98, 44, 73]\n",
    "mergesort(L, 0, len(L)-1)\n",
    "L"
   ]
  },
  {
   "cell_type": "markdown",
   "metadata": {},
   "source": [
    "### Breadth First Search"
   ]
  },
  {
   "cell_type": "code",
   "execution_count": 47,
   "metadata": {},
   "outputs": [
    {
     "name": "stdout",
     "output_type": "stream",
     "text": [
      "BFS: A B C D \n",
      "A    None    0\n",
      "B    A    1\n",
      "C    A    1\n",
      "D    A    1\n"
     ]
    }
   ],
   "source": [
    "G = {'A':['B', 'C', 'D'], 'B':['A', 'D'], 'C':['A', 'D'], 'D':['A', 'B', 'C']}\n",
    "def BFS(G, src):\n",
    "    keys = G.keys()\n",
    "    parent = dict.fromkeys(G.keys(), None)\n",
    "    color = dict.fromkeys(G.keys(), 'WHITE')\n",
    "    dist = dict.fromkeys(G.keys(), 99999999)\n",
    "    \n",
    "    Q = [src]\n",
    "    dist[src] = 0\n",
    "    color[src] = 'GREY'\n",
    "    parent[src] = None\n",
    "    while Q:\n",
    "        u = Q.pop(0)\n",
    "        print(u, end = ' ')\n",
    "        for v in G.get(u, None):\n",
    "            if color[v] == 'WHITE':\n",
    "                color[v] = 'GREY'\n",
    "                dist[v] = dist[u] + 1\n",
    "                parent[v] = u\n",
    "                Q.append(v)\n",
    "        color[u] = 'BLACK'\n",
    "    print()\n",
    "    return parent, dist\n",
    "print('BFS: ', end = '')\n",
    "P, D = BFS(G, 'A')\n",
    "for v in G:\n",
    "    print(v, '  ', P[v], '  ', D[v])"
   ]
  },
  {
   "cell_type": "markdown",
   "metadata": {},
   "source": [
    "### Depth First Search"
   ]
  },
  {
   "cell_type": "code",
   "execution_count": 48,
   "metadata": {},
   "outputs": [
    {
     "name": "stdout",
     "output_type": "stream",
     "text": [
      "DFS: A B D C \n",
      "A    None    1    8\n",
      "B    A    2    7\n",
      "C    D    4    5\n",
      "D    B    3    6\n"
     ]
    }
   ],
   "source": [
    "G = {'A':['B', 'C', 'D'], 'B':['A', 'D'], 'C':['A', 'D'], 'D':['A', 'B', 'C']}\n",
    "\n",
    "def DFS_Visit(u):\n",
    "    global time, d, f, parent, color\n",
    "    keys = G.keys()\n",
    "    time += 1\n",
    "    print(u, end = ' ')\n",
    "    d[u] = time\n",
    "    color[u] = 'GREY'\n",
    "    for v in G.get(u, None):\n",
    "        if color[v] == 'WHITE':\n",
    "            parent[v] = u\n",
    "            DFS_Visit(v)\n",
    "    time += 1\n",
    "    f[u] = time\n",
    "    color[u] = 'BLACK'\n",
    "\n",
    "def DFS(G):\n",
    "    keys = G.keys()\n",
    "    \n",
    "    global time, d, f, parent, color\n",
    "    time = 0\n",
    "    parent = dict.fromkeys(G.keys(), None)\n",
    "    color = dict.fromkeys(G.keys(), 'WHITE')\n",
    "    d = dict.fromkeys(G.keys(), 0)\n",
    "    f = dict.fromkeys(G.keys(), 0)\n",
    "    \n",
    "    for u in G:\n",
    "        if color[u] == 'WHITE':\n",
    "            DFS_Visit(u)\n",
    "    print()\n",
    "    return parent, d, f\n",
    "    \n",
    "    \n",
    "print('DFS: ', end = '')\n",
    "P, D, F = DFS(G)\n",
    "for v in G:\n",
    "    print(v, '  ', P[v], '  ', D[v], '  ', F[v])"
   ]
  },
  {
   "cell_type": "code",
   "execution_count": null,
   "metadata": {},
   "outputs": [],
   "source": []
  }
 ],
 "metadata": {
  "kernelspec": {
   "display_name": "Python 3",
   "language": "python",
   "name": "python3"
  },
  "language_info": {
   "codemirror_mode": {
    "name": "ipython",
    "version": 3
   },
   "file_extension": ".py",
   "mimetype": "text/x-python",
   "name": "python",
   "nbconvert_exporter": "python",
   "pygments_lexer": "ipython3",
   "version": "3.8.2"
  }
 },
 "nbformat": 4,
 "nbformat_minor": 4
}
