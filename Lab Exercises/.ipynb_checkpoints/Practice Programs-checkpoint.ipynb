{
 "cells": [
  {
   "cell_type": "markdown",
   "metadata": {},
   "source": [
    "### Q1. You work for a manufacturer, and have been asked to calculate the total profit made on the sales of items produced.  Write a function that takes multiple arguments as a dictionary consisting of for each item_name its cost price per unit (in rupees), sell price per unit (in rupees), and the quantity as a tuple. Return the total profit made, rounded to the nearest rupees. Assume all of the available quantity have been sold."
   ]
  },
  {
   "cell_type": "code",
   "execution_count": 2,
   "metadata": {},
   "outputs": [
    {
     "name": "stdout",
     "output_type": "stream",
     "text": [
      "Item_A\n",
      "Item_B\n",
      "Item_C\n"
     ]
    },
    {
     "data": {
      "text/plain": [
       "0"
      ]
     },
     "execution_count": 2,
     "metadata": {},
     "output_type": "execute_result"
    }
   ],
   "source": [
    "def profit_gained(**items):\n",
    "    profit = 0\n",
    "    # your code here\n",
    "    for key in items.keys():\n",
    "        \n",
    "    return profit\n",
    "profit_gained(Item_A = (20.75, 40.65, 5), Item_B = (25.40, 60.50, 3), Item_C = (10.30, 15.25, 12))"
   ]
  },
  {
   "cell_type": "markdown",
   "metadata": {},
   "source": [
    "### Q2. Create a function that takes multiple arguments where each argument is a list that has 2 elements, namely numerator and denominator. Return the sum of the fractions rounded to the nearest whole number"
   ]
  },
  {
   "cell_type": "code",
   "execution_count": null,
   "metadata": {},
   "outputs": [],
   "source": [
    "def fraction_sum(*args):\n",
    "    sum = 0\n",
    "    #your code here\n",
    "    return sum\n",
    "fraction_sum([5, 6], [2, 3], [1, 2], [7, 8])"
   ]
  },
  {
   "cell_type": "markdown",
   "metadata": {},
   "source": [
    "### Q3. The volume of a spherical shell is the difference between the enclosed volume of the outer sphere and the enclosed volume of the inner sphere.\n",
    "### Write a lambda function that takes radius and returns the volume a sphere.\n",
    "### Using the above lambda function find the volume of a spherical shell having outer sphere radius r1 and inner sphere radius r2 \n",
    "    Volume of sphere with radius r is given as 4/3*π*r**3 "
   ]
  },
  {
   "cell_type": "code",
   "execution_count": null,
   "metadata": {},
   "outputs": [],
   "source": [
    "import math as m\n",
    "sphere_volume = # write lambda function \n",
    "def shell_volume(r1, r2):\n",
    "    volume = # call the lambda function\n",
    "    return volume\n",
    "shell_volume(10, 5)"
   ]
  },
  {
   "cell_type": "markdown",
   "metadata": {},
   "source": [
    "### Q4. Amicable numbers are two different numbers so related that the sum of the proper divisors of each is equal to the other number. The smallest pair of amicable numbers is (220, 284). They are amicable because the proper divisors of 220 are 1, 2, 4, 5, 10, 11, 20, 22, 44, 55 and 110, of which the sum is 284; and the proper divisors of 284 are 1, 2, 4, 71 and 142, of which the sum is 220. Write a Python program to compute the sum of all the amicable numbers under a given number"
   ]
  },
  {
   "cell_type": "code",
   "execution_count": null,
   "metadata": {},
   "outputs": [],
   "source": [
    "def get_proper_divisors(N):\n",
    "    divisors = # write as a list comprehension\n",
    "    return divisors\n",
    "\n",
    "amicable_pairs = # write as a list comprehension using above function\n",
    "print(amicable_pairs)"
   ]
  },
  {
   "cell_type": "markdown",
   "metadata": {},
   "source": [
    "### Q5. In number theory,  \n",
    "    A number n is called perfect if the sum of its proper divisors is equal to n\n",
    "    A number n is called deficient if the sum of its proper divisors is less than n \n",
    "    A number n is called abundant if the sum of its proper divisors exceeds n. \n",
    "### Write a Python program to check whether the given number is Perfect, Abundant or Deficient."
   ]
  },
  {
   "cell_type": "code",
   "execution_count": null,
   "metadata": {},
   "outputs": [],
   "source": [
    "def check_property(N):\n",
    "    abundant_list = # write a list comprehension\n",
    "    deficient_list = # write a list comprehension\n",
    "    equal_list = # write a list comprehension\n",
    "    print ('Abundant Numbers: ', abundant_list)\n",
    "    print()\n",
    "    print ('Deficient Numbers: ', deficient_list)\n",
    "    print()\n",
    "    print ('Perfect Numbers: ', equal_list)\n",
    "check_property(100)"
   ]
  },
  {
   "cell_type": "markdown",
   "metadata": {},
   "source": [
    "### Q6. The Collatz conjecture is a conjecture in mathematics that concerns a sequence defined as follows: start with any positive integer n. Then each term is obtained from the previous term as follows: if the previous term is even, the next term is one half the previous term. If the previous term is odd, the next term is 3 times the previous term plus 1. The conjecture is that no matter what value of n, the sequence will always reach 1. Write a Python program to print the Collatz sequence with a given starting number."
   ]
  },
  {
   "cell_type": "code",
   "execution_count": null,
   "metadata": {},
   "outputs": [],
   "source": [
    "def Collatz_seq(N):\n",
    "    # write your code here\n",
    "print(Collatz_seq(55))"
   ]
  }
 ],
 "metadata": {
  "kernelspec": {
   "display_name": "Python 3",
   "language": "python",
   "name": "python3"
  },
  "language_info": {
   "codemirror_mode": {
    "name": "ipython",
    "version": 3
   },
   "file_extension": ".py",
   "mimetype": "text/x-python",
   "name": "python",
   "nbconvert_exporter": "python",
   "pygments_lexer": "ipython3",
   "version": "3.8.2"
  }
 },
 "nbformat": 4,
 "nbformat_minor": 2
}
