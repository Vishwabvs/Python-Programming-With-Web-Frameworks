{
 "cells": [
  {
   "cell_type": "code",
   "execution_count": null,
   "metadata": {},
   "outputs": [],
   "source": [
    "from nntplib import NNTP, decode_header, NNTPPermanentError, NNTPTemporaryError\n",
    "from socket import gaierror"
   ]
  },
  {
   "cell_type": "code",
   "execution_count": null,
   "metadata": {},
   "outputs": [],
   "source": [
    "try:\n",
    "    n = NNTP('news.aioe.org')\n",
    "except gaierror as e:\n",
    "    print (\"ERROR: can't reach host news.aioe.org\" )\n",
    "    print(' (\"%s\")'% str(e))\n",
    "except NNTPPermanentError as e:\n",
    "    print(\"ERROR: access denied on news.aioe.org\" )\n",
    "    print(' (\"%s\")'% str(e))\n",
    "else:\n",
    "    print(\"Connected to host news.aioe.org\")"
   ]
  },
  {
   "cell_type": "code",
   "execution_count": null,
   "metadata": {},
   "outputs": [],
   "source": [
    "try:\n",
    "    resp, count, first, last, name = n.group('comp.lang.python')\n",
    "except NNTPPermanentError as e:\n",
    "    print(\"ERROR: cannot load group comp.lang.python\" )\n",
    "    print(' (\"%s\")'% str(e))\n",
    "    print(\" Server may require authentication\")\n",
    "    n.quit()\n",
    "except NNTPTemporaryError as e:\n",
    "    print(\"ERROR: Group comp.lang.python is unavailable\" )\n",
    "    print(' (\"%s\")'% str(e))\n",
    "    n.quit()\n",
    "else:\n",
    "    print(\"Found newsgroup comp.lang.python\")"
   ]
  },
  {
   "cell_type": "code",
   "execution_count": null,
   "metadata": {},
   "outputs": [],
   "source": [
    "rng = '%s-%s' %(last, last)\n",
    "rsp, frm = n.xhdr('from', rng)\n",
    "rsp, sub = n.xhdr('subject', rng)\n",
    "rsp, dat = n.xhdr('date', rng)\n",
    "print('''Found last article (#%s):\n",
    "\n",
    "From: %s\n",
    "Subject: %s\n",
    "Date: %s\n",
    "''' % (last, frm[0][1], sub[0][1], dat[0][1]))"
   ]
  },
  {
   "cell_type": "code",
   "execution_count": null,
   "metadata": {},
   "outputs": [],
   "source": [
    "ainfo = n.body(last)\n",
    "for x in ainfo[1].lines:\n",
    "    print(x)"
   ]
  },
  {
   "cell_type": "code",
   "execution_count": null,
   "metadata": {},
   "outputs": [],
   "source": [
    "n.quit()"
   ]
  },
  {
   "cell_type": "code",
   "execution_count": null,
   "metadata": {},
   "outputs": [],
   "source": []
  }
 ],
 "metadata": {
  "kernelspec": {
   "display_name": "Python 3",
   "language": "python",
   "name": "python3"
  },
  "language_info": {
   "codemirror_mode": {
    "name": "ipython",
    "version": 3
   },
   "file_extension": ".py",
   "mimetype": "text/x-python",
   "name": "python",
   "nbconvert_exporter": "python",
   "pygments_lexer": "ipython3",
   "version": "3.7.4"
  }
 },
 "nbformat": 4,
 "nbformat_minor": 2
}
