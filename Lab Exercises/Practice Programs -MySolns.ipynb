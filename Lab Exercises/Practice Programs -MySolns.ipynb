{
 "cells": [
  {
   "cell_type": "markdown",
   "metadata": {},
   "source": [
    "### Q1. You work for a manufacturer, and have been asked to calculate the total profit made on the sales of items produced.  Write a function that takes multiple arguments as a dictionary consisting of for each item_name its cost price per unit (in rupees), sell price per unit (in rupees), and the quantity as a tuple. Return the total profit made, rounded to the nearest rupees. Assume all of the available quantity have been sold."
   ]
  },
  {
   "cell_type": "code",
   "execution_count": 21,
   "metadata": {},
   "outputs": [
    {
     "data": {
      "text/plain": [
       "264"
      ]
     },
     "execution_count": 21,
     "metadata": {},
     "output_type": "execute_result"
    }
   ],
   "source": [
    "def profit_gain(**item):\n",
    "    profit = 0\n",
    "    for i in item.keys():\n",
    "        x = item[i][1] - item[i][0]\n",
    "        temp = x * item[i][2]\n",
    "        profit += temp\n",
    "        profit = round(profit)\n",
    "    return profit\n",
    "profit_gain(Item_A = (20.75, 40.65, 5), Item_B = (25.40, 60.50, 3), Item_C = (10.30, 15.25, 12))"
   ]
  },
  {
   "cell_type": "markdown",
   "metadata": {},
   "source": [
    "### Q2. Create a function that takes multiple arguments where each argument is a list that has 2 elements, namely numerator and denominator. Return the sum of the fractions rounded to the nearest whole number"
   ]
  },
  {
   "cell_type": "code",
   "execution_count": 22,
   "metadata": {},
   "outputs": [
    {
     "data": {
      "text/plain": [
       "3"
      ]
     },
     "execution_count": 22,
     "metadata": {},
     "output_type": "execute_result"
    }
   ],
   "source": [
    "def fraction_sum(*arg):\n",
    "    sum = 0\n",
    "    for numbers in arg:\n",
    "        x = numbers[0]/numbers[1]\n",
    "        sum += x\n",
    "        sum = round(sum)\n",
    "    return sum\n",
    "fraction_sum([5, 6], [2, 3], [1, 2], [7, 8])"
   ]
  },
  {
   "cell_type": "markdown",
   "metadata": {},
   "source": [
    "### Q3. The volume of a spherical shell is the difference between the enclosed volume of the outer sphere and the enclosed volume of the inner sphere.\n",
    "### Write a lambda function that takes radius and returns the volume a sphere.\n",
    "### Using the above lambda function find the volume of a spherical shell having outer sphere radius r1 and inner sphere radius r2 \n",
    "    Volume of sphere with radius r is given as 4/3*π*r**3 "
   ]
  },
  {
   "cell_type": "code",
   "execution_count": 23,
   "metadata": {},
   "outputs": [
    {
     "data": {
      "text/plain": [
       "3665.191429188092"
      ]
     },
     "execution_count": 23,
     "metadata": {},
     "output_type": "execute_result"
    }
   ],
   "source": [
    "import math as m\n",
    "sphere_volume = lambda radius : (4/3)*m.pi*(radius**3)\n",
    "    \n",
    "def shell_volume(r1, r2):\n",
    "    volume = sphere_volume(r1) - sphere_volume(r2)\n",
    "    return volume\n",
    "shell_volume(10, 5)"
   ]
  },
  {
   "cell_type": "markdown",
   "metadata": {},
   "source": [
    "### Q4. Amicable numbers are two different numbers so related that the sum of the proper divisors of each is equal to the other number. The smallest pair of amicable numbers is (220, 284). They are amicable because the proper divisors of 220 are 1, 2, 4, 5, 10, 11, 20, 22, 44, 55 and 110, of which the sum is 284; and the proper divisors of 284 are 1, 2, 4, 71 and 142, of which the sum is 220. Write a Python program to compute the sum of all the amicable numbers under a given number"
   ]
  },
  {
   "cell_type": "code",
   "execution_count": 1,
   "metadata": {},
   "outputs": [
    {
     "name": "stdout",
     "output_type": "stream",
     "text": [
      "Enter a number 2000\n",
      "[(220, 284), (1184, 1210)]\n"
     ]
    }
   ],
   "source": [
    "def get_proper_divisors(N):\n",
    "    divisors = [i for i in range(1,N) if N%i == 0 ]\n",
    "    return divisors\n",
    "\n",
    "n = int(input('Enter a number '))\n",
    "Amicable_pairs = [(x,y) for x in range(1,n+1) for y in range(x+1,n+1) if x != y and sum(get_proper_divisors(x)) == y and sum(get_proper_divisors(y)) ==x]\n",
    "                 \n",
    "print(Amicable_pairs)"
   ]
  },
  {
   "cell_type": "markdown",
   "metadata": {},
   "source": [
    "### Q5. In number theory,  \n",
    "    A number n is called perfect if the sum of its proper divisors is equal to n\n",
    "    A number n is called deficient if the sum of its proper divisors is less than n \n",
    "    A number n is called abundant if the sum of its proper divisors exceeds n. \n",
    "### Write a Python program to check whether the given number is Perfect, Abundant or Deficient."
   ]
  },
  {
   "cell_type": "code",
   "execution_count": 2,
   "metadata": {},
   "outputs": [
    {
     "name": "stdout",
     "output_type": "stream",
     "text": [
      "Abundant Numbers:  [12, 18, 20, 24, 30, 36, 40, 42, 48, 54, 56, 60, 66, 70, 72, 78, 80, 84, 88, 90, 96]\n",
      "\n",
      "Deficient Numbers:  [1, 2, 3, 4, 5, 7, 8, 9, 10, 11, 13, 14, 15, 16, 17, 19, 21, 22, 23, 25, 26, 27, 29, 31, 32, 33, 34, 35, 37, 38, 39, 41, 43, 44, 45, 46, 47, 49, 50, 51, 52, 53, 55, 57, 58, 59, 61, 62, 63, 64, 65, 67, 68, 69, 71, 73, 74, 75, 76, 77, 79, 81, 82, 83, 85, 86, 87, 89, 91, 92, 93, 94, 95, 97, 98, 99]\n",
      "\n",
      "Perfect Numbers:  [6, 28]\n"
     ]
    }
   ],
   "source": [
    "def check_property(N):\n",
    "    Abundant_list = [x for x in range(1,N) if sum(get_proper_divisors(x)) > x ]\n",
    "    Deficient_list = [x for x in range(1,N) if sum(get_proper_divisors(x)) < x ]\n",
    "    Equal_list = [x for x in range(1,N) if sum(get_proper_divisors(x)) == x ]\n",
    "    print ('Abundant Numbers: ', Abundant_list)\n",
    "    print()\n",
    "    print ('Deficient Numbers: ', Deficient_list)\n",
    "    print()\n",
    "    print ('Perfect Numbers: ', Equal_list)\n",
    "check_property(100)"
   ]
  },
  {
   "cell_type": "markdown",
   "metadata": {},
   "source": [
    "### Q6. The Collatz conjecture is a conjecture in mathematics that concerns a sequence defined as follows: start with any positive integer n. Then each term is obtained from the previous term as follows: if the previous term is even, the next term is one half the previous term. If the previous term is odd, the next term is 3 times the previous term plus 1. The conjecture is that no matter what value of n, the sequence will always reach 1. Write a Python program to print the Collatz sequence with a given starting number."
   ]
  },
  {
   "cell_type": "code",
   "execution_count": 26,
   "metadata": {},
   "outputs": [
    {
     "name": "stdout",
     "output_type": "stream",
     "text": [
      "[55, 166, 83, 250, 125, 376, 188, 94, 47, 142, 71, 214, 107, 322, 161, 484, 242, 121, 364, 182, 91, 274, 137, 412, 206, 103, 310, 155, 466, 233, 700, 350, 175, 526, 263, 790, 395, 1186, 593, 1780, 890, 445, 1336, 668, 334, 167, 502, 251, 754, 377, 1132, 566, 283, 850, 425, 1276, 638, 319, 958, 479, 1438, 719, 2158, 1079, 3238, 1619, 4858, 2429, 7288, 3644, 1822, 911, 2734, 1367, 4102, 2051, 6154, 3077, 9232, 4616, 2308, 1154, 577, 1732, 866, 433, 1300, 650, 325, 976, 488, 244, 122, 61, 184, 92, 46, 23, 70, 35, 106, 53, 160, 80, 40, 20, 10, 5, 16, 8, 4, 2, 1]\n"
     ]
    }
   ],
   "source": [
    "L = []\n",
    "def Collat_seq(Num):\n",
    "        L.append(Num)\n",
    "        if Num == 1:\n",
    "            return L\n",
    "        if Num%2 == 0:\n",
    "            Num = Num//2\n",
    "            return Collat_seq(Num) \n",
    "        if Num%2 != 0:\n",
    "            Num = Num*3 + 1\n",
    "            return Collat_seq(Num)\n",
    "        \n",
    "print(Collat_seq(55))"
   ]
  },
  {
   "cell_type": "code",
   "execution_count": null,
   "metadata": {},
   "outputs": [],
   "source": []
  }
 ],
 "metadata": {
  "kernelspec": {
   "display_name": "Python 3",
   "language": "python",
   "name": "python3"
  },
  "language_info": {
   "codemirror_mode": {
    "name": "ipython",
    "version": 3
   },
   "file_extension": ".py",
   "mimetype": "text/x-python",
   "name": "python",
   "nbconvert_exporter": "python",
   "pygments_lexer": "ipython3",
   "version": "3.8.2"
  }
 },
 "nbformat": 4,
 "nbformat_minor": 2
}
