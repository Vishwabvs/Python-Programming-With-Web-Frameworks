{
 "cells": [
  {
   "cell_type": "markdown",
   "metadata": {},
   "source": [
    "# Classes and Objects"
   ]
  },
  {
   "cell_type": "markdown",
   "metadata": {},
   "source": [
    "### Defining a class"
   ]
  },
  {
   "cell_type": "code",
   "execution_count": 1,
   "metadata": {},
   "outputs": [],
   "source": [
    "class Product:\n",
    "    def __init__(self, name, price, discountpercent):\n",
    "        self.name = name\n",
    "        self.price = price\n",
    "        self.discountpercent = discountpercent\n",
    "        \n",
    "    def getDiscountAmount(self):\n",
    "        return self.price * self.discountpercent / 100\n",
    "\n",
    "    def getDiscountPrice(self):\n",
    "        return self.price - self.getDiscountAmount()\n",
    "    \n",
    "    def __str__(self):\n",
    "        return \"Product Name: \" + self.name + \"\\nProduct Price: \" + str(self.price) + \"\\nReduced Price: \" + str(self.getDiscountPrice())       "
   ]
  },
  {
   "cell_type": "markdown",
   "metadata": {},
   "source": [
    "### Object instantiation"
   ]
  },
  {
   "cell_type": "code",
   "execution_count": 2,
   "metadata": {},
   "outputs": [
    {
     "name": "stdout",
     "output_type": "stream",
     "text": [
      "Product Name: AAA\n",
      "Product Price: 1490\n",
      "Reduced Price: 1192.0\n"
     ]
    }
   ],
   "source": [
    "p1 = Product(\"AAA\", 1490, 20)\n",
    "print(p1)"
   ]
  },
  {
   "cell_type": "markdown",
   "metadata": {},
   "source": [
    "### Constructors and String Representation"
   ]
  },
  {
   "cell_type": "code",
   "execution_count": 3,
   "metadata": {},
   "outputs": [],
   "source": [
    "from math import sqrt\n",
    "class Point:\n",
    "    def __init__(self, a, b):\n",
    "        self.x = a\n",
    "        self.y = b\n",
    "    \n",
    "    def __str__(self):\n",
    "        return \"(\"+str(self.x)+\",\"+str(self.y)+\")\"\n",
    "    \n",
    "    def Distance_from_Origin(self):\n",
    "        d = sqrt(self.x*self.x+self.y*self.y)\n",
    "        self.dist = d\n",
    "        return d\n",
    "    \n",
    "    def Distance_between(self, other):\n",
    "        dx = self.x - other.x\n",
    "        dy = self.y - other.y\n",
    "        d = sqrt(dx*dx+dy*dy)\n",
    "        return d\n",
    "    \n",
    "    def translate(self, tx, ty):\n",
    "        self.x = self.x + tx\n",
    "        self.y = self.y + ty"
   ]
  },
  {
   "cell_type": "code",
   "execution_count": 4,
   "metadata": {},
   "outputs": [
    {
     "name": "stdout",
     "output_type": "stream",
     "text": [
      "(4,8) --> (7,2)  Distance :  6.708203932499369\n"
     ]
    }
   ],
   "source": [
    "P1 = Point(4, 8)\n",
    "P2 = Point(7, 2)\n",
    "print(P1, \"-->\", P2, \" Distance : \",P1.Distance_between(P2))"
   ]
  },
  {
   "cell_type": "code",
   "execution_count": 5,
   "metadata": {},
   "outputs": [],
   "source": [
    "P1.translate(4,5)"
   ]
  },
  {
   "cell_type": "code",
   "execution_count": 6,
   "metadata": {},
   "outputs": [
    {
     "name": "stdout",
     "output_type": "stream",
     "text": [
      "(8,13)\n"
     ]
    }
   ],
   "source": [
    "print(P1)"
   ]
  },
  {
   "cell_type": "code",
   "execution_count": 7,
   "metadata": {},
   "outputs": [
    {
     "data": {
      "text/plain": [
       "{'x': 8, 'y': 13}"
      ]
     },
     "execution_count": 7,
     "metadata": {},
     "output_type": "execute_result"
    }
   ],
   "source": [
    "P1.__dict__"
   ]
  },
  {
   "cell_type": "code",
   "execution_count": 8,
   "metadata": {},
   "outputs": [
    {
     "data": {
      "text/plain": [
       "{'x': 7, 'y': 2}"
      ]
     },
     "execution_count": 8,
     "metadata": {},
     "output_type": "execute_result"
    }
   ],
   "source": [
    "P2.__dict__"
   ]
  },
  {
   "cell_type": "code",
   "execution_count": 9,
   "metadata": {},
   "outputs": [
    {
     "data": {
      "text/plain": [
       "15.264337522473747"
      ]
     },
     "execution_count": 9,
     "metadata": {},
     "output_type": "execute_result"
    }
   ],
   "source": [
    "P1.Distance_from_Origin()"
   ]
  },
  {
   "cell_type": "code",
   "execution_count": 10,
   "metadata": {},
   "outputs": [
    {
     "data": {
      "text/plain": [
       "{'x': 8, 'y': 13, 'dist': 15.264337522473747}"
      ]
     },
     "execution_count": 10,
     "metadata": {},
     "output_type": "execute_result"
    }
   ],
   "source": [
    "P1.__dict__"
   ]
  },
  {
   "cell_type": "markdown",
   "metadata": {},
   "source": [
    "### Runtime Attributes at Runtime"
   ]
  },
  {
   "cell_type": "code",
   "execution_count": 11,
   "metadata": {},
   "outputs": [
    {
     "name": "stdout",
     "output_type": "stream",
     "text": [
      "\n",
      "name : AAA\n",
      "regno : 12345\n",
      "marks : [80, 95, 79]\n",
      "\n",
      "name : BBB\n",
      "desig : Manager\n",
      "salary : 50000\n"
     ]
    }
   ],
   "source": [
    "class A:\n",
    "    def __str__(self):\n",
    "        srep = \"\"\n",
    "        for x in self.__dict__:\n",
    "            srep += \"\\n\"+str(x)+\" : \"+str(self.__dict__[x])\n",
    "        return srep\n",
    "a1 = A()\n",
    "a1.name = \"AAA\"\n",
    "a1.regno = 12345\n",
    "a1.marks = [80, 95, 79]\n",
    "a2 = A()\n",
    "a2.name = \"BBB\"\n",
    "a2.desig = \"Manager\"\n",
    "a2.salary = 50000\n",
    "print(a1)\n",
    "print(a2)\n"
   ]
  },
  {
   "cell_type": "code",
   "execution_count": 12,
   "metadata": {},
   "outputs": [
    {
     "data": {
      "text/plain": [
       "{'name': 'AAA', 'regno': 12345, 'marks': [80, 95, 79]}"
      ]
     },
     "execution_count": 12,
     "metadata": {},
     "output_type": "execute_result"
    }
   ],
   "source": [
    "a1.__dict__"
   ]
  },
  {
   "cell_type": "code",
   "execution_count": 13,
   "metadata": {},
   "outputs": [
    {
     "data": {
      "text/plain": [
       "{'name': 'BBB', 'desig': 'Manager', 'salary': 50000}"
      ]
     },
     "execution_count": 13,
     "metadata": {},
     "output_type": "execute_result"
    }
   ],
   "source": [
    "a2.__dict__"
   ]
  },
  {
   "cell_type": "markdown",
   "metadata": {},
   "source": [
    "### Object Composition"
   ]
  },
  {
   "cell_type": "code",
   "execution_count": 14,
   "metadata": {},
   "outputs": [
    {
     "name": "stdout",
     "output_type": "stream",
     "text": [
      "NAME: AKASH\n",
      "DoB: 10/3/2000\n"
     ]
    }
   ],
   "source": [
    "class person: \n",
    "    def __init__(self): \n",
    "        self.name = 'AKASH'\n",
    "        self.db = Dob(10, 3, 2000) \n",
    "          \n",
    "    def __str__(self): \n",
    "        return 'NAME: '+ self.name + \"\\nDoB: \" + str(self.db)\n",
    "class Dob: \n",
    "    def __init__(self, dd, mm, yy): \n",
    "        self.dd = dd\n",
    "        self.mm = mm\n",
    "        self.yy = yy\n",
    "    def __str__(self): \n",
    "        return '{}/{}/{}'.format(self.dd, self.mm, self.yy)\n",
    "              \n",
    "# creating person class object \n",
    "p = person() \n",
    "print(p)"
   ]
  },
  {
   "cell_type": "markdown",
   "metadata": {},
   "source": [
    "### Data Encapsulation   - Private Attributes"
   ]
  },
  {
   "cell_type": "code",
   "execution_count": 15,
   "metadata": {},
   "outputs": [
    {
     "name": "stdout",
     "output_type": "stream",
     "text": [
      "45 20\n"
     ]
    }
   ],
   "source": [
    "class C:\n",
    "    def __init__(self):\n",
    "        self.__x = 0\n",
    "        self.__y = 0\n",
    "    def  get_x(self):\n",
    "        return self.__x\n",
    "    def set_x(self, a):\n",
    "        self.__x = a\n",
    "    def  get_y(self):\n",
    "        return self.__y\n",
    "    def set_y(self, b):\n",
    "        self.__y = b\n",
    "    x = property(get_x, set_x)\n",
    "    y = property(get_y, set_y)\n",
    "O2 = C()\n",
    "O2.x = 45\n",
    "O2.y = 20\n",
    "print (O2.x, O2.y)\n"
   ]
  },
  {
   "cell_type": "code",
   "execution_count": 16,
   "metadata": {},
   "outputs": [
    {
     "name": "stdout",
     "output_type": "stream",
     "text": [
      "45 20\n"
     ]
    }
   ],
   "source": [
    "class A:\n",
    "    def __init__(self):\n",
    "        self.__x = 0\n",
    "        self.__y = 0\n",
    "    @property                  # getter method for x\n",
    "    def x(self):\n",
    "        return self.__x\n",
    "    @x.setter                  # setter method for x\n",
    "    def x(self, a):\n",
    "        self.__x = a\n",
    "    @property                  # getter method for y\n",
    "    def y(self):\n",
    "        return self.__y\n",
    "    @y.setter                  # setter method for y\n",
    "    def y(self, b):\n",
    "        self.__y = b\n",
    "O1 = A()\n",
    "O1.x = 45\n",
    "O1.y = 20\n",
    "print (O1.x, O1.y)"
   ]
  },
  {
   "cell_type": "markdown",
   "metadata": {},
   "source": [
    "### Private members cannot be accessed directly from outside the class"
   ]
  },
  {
   "cell_type": "code",
   "execution_count": 17,
   "metadata": {},
   "outputs": [
    {
     "ename": "AttributeError",
     "evalue": "'B' object has no attribute '__x'",
     "output_type": "error",
     "traceback": [
      "\u001b[0;31m---------------------------------------------------------------------------\u001b[0m",
      "\u001b[0;31mAttributeError\u001b[0m                            Traceback (most recent call last)",
      "\u001b[0;32m<ipython-input-17-bfb7ba2b5a58>\u001b[0m in \u001b[0;36m<module>\u001b[0;34m\u001b[0m\n\u001b[1;32m      3\u001b[0m         \u001b[0mself\u001b[0m\u001b[0;34m.\u001b[0m\u001b[0m__x\u001b[0m \u001b[0;34m=\u001b[0m \u001b[0;36m10\u001b[0m\u001b[0;34m\u001b[0m\u001b[0;34m\u001b[0m\u001b[0m\n\u001b[1;32m      4\u001b[0m \u001b[0mB1\u001b[0m \u001b[0;34m=\u001b[0m \u001b[0mB\u001b[0m\u001b[0;34m(\u001b[0m\u001b[0;34m)\u001b[0m\u001b[0;34m\u001b[0m\u001b[0;34m\u001b[0m\u001b[0m\n\u001b[0;32m----> 5\u001b[0;31m \u001b[0mprint\u001b[0m\u001b[0;34m(\u001b[0m\u001b[0mB1\u001b[0m\u001b[0;34m.\u001b[0m\u001b[0m__x\u001b[0m\u001b[0;34m)\u001b[0m\u001b[0;34m\u001b[0m\u001b[0;34m\u001b[0m\u001b[0m\n\u001b[0m",
      "\u001b[0;31mAttributeError\u001b[0m: 'B' object has no attribute '__x'"
     ]
    }
   ],
   "source": [
    "class B:\n",
    "    def __init__(self):\n",
    "        self.__x = 10\n",
    "B1 = B()\n",
    "print(B1.__x)    "
   ]
  },
  {
   "cell_type": "markdown",
   "metadata": {},
   "source": [
    "### Another way to access private attribute outside the class (Not Recommended)"
   ]
  },
  {
   "cell_type": "code",
   "execution_count": 18,
   "metadata": {},
   "outputs": [
    {
     "name": "stdout",
     "output_type": "stream",
     "text": [
      "10\n"
     ]
    }
   ],
   "source": [
    "print(B1._B__x)"
   ]
  },
  {
   "cell_type": "markdown",
   "metadata": {},
   "source": [
    "### Class Attributes"
   ]
  },
  {
   "cell_type": "code",
   "execution_count": 19,
   "metadata": {},
   "outputs": [
    {
     "name": "stdout",
     "output_type": "stream",
     "text": [
      "C1's x value:  10\n",
      "C's x value:  10\n"
     ]
    }
   ],
   "source": [
    "class C:\n",
    "    x = 10\n",
    "C1 = C()\n",
    "print(\"C1's x value: \", C1.x)\n",
    "print(\"C's x value: \", C.x)"
   ]
  },
  {
   "cell_type": "code",
   "execution_count": 20,
   "metadata": {},
   "outputs": [
    {
     "name": "stdout",
     "output_type": "stream",
     "text": [
      "C2's x value:  10\n"
     ]
    }
   ],
   "source": [
    "C2 = C()\n",
    "print (\"C2's x value: \", C2.x)"
   ]
  },
  {
   "cell_type": "code",
   "execution_count": 21,
   "metadata": {},
   "outputs": [
    {
     "name": "stdout",
     "output_type": "stream",
     "text": [
      "C1's x value:  30\n",
      "C2's x value:  30\n"
     ]
    }
   ],
   "source": [
    "C.x = 30\n",
    "print(\"C1's x value: \", C1.x)\n",
    "print (\"C2's x value: \", C2.x)"
   ]
  },
  {
   "cell_type": "code",
   "execution_count": 22,
   "metadata": {},
   "outputs": [
    {
     "name": "stdout",
     "output_type": "stream",
     "text": [
      "C1's x value:  30\n",
      "C2's x value:  40\n"
     ]
    }
   ],
   "source": [
    "C2.x = 40\n",
    "print(\"C1's x value: \", C1.x)\n",
    "print (\"C2's x value: \", C2.x)"
   ]
  },
  {
   "cell_type": "code",
   "execution_count": 23,
   "metadata": {},
   "outputs": [
    {
     "name": "stdout",
     "output_type": "stream",
     "text": [
      "D's x value:  10\n",
      "D1's x value:  20\n",
      "D1's m value:  60\n"
     ]
    }
   ],
   "source": [
    "class D:\n",
    "    x = 10\n",
    "    def __init__(self, a):\n",
    "        self.x = a\n",
    "    def myattr(self, a):\n",
    "        self.m = a\n",
    "D1 = D(20)\n",
    "print(\"D's x value: \", D.x)\n",
    "print(\"D1's x value: \", D1.x)\n",
    "D1.myattr(60)\n",
    "print(\"D1's m value: \", D1.m)"
   ]
  },
  {
   "cell_type": "code",
   "execution_count": 24,
   "metadata": {},
   "outputs": [
    {
     "data": {
      "text/plain": [
       "mappingproxy({'__module__': '__main__',\n",
       "              'x': 10,\n",
       "              '__init__': <function __main__.D.__init__(self, a)>,\n",
       "              'myattr': <function __main__.D.myattr(self, a)>,\n",
       "              '__dict__': <attribute '__dict__' of 'D' objects>,\n",
       "              '__weakref__': <attribute '__weakref__' of 'D' objects>,\n",
       "              '__doc__': None})"
      ]
     },
     "execution_count": 24,
     "metadata": {},
     "output_type": "execute_result"
    }
   ],
   "source": [
    "D.__dict__"
   ]
  },
  {
   "cell_type": "code",
   "execution_count": 25,
   "metadata": {},
   "outputs": [
    {
     "name": "stdout",
     "output_type": "stream",
     "text": [
      "<__main__.E object at 0x7f2afc2e0070>\n",
      "ID of E1:  139822596227184\n",
      "<__main__.E object at 0x7f2afc28a760>\n",
      "ID of E2:  139822595876704\n"
     ]
    }
   ],
   "source": [
    "class E:\n",
    "    pass\n",
    "E1 = E()\n",
    "E2 = E()\n",
    "print(E1)\n",
    "print(\"ID of E1: \", id(E1))\n",
    "print(E2)\n",
    "print(\"ID of E2: \", id(E2))"
   ]
  },
  {
   "cell_type": "code",
   "execution_count": 26,
   "metadata": {},
   "outputs": [
    {
     "name": "stdout",
     "output_type": "stream",
     "text": [
      "E1 Attributes:  {}\n",
      "E2 Attributes:  {}\n",
      "E3 Attributes:  {'x': 10, 'y': 40}\n"
     ]
    }
   ],
   "source": [
    "E3 = E()\n",
    "E3.x = 10\n",
    "E3.y = 40\n",
    "print(\"E1 Attributes: \", E1.__dict__)\n",
    "print(\"E2 Attributes: \", E2.__dict__)\n",
    "print(\"E3 Attributes: \", E3.__dict__)"
   ]
  },
  {
   "cell_type": "code",
   "execution_count": 27,
   "metadata": {},
   "outputs": [
    {
     "name": "stdout",
     "output_type": "stream",
     "text": [
      "<__main__.E object at 0x7f2afc28a4c0>\n"
     ]
    },
    {
     "data": {
      "text/plain": [
       "<__main__.E at 0x7f2afc28a4c0>"
      ]
     },
     "execution_count": 27,
     "metadata": {},
     "output_type": "execute_result"
    }
   ],
   "source": [
    "E.__dict__\n",
    "print(E3)\n",
    "E3"
   ]
  },
  {
   "cell_type": "code",
   "execution_count": 28,
   "metadata": {},
   "outputs": [
    {
     "name": "stdout",
     "output_type": "stream",
     "text": [
      "Breadth: 10 Length: 15\n",
      "Area:  150\n"
     ]
    }
   ],
   "source": [
    "class Room:\n",
    "    def __init__(self):\n",
    "        self.__length = 0\n",
    "        self.__breadth = 0\n",
    "    @property\n",
    "    def length(self):\n",
    "        return self.__length\n",
    "    @length.setter\n",
    "    def length(self, l):\n",
    "        self.__length = l\n",
    "    @property\n",
    "    def breadth(self):\n",
    "        return self.__breadth\n",
    "    @breadth.setter\n",
    "    def breadth(self, l):\n",
    "        self.__breadth = l    \n",
    "    def getArea(self):\n",
    "        return self.__length * self.__breadth\n",
    "    def __str__(self):\n",
    "        return \"Breadth: \" + str(self.__breadth) + \" Length: \" + str(self.__length)\n",
    "    def __repr__(self):\n",
    "        return \"(\" + str(self.__breadth) + \", \" + str(self.__length) + \")\"\n",
    "R1 = Room()\n",
    "R1.length = 15\n",
    "R1.breadth = 10\n",
    "print(R1)                # calls __str__ method\n",
    "print(\"Area: \", R1.getArea())"
   ]
  },
  {
   "cell_type": "code",
   "execution_count": 29,
   "metadata": {},
   "outputs": [
    {
     "data": {
      "text/plain": [
       "(10, 15)"
      ]
     },
     "execution_count": 29,
     "metadata": {},
     "output_type": "execute_result"
    }
   ],
   "source": [
    "R1                      # calls __repr__ method"
   ]
  },
  {
   "cell_type": "markdown",
   "metadata": {},
   "source": [
    "### Inheritance"
   ]
  },
  {
   "cell_type": "code",
   "execution_count": 30,
   "metadata": {},
   "outputs": [
    {
     "name": "stdout",
     "output_type": "stream",
     "text": [
      "a= 10\n",
      "b = 20\n"
     ]
    }
   ],
   "source": [
    "class A:\n",
    "    def __init__(self, a):\n",
    "        self.a = a\n",
    "class B(A):\n",
    "    def __init__(self, x, y):\n",
    "        A.__init__(self, x)\n",
    "        self.b = y\n",
    "    def __str__(self):\n",
    "        return \"a= \"+ str(self.a) +  \"\\nb = \"+str(self.b)\n",
    "B1=B(10, 20)\n",
    "print(B1)\n"
   ]
  },
  {
   "cell_type": "markdown",
   "metadata": {},
   "source": [
    "### Method Overriding"
   ]
  },
  {
   "cell_type": "code",
   "execution_count": 31,
   "metadata": {},
   "outputs": [],
   "source": [
    "class A:\n",
    "    def mymethod(self):\n",
    "        print(\"A's method\")\n",
    "class B(A):\n",
    "    def mymethod(self):\n",
    "        print(\"B's method\")\n",
    "class C(A):\n",
    "    def mymethod(self, a):\n",
    "        print(\"C's method\")\n",
    "class D(A):\n",
    "    pass\n",
    "O1 = A()\n",
    "O2 = B()\n",
    "O3 = C()\n",
    "O4 = D()"
   ]
  },
  {
   "cell_type": "code",
   "execution_count": 32,
   "metadata": {},
   "outputs": [
    {
     "name": "stdout",
     "output_type": "stream",
     "text": [
      "A's method\n"
     ]
    }
   ],
   "source": [
    "O1.mymethod()"
   ]
  },
  {
   "cell_type": "code",
   "execution_count": 33,
   "metadata": {},
   "outputs": [
    {
     "name": "stdout",
     "output_type": "stream",
     "text": [
      "B's method\n"
     ]
    }
   ],
   "source": [
    "O2.mymethod()"
   ]
  },
  {
   "cell_type": "code",
   "execution_count": 34,
   "metadata": {},
   "outputs": [
    {
     "name": "stdout",
     "output_type": "stream",
     "text": [
      "C's method\n"
     ]
    }
   ],
   "source": [
    "O3.mymethod(5)"
   ]
  },
  {
   "cell_type": "code",
   "execution_count": 35,
   "metadata": {},
   "outputs": [
    {
     "name": "stdout",
     "output_type": "stream",
     "text": [
      "A's method\n"
     ]
    }
   ],
   "source": [
    "O4.mymethod()"
   ]
  },
  {
   "cell_type": "code",
   "execution_count": 36,
   "metadata": {},
   "outputs": [
    {
     "data": {
      "text/plain": [
       "True"
      ]
     },
     "execution_count": 36,
     "metadata": {},
     "output_type": "execute_result"
    }
   ],
   "source": [
    "isinstance(O1,A)"
   ]
  },
  {
   "cell_type": "code",
   "execution_count": 37,
   "metadata": {},
   "outputs": [
    {
     "data": {
      "text/plain": [
       "True"
      ]
     },
     "execution_count": 37,
     "metadata": {},
     "output_type": "execute_result"
    }
   ],
   "source": [
    "isinstance(O2,B)"
   ]
  },
  {
   "cell_type": "code",
   "execution_count": 38,
   "metadata": {},
   "outputs": [
    {
     "data": {
      "text/plain": [
       "True"
      ]
     },
     "execution_count": 38,
     "metadata": {},
     "output_type": "execute_result"
    }
   ],
   "source": [
    "isinstance(O2,A)"
   ]
  },
  {
   "cell_type": "code",
   "execution_count": 39,
   "metadata": {},
   "outputs": [
    {
     "data": {
      "text/plain": [
       "True"
      ]
     },
     "execution_count": 39,
     "metadata": {},
     "output_type": "execute_result"
    }
   ],
   "source": [
    "isinstance(O3,C)"
   ]
  },
  {
   "cell_type": "code",
   "execution_count": 40,
   "metadata": {},
   "outputs": [
    {
     "data": {
      "text/plain": [
       "True"
      ]
     },
     "execution_count": 40,
     "metadata": {},
     "output_type": "execute_result"
    }
   ],
   "source": [
    "isinstance(O3,A)"
   ]
  },
  {
   "cell_type": "code",
   "execution_count": 41,
   "metadata": {},
   "outputs": [
    {
     "data": {
      "text/plain": [
       "True"
      ]
     },
     "execution_count": 41,
     "metadata": {},
     "output_type": "execute_result"
    }
   ],
   "source": [
    "isinstance(O4,D)"
   ]
  },
  {
   "cell_type": "code",
   "execution_count": 42,
   "metadata": {},
   "outputs": [
    {
     "data": {
      "text/plain": [
       "True"
      ]
     },
     "execution_count": 42,
     "metadata": {},
     "output_type": "execute_result"
    }
   ],
   "source": [
    "isinstance(O4,A)"
   ]
  },
  {
   "cell_type": "code",
   "execution_count": 43,
   "metadata": {},
   "outputs": [
    {
     "data": {
      "text/plain": [
       "False"
      ]
     },
     "execution_count": 43,
     "metadata": {},
     "output_type": "execute_result"
    }
   ],
   "source": [
    "isinstance(O3,B)"
   ]
  },
  {
   "cell_type": "markdown",
   "metadata": {},
   "source": [
    "### Multi level Inheritance"
   ]
  },
  {
   "cell_type": "code",
   "execution_count": 44,
   "metadata": {},
   "outputs": [
    {
     "name": "stdout",
     "output_type": "stream",
     "text": [
      "B's method\n"
     ]
    }
   ],
   "source": [
    "class E(B):\n",
    "    pass\n",
    "E1 = E()\n",
    "E1.mymethod()"
   ]
  },
  {
   "cell_type": "code",
   "execution_count": 45,
   "metadata": {},
   "outputs": [
    {
     "data": {
      "text/plain": [
       "True"
      ]
     },
     "execution_count": 45,
     "metadata": {},
     "output_type": "execute_result"
    }
   ],
   "source": [
    "isinstance(E1, A)"
   ]
  },
  {
   "cell_type": "code",
   "execution_count": 46,
   "metadata": {},
   "outputs": [
    {
     "data": {
      "text/plain": [
       "True"
      ]
     },
     "execution_count": 46,
     "metadata": {},
     "output_type": "execute_result"
    }
   ],
   "source": [
    "isinstance(E1, B)"
   ]
  },
  {
   "cell_type": "code",
   "execution_count": 47,
   "metadata": {},
   "outputs": [
    {
     "data": {
      "text/plain": [
       "True"
      ]
     },
     "execution_count": 47,
     "metadata": {},
     "output_type": "execute_result"
    }
   ],
   "source": [
    "isinstance(E1, E)"
   ]
  },
  {
   "cell_type": "code",
   "execution_count": 48,
   "metadata": {},
   "outputs": [
    {
     "name": "stdout",
     "output_type": "stream",
     "text": [
      "A's method\n"
     ]
    }
   ],
   "source": [
    "class F(D):\n",
    "    pass\n",
    "F1= F()\n",
    "F1.mymethod()"
   ]
  },
  {
   "cell_type": "markdown",
   "metadata": {},
   "source": [
    "### Multiple Inheritance"
   ]
  },
  {
   "cell_type": "code",
   "execution_count": 49,
   "metadata": {},
   "outputs": [],
   "source": [
    "class F():\n",
    "    pass\n",
    "class G(A, F):\n",
    "    pass\n",
    "G1 = G()"
   ]
  },
  {
   "cell_type": "code",
   "execution_count": 50,
   "metadata": {},
   "outputs": [
    {
     "data": {
      "text/plain": [
       "True"
      ]
     },
     "execution_count": 50,
     "metadata": {},
     "output_type": "execute_result"
    }
   ],
   "source": [
    "isinstance(G1, G)"
   ]
  },
  {
   "cell_type": "code",
   "execution_count": 51,
   "metadata": {},
   "outputs": [
    {
     "data": {
      "text/plain": [
       "True"
      ]
     },
     "execution_count": 51,
     "metadata": {},
     "output_type": "execute_result"
    }
   ],
   "source": [
    "isinstance(G1, A)"
   ]
  },
  {
   "cell_type": "code",
   "execution_count": 52,
   "metadata": {},
   "outputs": [
    {
     "data": {
      "text/plain": [
       "True"
      ]
     },
     "execution_count": 52,
     "metadata": {},
     "output_type": "execute_result"
    }
   ],
   "source": [
    "isinstance(G1, F)"
   ]
  },
  {
   "cell_type": "markdown",
   "metadata": {},
   "source": [
    "### Diamond Inheritance"
   ]
  },
  {
   "cell_type": "code",
   "execution_count": null,
   "metadata": {},
   "outputs": [],
   "source": [
    "class H(B, C):\n",
    "    def h_mymethod(self):\n",
    "        print(\"H's method\")\n",
    "H1 = H()\n",
    "H1.h_mymethod()\n"
   ]
  },
  {
   "cell_type": "code",
   "execution_count": null,
   "metadata": {},
   "outputs": [],
   "source": [
    "H1.mymethod()"
   ]
  },
  {
   "cell_type": "code",
   "execution_count": null,
   "metadata": {},
   "outputs": [],
   "source": [
    "H.__mro__"
   ]
  },
  {
   "cell_type": "code",
   "execution_count": null,
   "metadata": {},
   "outputs": [],
   "source": []
  }
 ],
 "metadata": {
  "kernelspec": {
   "display_name": "Python 3",
   "language": "python",
   "name": "python3"
  },
  "language_info": {
   "codemirror_mode": {
    "name": "ipython",
    "version": 3
   },
   "file_extension": ".py",
   "mimetype": "text/x-python",
   "name": "python",
   "nbconvert_exporter": "python",
   "pygments_lexer": "ipython3",
   "version": "3.8.2"
  }
 },
 "nbformat": 4,
 "nbformat_minor": 2
}
