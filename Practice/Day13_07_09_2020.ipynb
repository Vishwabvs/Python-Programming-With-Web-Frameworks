{
 "cells": [
  {
   "cell_type": "markdown",
   "metadata": {},
   "source": [
    "# Python Practice Day 13"
   ]
  },
  {
   "cell_type": "markdown",
   "metadata": {},
   "source": [
    "## Files"
   ]
  },
  {
   "cell_type": "markdown",
   "metadata": {},
   "source": [
    "### Reading a txt file"
   ]
  },
  {
   "cell_type": "code",
   "execution_count": 1,
   "metadata": {},
   "outputs": [
    {
     "name": "stdout",
     "output_type": "stream",
     "text": [
      "celsius_fahrenheit.py   Day07_24_08_2020.ipynb  MyListNo.txt\r\n",
      "Day01_13_08_2020.ipynb  Day08_26_08_2020.ipynb  MyListStr.txt\r\n",
      "Day02_14_08_2020.ipynb  Day09_27_08_2020.ipynb  \u001b[0m\u001b[01;34m__pycache__\u001b[0m/\r\n",
      "Day03_17_08_2020.ipynb  Day10_31_08_2020.ipynb  s1.py\r\n",
      "Day04_19_08_2020.ipynb  Day11_02_09_2020.ipynb  samplefunc.py\r\n",
      "Day05_20_08_2020.ipynb  Day12_03_09_2020.ipynb  sample.txt\r\n",
      "Day06_21_08_2020.ipynb  Day13_07_09_2020.ipynb\r\n"
     ]
    }
   ],
   "source": [
    "ls"
   ]
  },
  {
   "cell_type": "markdown",
   "metadata": {},
   "source": [
    "We are going to perform read sample.txt"
   ]
  },
  {
   "cell_type": "code",
   "execution_count": 2,
   "metadata": {},
   "outputs": [
    {
     "name": "stdout",
     "output_type": "stream",
     "text": [
      "This is Ram. \n",
      "I am studying B.Tech 4th year in IIT Bombay.\n",
      "Hope you are all fine. \n",
      "I am doing good here.\n",
      "Stay safe and happy.\n",
      "\n"
     ]
    }
   ],
   "source": [
    "fp = open('sample.txt')\n",
    "string = fp.read()   #returns a string that contains all the content of the file\n",
    "print(string) \n",
    "fp.close()"
   ]
  },
  {
   "cell_type": "code",
   "execution_count": 3,
   "metadata": {},
   "outputs": [
    {
     "data": {
      "text/plain": [
       "'This is Ram. \\nI am studying B.Tech 4th year in IIT Bombay.\\nHope you are all fine. \\nI am doing good here.\\nStay safe and happy.\\n'"
      ]
     },
     "execution_count": 3,
     "metadata": {},
     "output_type": "execute_result"
    }
   ],
   "source": [
    "string"
   ]
  },
  {
   "cell_type": "code",
   "execution_count": 4,
   "metadata": {},
   "outputs": [
    {
     "name": "stdout",
     "output_type": "stream",
     "text": [
      "['This is Ram. \\n', 'I am studying B.Tech 4th year in IIT Bombay.\\n', 'Hope you are all fine. \\n', 'I am doing good here.\\n', 'Stay safe and happy.\\n']\n"
     ]
    }
   ],
   "source": [
    "fp = open('sample.txt')\n",
    "print(fp.readlines())\n",
    "fp.close()"
   ]
  },
  {
   "cell_type": "code",
   "execution_count": 5,
   "metadata": {},
   "outputs": [
    {
     "name": "stdout",
     "output_type": "stream",
     "text": [
      "This is Ram. \n",
      "\n",
      "I am studying B.Tech 4th year in IIT Bombay.\n",
      "\n",
      "Hope you are all fine. \n",
      "\n",
      "I am doing good here.\n",
      "\n",
      "Stay safe and happy.\n",
      "\n"
     ]
    }
   ],
   "source": [
    "fp = open('sample.txt')\n",
    "linelist = fp.readlines()\n",
    "for i in linelist:\n",
    "    print(i)\n",
    "fp.close()   #if we are opening a file with open() then we need to explicitly specify fp.close()"
   ]
  },
  {
   "cell_type": "markdown",
   "metadata": {},
   "source": [
    "We can conclude that readlines() will read line by line till '\\n' appears. "
   ]
  },
  {
   "cell_type": "code",
   "execution_count": 6,
   "metadata": {},
   "outputs": [
    {
     "name": "stdout",
     "output_type": "stream",
     "text": [
      "This is Ram. \n",
      "\n"
     ]
    }
   ],
   "source": [
    "with open ('sample.txt') as fp:  #if we use with open then we no need to explicity close the file\n",
    "    line = fp.readline()   #reads next line and returns a string\n",
    "print(line)"
   ]
  },
  {
   "cell_type": "code",
   "execution_count": 7,
   "metadata": {},
   "outputs": [
    {
     "name": "stdout",
     "output_type": "stream",
     "text": [
      "This is Ram. \n",
      "I am studying B.Tech 4th year in IIT Bombay.\n",
      "Hope you are all fine. \n",
      "I am doing good here.\n",
      "Stay safe and happy.\n"
     ]
    }
   ],
   "source": [
    "with open('sample.txt') as fp:\n",
    "    line = fp.readline()\n",
    "    while line:\n",
    "        print(line, end = '')\n",
    "        line = fp.readline()"
   ]
  },
  {
   "cell_type": "code",
   "execution_count": 8,
   "metadata": {},
   "outputs": [
    {
     "name": "stdout",
     "output_type": "stream",
     "text": [
      "This is Ram. \n",
      "I am studying B.Tech 4th year in IIT Bombay.\n",
      "Hope you are all fine. \n",
      "I am doing good here.\n",
      "Stay safe and happy.\n"
     ]
    }
   ],
   "source": [
    "for line in open('sample.txt'):   # file pointer is iterable and can be used in looping constructs\n",
    "    print(line, end = '')"
   ]
  },
  {
   "cell_type": "markdown",
   "metadata": {},
   "source": [
    "### Writing into a txt file"
   ]
  },
  {
   "cell_type": "markdown",
   "metadata": {},
   "source": [
    "#### List of strings"
   ]
  },
  {
   "cell_type": "code",
   "execution_count": 9,
   "metadata": {},
   "outputs": [],
   "source": [
    "MyStrings = ['This is First Line',\n",
    "             'This is Second Line', \n",
    "             'This is Third Line']\n",
    "with open('MyListStr.txt', 'w') as fp:\n",
    "    for mystr in MyStrings:\n",
    "        fp.write(mystr+'\\n')"
   ]
  },
  {
   "cell_type": "code",
   "execution_count": 10,
   "metadata": {},
   "outputs": [
    {
     "name": "stdout",
     "output_type": "stream",
     "text": [
      "['This is First Line\\n', 'This is Second Line\\n', 'This is Third Line\\n']\n"
     ]
    }
   ],
   "source": [
    "contents = []\n",
    "for line in open('MyListStr.txt'):\n",
    "    contents.append(line)\n",
    "print(contents)"
   ]
  },
  {
   "cell_type": "markdown",
   "metadata": {},
   "source": [
    "#### List of Numbers"
   ]
  },
  {
   "cell_type": "code",
   "execution_count": 11,
   "metadata": {},
   "outputs": [],
   "source": [
    "MyNumbers = [45, 56, 90, 23, 11, 8]\n",
    "with open('MyListNo.txt', 'w') as fp:\n",
    "    for num in MyNumbers:\n",
    "        fp.write(str(num)+'\\n')"
   ]
  },
  {
   "cell_type": "code",
   "execution_count": 15,
   "metadata": {},
   "outputs": [
    {
     "name": "stdout",
     "output_type": "stream",
     "text": [
      "[45, 56, 90, 23, 11, 8]\n"
     ]
    }
   ],
   "source": [
    "contents = []\n",
    "for num in open('MyListNo.txt'):\n",
    "    contents.append(int(num))\n",
    "print(contents)"
   ]
  },
  {
   "cell_type": "code",
   "execution_count": 16,
   "metadata": {},
   "outputs": [
    {
     "data": {
      "text/plain": [
       "int"
      ]
     },
     "execution_count": 16,
     "metadata": {},
     "output_type": "execute_result"
    }
   ],
   "source": [
    "type(contents[0])"
   ]
  },
  {
   "cell_type": "code",
   "execution_count": 17,
   "metadata": {},
   "outputs": [],
   "source": [
    "MyNumbers = [45, 56, 90, 23, 11, 8]\n",
    "with open('MyListNo.txt', 'w') as fp:\n",
    "    fp.write(str(MyNumbers)+'\\n')"
   ]
  },
  {
   "cell_type": "code",
   "execution_count": 19,
   "metadata": {},
   "outputs": [
    {
     "name": "stdout",
     "output_type": "stream",
     "text": [
      "<class 'str'>\n",
      "[45, 56, 90, 23, 11, 8]\n",
      "\n"
     ]
    }
   ],
   "source": [
    "fp = open('MyListNo.txt')\n",
    "numbers = fp.read()\n",
    "print(type(numbers))\n",
    "print(numbers)\n",
    "fp.close()"
   ]
  },
  {
   "cell_type": "code",
   "execution_count": 20,
   "metadata": {},
   "outputs": [
    {
     "data": {
      "text/plain": [
       "'[45, 56, 90, 23, 11, 8]\\n'"
      ]
     },
     "execution_count": 20,
     "metadata": {},
     "output_type": "execute_result"
    }
   ],
   "source": [
    "numbers"
   ]
  },
  {
   "cell_type": "code",
   "execution_count": 21,
   "metadata": {},
   "outputs": [],
   "source": [
    "MyNumbers = [45, 56, 90, 23, 11, 8]\n",
    "with open('MyListNo.txt', 'w') as fp:\n",
    "    fp.write(str(MyNumbers)+'\\n')"
   ]
  },
  {
   "cell_type": "code",
   "execution_count": 22,
   "metadata": {},
   "outputs": [
    {
     "name": "stdout",
     "output_type": "stream",
     "text": [
      "<class 'list'>\n",
      "[45, 56, 90, 23, 11, 8]\n"
     ]
    }
   ],
   "source": [
    "fp = open('MyListNo.txt')\n",
    "numbers = eval(fp.read())\n",
    "print(type(numbers))\n",
    "print(numbers)\n",
    "fp.close()"
   ]
  },
  {
   "cell_type": "code",
   "execution_count": 23,
   "metadata": {},
   "outputs": [
    {
     "data": {
      "text/plain": [
       "[45, 56, 90, 23, 11, 8]"
      ]
     },
     "execution_count": 23,
     "metadata": {},
     "output_type": "execute_result"
    }
   ],
   "source": [
    "numbers"
   ]
  },
  {
   "cell_type": "markdown",
   "metadata": {},
   "source": [
    "#### Dictionary"
   ]
  },
  {
   "cell_type": "code",
   "execution_count": 26,
   "metadata": {},
   "outputs": [],
   "source": [
    "MyDict = {'A':45, 'B':56, 'C':90, 'D':23, 'E':11, 'F':8}"
   ]
  },
  {
   "cell_type": "code",
   "execution_count": 27,
   "metadata": {},
   "outputs": [
    {
     "data": {
      "text/plain": [
       "{'A': 45, 'B': 56, 'C': 90, 'D': 23, 'E': 11, 'F': 8}"
      ]
     },
     "execution_count": 27,
     "metadata": {},
     "output_type": "execute_result"
    }
   ],
   "source": [
    "MyDict"
   ]
  },
  {
   "cell_type": "code",
   "execution_count": 28,
   "metadata": {},
   "outputs": [
    {
     "name": "stdout",
     "output_type": "stream",
     "text": [
      "<class 'dict'>\n",
      "{'A': 45, 'B': 56, 'C': 90, 'D': 23, 'E': 11, 'F': 8}\n"
     ]
    }
   ],
   "source": [
    "with open('myDict.txt', 'w') as fp:\n",
    "    fp.write(str(MyDict)+'\\n')\n",
    "fp = open('myDict.txt')\n",
    "dic = eval(fp.read())\n",
    "print(type(dic))\n",
    "print(dic)\n",
    "fp.close()"
   ]
  },
  {
   "cell_type": "markdown",
   "metadata": {},
   "source": [
    "#### tuple"
   ]
  },
  {
   "cell_type": "code",
   "execution_count": 29,
   "metadata": {},
   "outputs": [
    {
     "name": "stdout",
     "output_type": "stream",
     "text": [
      "<class 'tuple'>\n",
      "(45, 56, 90, 23, 11, 8)\n"
     ]
    }
   ],
   "source": [
    "MyNumbers = (45, 56, 90, 23, 11, 8)\n",
    "with open('myTuple.txt', 'w') as fp:\n",
    "    fp.write(str(MyNumbers)+'\\n')\n",
    "fp = open('myTuple.txt')\n",
    "numbers = eval(fp.read())\n",
    "print(type(numbers))\n",
    "print(numbers)"
   ]
  },
  {
   "cell_type": "markdown",
   "metadata": {},
   "source": [
    "#### Set"
   ]
  },
  {
   "cell_type": "code",
   "execution_count": 30,
   "metadata": {},
   "outputs": [
    {
     "name": "stdout",
     "output_type": "stream",
     "text": [
      "<class 'set'>\n",
      "{8, 11, 45, 23, 56, 90}\n"
     ]
    }
   ],
   "source": [
    "MyNumbers = {45, 56, 90, 23, 11, 8}\n",
    "with open('myTuple.txt', 'w') as fp:\n",
    "    fp.write(str(MyNumbers)+'\\n')\n",
    "fp = open('myTuple.txt')\n",
    "numbers = eval(fp.read())\n",
    "print(type(numbers))\n",
    "print(numbers)"
   ]
  },
  {
   "cell_type": "markdown",
   "metadata": {},
   "source": [
    "### Append"
   ]
  },
  {
   "cell_type": "code",
   "execution_count": 24,
   "metadata": {},
   "outputs": [],
   "source": [
    "with open('sample.txt', 'a') as fp:\n",
    "    fp.write('This is the appended line')"
   ]
  },
  {
   "cell_type": "code",
   "execution_count": 25,
   "metadata": {},
   "outputs": [
    {
     "name": "stdout",
     "output_type": "stream",
     "text": [
      "This is Ram. \n",
      "\n",
      "I am studying B.Tech 4th year in IIT Bombay.\n",
      "\n",
      "Hope you are all fine. \n",
      "\n",
      "I am doing good here.\n",
      "\n",
      "Stay safe and happy.\n",
      "\n",
      "This is the appended line\n"
     ]
    }
   ],
   "source": [
    "for i in open('sample.txt'):\n",
    "    print(i)"
   ]
  },
  {
   "cell_type": "markdown",
   "metadata": {},
   "source": [
    "## Handling CSV Files"
   ]
  },
  {
   "cell_type": "code",
   "execution_count": 35,
   "metadata": {},
   "outputs": [],
   "source": [
    "import csv  # to make use of reader and writer methods"
   ]
  },
  {
   "cell_type": "markdown",
   "metadata": {},
   "source": [
    "### Writing"
   ]
  },
  {
   "cell_type": "code",
   "execution_count": 37,
   "metadata": {},
   "outputs": [],
   "source": [
    "with open('MyFile.csv', 'w', newline = \"\") as fp:\n",
    "    w_obj = csv.writer(fp)\n",
    "    mylist = [['Ram', 'Manager', 75000], ['Lakshmi', 'Asst. Manager', 60000], \n",
    "              ['Kumar', 'Clerk', 30000], ['Raja', 'Peon', 10000]]\n",
    "    w_obj.writerows(mylist)"
   ]
  },
  {
   "cell_type": "code",
   "execution_count": 39,
   "metadata": {},
   "outputs": [
    {
     "name": "stdout",
     "output_type": "stream",
     "text": [
      "['Ram', 'Manager', '75000']\n",
      "['Lakshmi', 'Asst. Manager', '60000']\n",
      "['Kumar', 'Clerk', '30000']\n",
      "['Raja', 'Peon', '10000']\n"
     ]
    }
   ],
   "source": [
    "with open('MyFile.csv', 'r', newline = \"\") as fp:\n",
    "    r_obj = csv.reader(fp)\n",
    "    for row in r_obj:  #reader object is iterable \n",
    "        print(row)"
   ]
  },
  {
   "cell_type": "markdown",
   "metadata": {},
   "source": [
    "### Read/ Write with optional arguments"
   ]
  },
  {
   "cell_type": "code",
   "execution_count": 55,
   "metadata": {},
   "outputs": [],
   "source": [
    "with open('employee_file.csv', mode = 'w', newline = '') as ef:\n",
    "    ew = csv.writer(ef, delimiter = ',', quotechar = \"'\", quoting = csv.QUOTE_MINIMAL)\n",
    "    ew.writerow(['Kumar', 'Marketing', 'January'])\n",
    "    ew.writerow(['Raja', 'Finance', 'May'])"
   ]
  },
  {
   "cell_type": "code",
   "execution_count": 57,
   "metadata": {},
   "outputs": [
    {
     "name": "stdout",
     "output_type": "stream",
     "text": [
      "['Kumar', 'Marketing', 'January']\n",
      "['Raja', 'Finance', 'May']\n"
     ]
    }
   ],
   "source": [
    "with open('employee_file.csv')as ef:\n",
    "    er = csv.reader(ef, delimiter = ',', quotechar = \"'\", quoting = csv.QUOTE_MINIMAL)\n",
    "    for row in er:\n",
    "        print(row)"
   ]
  },
  {
   "cell_type": "markdown",
   "metadata": {},
   "source": [
    "### Read/Write as Dictionary"
   ]
  },
  {
   "cell_type": "code",
   "execution_count": 65,
   "metadata": {},
   "outputs": [],
   "source": [
    "with open('employee_file.csv', mode = 'w', newline = \"\") as csv_file:\n",
    "    fieldnames = ['emp_name', 'dept', 'birth_month']\n",
    "    writer = csv.DictWriter(csv_file, fieldnames = fieldnames)\n",
    "    \n",
    "    writer.writeheader()\n",
    "    writer.writerow({'emp_name':'Ram', 'dept':'Accounting', 'birth_month':'November'})\n",
    "    writer.writerow({'emp_name':'Lakshmi', 'dept':'IT', 'birth_month':'March'})"
   ]
  },
  {
   "cell_type": "code",
   "execution_count": 66,
   "metadata": {},
   "outputs": [
    {
     "name": "stdout",
     "output_type": "stream",
     "text": [
      "{'emp_name': 'Ram', 'dept': 'Accounting', 'birth_month': 'November'}\n",
      "{'emp_name': 'Lakshmi', 'dept': 'IT', 'birth_month': 'March'}\n"
     ]
    }
   ],
   "source": [
    "with open('employee_file.csv') as employee_file:\n",
    "    employee_reader = csv.DictReader(employee_file)\n",
    "    for row in employee_reader:\n",
    "        print(row)"
   ]
  },
  {
   "cell_type": "code",
   "execution_count": 67,
   "metadata": {},
   "outputs": [
    {
     "name": "stdout",
     "output_type": "stream",
     "text": [
      "Name:  Ram \n",
      "Department:  Accounting \n",
      "BirthMonth:  November\n",
      "Name:  Lakshmi \n",
      "Department:  IT \n",
      "BirthMonth:  March\n"
     ]
    }
   ],
   "source": [
    "with open('employee_file.csv') as employee_file:\n",
    "    employee_reader = csv.DictReader(employee_file)\n",
    "    for row in employee_reader:\n",
    "        print('Name: ',row['emp_name'], '\\nDepartment: ', row['dept'], '\\nBirthMonth: ', row['birth_month'])"
   ]
  },
  {
   "cell_type": "markdown",
   "metadata": {},
   "source": [
    "### Handling Binary Files"
   ]
  },
  {
   "cell_type": "code",
   "execution_count": 73,
   "metadata": {},
   "outputs": [],
   "source": [
    "import pickle #for reading and writing in binary formats"
   ]
  },
  {
   "cell_type": "code",
   "execution_count": 74,
   "metadata": {},
   "outputs": [],
   "source": [
    "MyStrings = ['This is First Line', 'This is the Second Line', 'This is the Third Line']\n",
    "with open('myfile.bin', 'wb') as fp:\n",
    "    pickle.dump(MyStrings, fp)"
   ]
  },
  {
   "cell_type": "code",
   "execution_count": 75,
   "metadata": {},
   "outputs": [
    {
     "name": "stdout",
     "output_type": "stream",
     "text": [
      "['This is First Line', 'This is the Second Line', 'This is the Third Line']\n"
     ]
    }
   ],
   "source": [
    "with open('myfile.bin', 'rb') as fp:\n",
    "    strings = pickle.load(fp)\n",
    "    print(strings)"
   ]
  }
 ],
 "metadata": {
  "kernelspec": {
   "display_name": "Python 3",
   "language": "python",
   "name": "python3"
  },
  "language_info": {
   "codemirror_mode": {
    "name": "ipython",
    "version": 3
   },
   "file_extension": ".py",
   "mimetype": "text/x-python",
   "name": "python",
   "nbconvert_exporter": "python",
   "pygments_lexer": "ipython3",
   "version": "3.8.2"
  }
 },
 "nbformat": 4,
 "nbformat_minor": 4
}
