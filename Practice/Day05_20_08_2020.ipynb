{
 "cells": [
  {
   "cell_type": "markdown",
   "metadata": {},
   "source": [
    "# Python Practice Day 5"
   ]
  },
  {
   "cell_type": "markdown",
   "metadata": {},
   "source": [
    "## Lists Cntd.."
   ]
  },
  {
   "cell_type": "markdown",
   "metadata": {},
   "source": [
    "#### Solving knapsack problem Using lists"
   ]
  },
  {
   "cell_type": "code",
   "execution_count": 22,
   "metadata": {},
   "outputs": [],
   "source": [
    "n = 3\n",
    "W = 50\n",
    "\n",
    "arr = [[60 , 10], [100, 20], [120, 30]]"
   ]
  },
  {
   "cell_type": "code",
   "execution_count": 23,
   "metadata": {},
   "outputs": [],
   "source": [
    "def profit_per_unit(L):\n",
    "    return L[0]/L[1]"
   ]
  },
  {
   "cell_type": "code",
   "execution_count": 24,
   "metadata": {
    "scrolled": true
   },
   "outputs": [],
   "source": [
    "arr.sort(key = profit_per_unit)\n",
    "arr.reverse()"
   ]
  },
  {
   "cell_type": "code",
   "execution_count": 25,
   "metadata": {},
   "outputs": [
    {
     "data": {
      "text/plain": [
       "[[60, 10], [100, 20], [120, 30]]"
      ]
     },
     "execution_count": 25,
     "metadata": {},
     "output_type": "execute_result"
    }
   ],
   "source": [
    "arr"
   ]
  },
  {
   "cell_type": "code",
   "execution_count": 26,
   "metadata": {},
   "outputs": [
    {
     "name": "stdout",
     "output_type": "stream",
     "text": [
      "(240.0, [1, 1, 0.6666666666666666])\n"
     ]
    }
   ],
   "source": [
    "def Greedy_Knapsack(L, M):\n",
    "    n = len(L)\n",
    "    Z = 0\n",
    "    X = [0]*n\n",
    "    for i in range(n):\n",
    "        if M >= L[i][1]:\n",
    "            X[i] = 1\n",
    "            Z += L[i][0]\n",
    "            M -= L[i][1]\n",
    "            if M == 0:\n",
    "                return Z, X\n",
    "        else:\n",
    "            X[i] = M/L[i][1]\n",
    "            Z += X[i]*L[i][0]\n",
    "            return Z, X\n",
    "    return Z, X\n",
    "print(Greedy_Knapsack(arr, W))"
   ]
  },
  {
   "cell_type": "code",
   "execution_count": null,
   "metadata": {},
   "outputs": [],
   "source": []
  }
 ],
 "metadata": {
  "kernelspec": {
   "display_name": "Python 3",
   "language": "python",
   "name": "python3"
  },
  "language_info": {
   "codemirror_mode": {
    "name": "ipython",
    "version": 3
   },
   "file_extension": ".py",
   "mimetype": "text/x-python",
   "name": "python",
   "nbconvert_exporter": "python",
   "pygments_lexer": "ipython3",
   "version": "3.8.2"
  }
 },
 "nbformat": 4,
 "nbformat_minor": 4
}
