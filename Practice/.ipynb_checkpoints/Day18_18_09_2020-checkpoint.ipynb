{
 "cells": [
  {
   "cell_type": "markdown",
   "metadata": {},
   "source": [
    "# Python Practice Day 18"
   ]
  },
  {
   "cell_type": "markdown",
   "metadata": {},
   "source": [
    "## Practice Problem"
   ]
  },
  {
   "cell_type": "code",
   "execution_count": 119,
   "metadata": {},
   "outputs": [],
   "source": [
    "class Room:\n",
    "    def __init__(self):\n",
    "        self.__length = 0\n",
    "        self.__breadth = 0\n",
    "     \n",
    "        \n",
    "    def __init__(self, b, l):\n",
    "        self.__length = l\n",
    "        self.__breadth = b\n",
    "        \n",
    "    @property\n",
    "    def length(self):\n",
    "        return self.__length\n",
    "    \n",
    "    @length.setter\n",
    "    def length(self, l):\n",
    "        self.__length = l\n",
    "        \n",
    "    @property\n",
    "    def breadth(self):\n",
    "        return self.__breadth\n",
    "    \n",
    "    @breadth.setter\n",
    "    def breadth(self, b):\n",
    "        self.__breadth = b\n",
    "    \n",
    "        \n",
    "    def getArea(self):\n",
    "        return self.__length*self.__breadth\n",
    "    \n",
    "    def __str__(self):\n",
    "        return \"Breadth: \" + str(self.__breadth) + \", Length: \" + str(self.__length)\n",
    "    \n",
    "    def __repr__(self):\n",
    "        return \"(\" + str(self.__breadth) + \" , \" + str(self.__length) + \")\"\n",
    "    \n",
    "    \n",
    "    "
   ]
  },
  {
   "cell_type": "code",
   "execution_count": 120,
   "metadata": {},
   "outputs": [],
   "source": [
    "R = Room(2, 3)"
   ]
  },
  {
   "cell_type": "code",
   "execution_count": 121,
   "metadata": {},
   "outputs": [
    {
     "name": "stdout",
     "output_type": "stream",
     "text": [
      "Breadth: 2, Length: 3\n"
     ]
    }
   ],
   "source": [
    "print(R)"
   ]
  },
  {
   "cell_type": "code",
   "execution_count": 122,
   "metadata": {},
   "outputs": [
    {
     "data": {
      "text/plain": [
       "(2 , 3)"
      ]
     },
     "execution_count": 122,
     "metadata": {},
     "output_type": "execute_result"
    }
   ],
   "source": [
    "R"
   ]
  },
  {
   "cell_type": "code",
   "execution_count": 123,
   "metadata": {},
   "outputs": [],
   "source": [
    "class Kitchen(Room):    \n",
    "    def __init__(self, b, l):\n",
    "        super().__init__(b, l)\n",
    "        \n",
    "    def getRoomType(self):\n",
    "        return \"Kitchen\"\n",
    "    \n",
    "    def __str__(self):\n",
    "        return \"Roomtype: \" + self.getRoomType() + \", \" + super().__str__() + \" & Area: \" + str(super().getArea())\n",
    "    \n",
    "    def __repr__(self):\n",
    "        return \"[Room type: \" + self.getRoomType() + \", \" + super().__repr__() + \", \" + str(super().getArea()) + \"]\""
   ]
  },
  {
   "cell_type": "code",
   "execution_count": 124,
   "metadata": {},
   "outputs": [
    {
     "name": "stdout",
     "output_type": "stream",
     "text": [
      "Roomtype: Kitchen, Breadth: 5, Length: 8 & Area: 40\n"
     ]
    }
   ],
   "source": [
    "K = Kitchen(5, 8)\n",
    "print(K)"
   ]
  },
  {
   "cell_type": "code",
   "execution_count": 125,
   "metadata": {},
   "outputs": [
    {
     "data": {
      "text/plain": [
       "[Room type: Kitchen, (5 , 8), 40]"
      ]
     },
     "execution_count": 125,
     "metadata": {},
     "output_type": "execute_result"
    }
   ],
   "source": [
    "K"
   ]
  },
  {
   "cell_type": "code",
   "execution_count": 126,
   "metadata": {},
   "outputs": [],
   "source": [
    "class Hall(Room):\n",
    "    def __init__(self, b, l):\n",
    "        super().__init__(b, l)\n",
    "        \n",
    "    def getRoomType(self):\n",
    "        return \"Hall\"\n",
    "    \n",
    "    def __str__(self):\n",
    "        return \"Roomtype: \" + self.getRoomType() + \", \" + super().__str__() + \" & Area: \" + str(super().getArea())\n",
    "    \n",
    "    def __repr__(self):\n",
    "        return \"[Room type: \" + self.getRoomType() + \", \" + super().__repr__() + \", \" + str(super().getArea()) + \"]\""
   ]
  },
  {
   "cell_type": "code",
   "execution_count": 127,
   "metadata": {},
   "outputs": [],
   "source": [
    "class StudyRoom(Room):\n",
    "    def __init__(self, b, l):\n",
    "        super().__init__(b, l)\n",
    "        \n",
    "    def getRoomType(self):\n",
    "        return \"StudyRoom\"\n",
    "    \n",
    "    def __str__(self):\n",
    "        return \"Roomtype: \" + self.getRoomType() + \", \" + super().__str__() + \" & Area: \" + str(super().getArea())\n",
    "    \n",
    "    def __repr__(self):\n",
    "        return \"[Room type: \" + self.getRoomType() + \", \" + super().__repr__() + \", \" + str(super().getArea()) + \"]\""
   ]
  },
  {
   "cell_type": "code",
   "execution_count": 128,
   "metadata": {},
   "outputs": [],
   "source": [
    "class BedRoom(Room):\n",
    "    def __init__(self, b, l):\n",
    "        super().__init__(b, l)\n",
    "        \n",
    "    def getRoomType(self):\n",
    "        return \"BedRoom\"\n",
    "    \n",
    "    def __str__(self):\n",
    "        return \"Roomtype: \" + self.getRoomType() + \", \" + super().__str__() + \" & Area: \" + str(super().getArea())\n",
    "    \n",
    "    def __repr__(self):\n",
    "        return \"[Room type: \" + self.getRoomType() + \", \" + super().__repr__() + \", \" + str(super().getArea()) + \"]\""
   ]
  },
  {
   "cell_type": "code",
   "execution_count": 129,
   "metadata": {},
   "outputs": [
    {
     "data": {
      "text/plain": [
       "[Room type: BedRoom, (4 , 5), 20]"
      ]
     },
     "execution_count": 129,
     "metadata": {},
     "output_type": "execute_result"
    }
   ],
   "source": [
    "BedRoom(4, 5)"
   ]
  },
  {
   "cell_type": "code",
   "execution_count": 134,
   "metadata": {},
   "outputs": [],
   "source": [
    "class House:\n",
    "    def __init__(self, K, H, S, BL):\n",
    "        self.__kitchen = K\n",
    "        self.__hall = H\n",
    "        self.__studyroom = S\n",
    "        self.__bedrooms = BL\n",
    "        \n",
    "    def __str__(self):\n",
    "        return str(self.__kitchen) + \"\\n\" + str(self.__hall) + \"\\n\" + str(self.__studyroom) + \"\\n\" + str(self.__bedrooms)\n",
    "    \n"
   ]
  },
  {
   "cell_type": "code",
   "execution_count": 135,
   "metadata": {},
   "outputs": [],
   "source": [
    "class TwoBHK(House):\n",
    "    def __init__(self, K, H, S, B1, B2):\n",
    "        super().__init__(K, H, S, [B1, B2])\n",
    "        \n",
    "    def __str__(self):\n",
    "        return super().__str__()"
   ]
  },
  {
   "cell_type": "code",
   "execution_count": 136,
   "metadata": {},
   "outputs": [],
   "source": [
    "class ThreeBHK(House):\n",
    "    def __init__(self, K, H, S, B1, B2, B3):\n",
    "        super().__init__(K, H, S, [B1, B2, B3])\n",
    "        \n",
    "    def __str__(self):\n",
    "        return super().__str__()"
   ]
  },
  {
   "cell_type": "code",
   "execution_count": 138,
   "metadata": {},
   "outputs": [
    {
     "name": "stdout",
     "output_type": "stream",
     "text": [
      "Enter number of houses to construct: 1\n",
      "Enter type of house [2BHK or 3BHK]2\n",
      "Enter Kitchen Length: 1\n",
      "Enter Kitchen Breadth: 2\n",
      "Enter Hall Length: 12\n",
      "Enter Hall Breadth: 2\n",
      "Enter Studyroom Length: 3\n",
      "Enter Studyroom Breadth: 2\n",
      "Enter Bedroom - 1 Length: 1\n",
      "Enter Bedroom - 1 Breadth: 2\n",
      "Enter Bedroom - 2 Length: 3\n",
      "Enter Bedroom - 2 Breadth: 4\n",
      "House: \n",
      " Roomtype: Kitchen, Breadth: 2, Length: 1 & Area: 2\n",
      "Roomtype: Hall, Breadth: 2, Length: 12 & Area: 24\n",
      "Roomtype: StudyRoom, Breadth: 2, Length: 3 & Area: 6\n",
      "[[Room type: BedRoom, (2 , 1), 2], [Room type: BedRoom, (4 , 3), 12]]\n"
     ]
    }
   ],
   "source": [
    "def Construct_House():\n",
    "    n = int(input(\"Enter number of houses to construct: \"))\n",
    "    Apartment = []\n",
    "    for i in range(n):\n",
    "        housetype = input(\"Enter type of house [2BHK or 3BHK]\")\n",
    "        if housetype == \"2BHK\" or housetype == \"2\":\n",
    "            K_length = int(input(\"Enter Kitchen Length: \"))\n",
    "            K_breadth = int(input(\"Enter Kitchen Breadth: \"))\n",
    "            K = Kitchen(K_breadth, K_length)\n",
    "            H_length = int(input(\"Enter Hall Length: \"))\n",
    "            H_breadth = int(input(\"Enter Hall Breadth: \"))\n",
    "            H = Hall(H_breadth, H_length)\n",
    "            S_length = int(input(\"Enter Studyroom Length: \"))\n",
    "            S_breadth = int(input(\"Enter Studyroom Breadth: \"))\n",
    "            S = StudyRoom(S_breadth, S_length)\n",
    "            B_length = int(input(\"Enter Bedroom - 1 Length: \"))\n",
    "            B_breadth = int(input(\"Enter Bedroom - 1 Breadth: \"))\n",
    "            B1 = BedRoom(B_breadth, B_length)\n",
    "            B_length = int(input(\"Enter Bedroom - 2 Length: \"))\n",
    "            B_breadth = int(input(\"Enter Bedroom - 2 Breadth: \"))\n",
    "            B2 = BedRoom(B_breadth, B_length)\n",
    "            TB = TwoBHK(K, H, S, B1, B2)\n",
    "        else:\n",
    "            K_length = int(input(\"Enter Kitchen Length: \"))\n",
    "            K_breadth = int(input(\"Enter Kitchen Breadth: \"))\n",
    "            K = Kitchen(K_breadth, K_length)\n",
    "            H_length = int(input(\"Enter Hall Length: \"))\n",
    "            H_breadth = int(input(\"Enter Hall Breadth: \"))\n",
    "            H = Hall(H_breadth, H_length)\n",
    "            S_length = int(input(\"Enter Studyroom Length: \"))\n",
    "            S_breadth = int(input(\"Enter Studyroom Breadth: \"))\n",
    "            S = StudyRoom(S_breadth, S_length)\n",
    "            B_length = int(input(\"Enter Bedroom - 1 Length: \"))\n",
    "            B_breadth = int(input(\"Enter Bedroom - 1 Breadth: \"))\n",
    "            B1 = BedRoom(B_breadth, B_length)\n",
    "            B_length = int(input(\"Enter Bedroom - 2 Length: \"))\n",
    "            B_breadth = int(input(\"Enter Bedroom - 2 Breadth: \"))\n",
    "            B2 = BedRoom(B_breadth, B_length)\n",
    "            B_length = int(input(\"Enter Bedroom - 3 Length: \"))\n",
    "            B_breadth = int(input(\"Enter Bedroom - 3 Breadth: \"))\n",
    "            B3 = BedRoom(B_breadth, B_length)\n",
    "            TB = ThreeBHK(K, H, S, B1, B2, B3)\n",
    "        Apartment.append(TB)\n",
    "    for house in Apartment:\n",
    "        print(\"House: \\n\", house)\n",
    "Construct_House()"
   ]
  },
  {
   "cell_type": "code",
   "execution_count": null,
   "metadata": {},
   "outputs": [],
   "source": []
  },
  {
   "cell_type": "code",
   "execution_count": null,
   "metadata": {},
   "outputs": [],
   "source": []
  }
 ],
 "metadata": {
  "kernelspec": {
   "display_name": "Python 3",
   "language": "python",
   "name": "python3"
  },
  "language_info": {
   "codemirror_mode": {
    "name": "ipython",
    "version": 3
   },
   "file_extension": ".py",
   "mimetype": "text/x-python",
   "name": "python",
   "nbconvert_exporter": "python",
   "pygments_lexer": "ipython3",
   "version": "3.8.2"
  }
 },
 "nbformat": 4,
 "nbformat_minor": 4
}
