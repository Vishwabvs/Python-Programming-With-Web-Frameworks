{
 "cells": [
  {
   "cell_type": "markdown",
   "metadata": {},
   "source": [
    "# Recursion and Algorithms"
   ]
  },
  {
   "cell_type": "markdown",
   "metadata": {},
   "source": [
    "### Sum of given numbers using iteration"
   ]
  },
  {
   "cell_type": "code",
   "execution_count": 1,
   "metadata": {},
   "outputs": [
    {
     "name": "stdout",
     "output_type": "stream",
     "text": [
      "276\n"
     ]
    }
   ],
   "source": [
    "def add_Iter(*numbers):\n",
    "    sum = 0\n",
    "    for x in numbers:\n",
    "        sum += x\n",
    "    return sum\n",
    "print(add_Iter(24, 35, 11, 56, 29, 87, 34))"
   ]
  },
  {
   "cell_type": "markdown",
   "metadata": {},
   "source": [
    "### Sum of given numbers using recursion"
   ]
  },
  {
   "cell_type": "code",
   "execution_count": 2,
   "metadata": {},
   "outputs": [
    {
     "name": "stdout",
     "output_type": "stream",
     "text": [
      "276\n"
     ]
    }
   ],
   "source": [
    "def add_Rec(*numbers):\n",
    "    if len(numbers)==1:\n",
    "        return numbers[0]\n",
    "    else:\n",
    "        return numbers[0] + add_Rec(*numbers[1:])\n",
    "print(add_Rec(24, 35, 11, 56, 29, 87, 34))"
   ]
  },
  {
   "cell_type": "markdown",
   "metadata": {},
   "source": [
    "### Factorial of n using Iteration"
   ]
  },
  {
   "cell_type": "code",
   "execution_count": 3,
   "metadata": {},
   "outputs": [
    {
     "name": "stdout",
     "output_type": "stream",
     "text": [
      "3628800\n"
     ]
    }
   ],
   "source": [
    "def fact_Iter(n):\n",
    "    f = 1\n",
    "    for i in range(1,n+1):\n",
    "        f *= i\n",
    "    return f\n",
    "print(fact_Iter(10))"
   ]
  },
  {
   "cell_type": "markdown",
   "metadata": {},
   "source": [
    "### Factorial of n using Recursion"
   ]
  },
  {
   "cell_type": "code",
   "execution_count": 4,
   "metadata": {},
   "outputs": [
    {
     "name": "stdout",
     "output_type": "stream",
     "text": [
      "3628800\n"
     ]
    }
   ],
   "source": [
    "def fact_Rec(n):\n",
    "    if n==1:\n",
    "        return 1\n",
    "    else:\n",
    "        return n * fact_Rec(n-1)\n",
    "print(fact_Rec(10))"
   ]
  },
  {
   "cell_type": "markdown",
   "metadata": {},
   "source": [
    "### Nth Fibonacci number using Iteration"
   ]
  },
  {
   "cell_type": "code",
   "execution_count": 5,
   "metadata": {},
   "outputs": [
    {
     "name": "stdout",
     "output_type": "stream",
     "text": [
      "4181\n"
     ]
    }
   ],
   "source": [
    "def fib_Iter(n):\n",
    "    f0 = 0\n",
    "    f1 = 1\n",
    "    for i in range(3, n+1):\n",
    "        f0, f1 = f1, f0 + f1\n",
    "    return f1\n",
    "print(fib_Iter(20))"
   ]
  },
  {
   "cell_type": "markdown",
   "metadata": {},
   "source": [
    "### Nth Fibonacci number using Recursion"
   ]
  },
  {
   "cell_type": "code",
   "execution_count": 6,
   "metadata": {},
   "outputs": [
    {
     "name": "stdout",
     "output_type": "stream",
     "text": [
      "4181\n"
     ]
    }
   ],
   "source": [
    "def fib_Rec(n):\n",
    "    if n == 1:\n",
    "        return 0\n",
    "    elif n == 2:\n",
    "        return 1\n",
    "    else:\n",
    "        return fib_Rec(n-1) + fib_Rec(n-2)\n",
    "print(fib_Rec(20))"
   ]
  },
  {
   "cell_type": "markdown",
   "metadata": {},
   "source": [
    "### Binary Tree Traversal using Recursion"
   ]
  },
  {
   "cell_type": "code",
   "execution_count": 7,
   "metadata": {},
   "outputs": [
    {
     "name": "stdout",
     "output_type": "stream",
     "text": [
      "G D H B I E A C J F K "
     ]
    }
   ],
   "source": [
    "tree_edges = {'Root': 'A','A':{'left':'B','right':'C'}, 'B':{'left':'D', 'right':'E'}, 'C':{'left':None,'right':'F'}, 'D':{'left':'G','right':'H'}, 'E':{'left':'I','right':None}, 'F':{'left':'J','right':'K'} }\n",
    "def inorder(node):\n",
    "    if node:\n",
    "        if tree_edges.get(node, None):\n",
    "            inorder(tree_edges[node].get('left',None))\n",
    "        print(node, end=' ')\n",
    "        if tree_edges.get(node, None):\n",
    "            inorder(tree_edges[node].get('right', None))\n",
    "inorder(tree_edges['Root'])"
   ]
  },
  {
   "cell_type": "code",
   "execution_count": 8,
   "metadata": {},
   "outputs": [
    {
     "name": "stdout",
     "output_type": "stream",
     "text": [
      "A B D G H E I C F J K "
     ]
    }
   ],
   "source": [
    "def preorder(node):\n",
    "    if node:\n",
    "        print(node, end=' ')\n",
    "        if tree_edges.get(node, None):\n",
    "            preorder(tree_edges[node].get('left',None))\n",
    "        if tree_edges.get(node, None):\n",
    "            preorder(tree_edges[node].get('right', None))\n",
    "preorder(tree_edges['Root'])"
   ]
  },
  {
   "cell_type": "code",
   "execution_count": 9,
   "metadata": {},
   "outputs": [
    {
     "name": "stdout",
     "output_type": "stream",
     "text": [
      "G H D I E B J K F C A "
     ]
    }
   ],
   "source": [
    "def postorder(node):\n",
    "    if node:\n",
    "        if tree_edges.get(node, None):\n",
    "            postorder(tree_edges[node].get('left',None))\n",
    "        if tree_edges.get(node, None):\n",
    "            postorder(tree_edges[node].get('right', None))\n",
    "        print(node, end=' ')\n",
    "postorder(tree_edges['Root'])"
   ]
  },
  {
   "cell_type": "markdown",
   "metadata": {},
   "source": [
    "### Merge Sort"
   ]
  },
  {
   "cell_type": "code",
   "execution_count": 10,
   "metadata": {},
   "outputs": [],
   "source": [
    "def mergesort(A, low, high):\n",
    "    if low < high:\n",
    "        mid = (low + high)//2\n",
    "        mergesort(A, low, mid)\n",
    "        mergesort(A, mid+1, high)\n",
    "        merge(A, low, mid, high)"
   ]
  },
  {
   "cell_type": "code",
   "execution_count": 11,
   "metadata": {},
   "outputs": [],
   "source": [
    "def merge(A, low, mid, high):\n",
    "    i, j, k = low, mid+1, 0\n",
    "    T = [0]*(high-low+1)\n",
    "    while i<=mid and j<=high:\n",
    "        if A[i] < A[j]:\n",
    "            T[k] = A[i]\n",
    "            i += 1\n",
    "        else:\n",
    "            T[k] = A[j]\n",
    "            j += 1\n",
    "        k += 1\n",
    "    if i > mid:\n",
    "        T[k:high-low+1] = A[j:high+1]\n",
    "    else:\n",
    "        T[k:high-low+1] = A[i:mid+1]\n",
    "    A[low:high+1] = T[0:high-low+1]    "
   ]
  },
  {
   "cell_type": "code",
   "execution_count": 12,
   "metadata": {},
   "outputs": [],
   "source": [
    "L = [41, 35, 53, 21, 62, 11, 98, 44, 73]\n",
    "mergesort(L, 0, len(L)-1)"
   ]
  },
  {
   "cell_type": "code",
   "execution_count": 13,
   "metadata": {},
   "outputs": [
    {
     "data": {
      "text/plain": [
       "[11, 21, 35, 41, 44, 53, 62, 73, 98]"
      ]
     },
     "execution_count": 13,
     "metadata": {},
     "output_type": "execute_result"
    }
   ],
   "source": [
    "L"
   ]
  },
  {
   "cell_type": "markdown",
   "metadata": {},
   "source": [
    "### Breadth First Search "
   ]
  },
  {
   "cell_type": "code",
   "execution_count": 14,
   "metadata": {},
   "outputs": [
    {
     "name": "stdout",
     "output_type": "stream",
     "text": [
      "A    None    0\n",
      "B    A    1\n",
      "C    A    1\n",
      "D    A    1\n"
     ]
    }
   ],
   "source": [
    "G = {'A':['B', 'C', 'D'], 'B':['A', 'D'], 'C':['A', 'D'], 'D':['A', 'B', 'C']}\n",
    "def BFS(G, s):\n",
    "    keys = G.keys()\n",
    "    parent = dict.fromkeys(keys, None)\n",
    "    color = dict.fromkeys(keys, 'WHITE')\n",
    "    dist = dict.fromkeys(keys, 9999999)\n",
    "    Q = [s]\n",
    "    dist[s] = 0\n",
    "    color[s] = 'GRAY'\n",
    "    while Q:\n",
    "        u = Q.pop(0)\n",
    "        for v in G.get(u, None):\n",
    "            if color[v] == 'WHITE':\n",
    "                dist[v] = dist[u] + 1\n",
    "                parent[v] = u\n",
    "                color[v] = 'GRAY'\n",
    "                Q.append(v)\n",
    "        color[u] =  'BLACK'\n",
    "    return parent, dist\n",
    "P, D = BFS(G, 'A')\n",
    "for v in G:\n",
    "    print (v, '  ', P[v], '  ', D[v])"
   ]
  },
  {
   "cell_type": "markdown",
   "metadata": {},
   "source": [
    "### Depth First Search"
   ]
  },
  {
   "cell_type": "code",
   "execution_count": 15,
   "metadata": {},
   "outputs": [
    {
     "name": "stdout",
     "output_type": "stream",
     "text": [
      "A    None    1    8\n",
      "B    A    2    7\n",
      "C    D    4    5\n",
      "D    B    3    6\n"
     ]
    }
   ],
   "source": [
    "G = {'A':['B', 'C', 'D'], 'B':['A', 'D'], 'C':['A', 'D'], 'D':['A', 'B', 'C']}\n",
    "def DFS(G):\n",
    "    keys = G.keys()\n",
    "    global time, d, f, parent, color\n",
    "    time = 0\n",
    "    color = dict.fromkeys(keys, 'WHITE')\n",
    "    d = dict.fromkeys(keys, 0)\n",
    "    f = dict.fromkeys(keys, 0)\n",
    "    parent = dict.fromkeys(keys, None)\n",
    "    for u in G:\n",
    "        if color[u] == 'WHITE':\n",
    "            DFS_Visit(u)\n",
    "    return parent, d, f\n",
    "def DFS_Visit(u):\n",
    "    global d, f, time, parent, color\n",
    "    time += 1\n",
    "    d[u] = time\n",
    "    color[u] = 'GRAY'\n",
    "    for v in G.get(u, None):\n",
    "        if color[v] == 'WHITE':\n",
    "            parent[v] = u\n",
    "            DFS_Visit(v)\n",
    "    time += 1\n",
    "    f[u] = time\n",
    "    color[u] = 'BLACK'\n",
    "P, D, F = DFS(G)\n",
    "for v in G:\n",
    "    print (v, '  ', P[v], '  ', D[v], '  ', F[v])\n"
   ]
  },
  {
   "cell_type": "markdown",
   "metadata": {},
   "source": [
    "### Finding MWST using Prim's Algorithm"
   ]
  },
  {
   "cell_type": "code",
   "execution_count": 21,
   "metadata": {},
   "outputs": [
    {
     "name": "stdout",
     "output_type": "stream",
     "text": [
      "Edges of Minimum Weight Spanning Tree\n",
      "A --> C\n",
      "C --> D\n",
      "A --> B\n",
      "Total Weight:  6\n"
     ]
    }
   ],
   "source": [
    "G = {'A':[('B', 3), ('C', 1), ('D', 5)], 'B':[('A', 3), ('D', 6)], 'C':[('A', 1), ('D', 2)], 'D':[('A', 5), ('B', 6), ('C', 2)]}\n",
    "def extract_min(Q):\n",
    "    v = min(Q, key=Q.get)\n",
    "    Q.pop(v)\n",
    "    return v\n",
    "def PRIMS(G,s):\n",
    "    keys = G.keys()\n",
    "    parent = dict.fromkeys(keys, None)\n",
    "    visited = dict.fromkeys(keys, False)\n",
    "    dist = dict.fromkeys(keys, 9999999)\n",
    "    Q = dict.fromkeys(keys, 9999999)\n",
    "    Q[s] = 0\n",
    "    dist[s] = 0\n",
    "    visited[s] = True\n",
    "    parent[s] = None\n",
    "    cost = 0\n",
    "    print (\"Edges of Minimum Weight Spanning Tree\")\n",
    "    while Q:\n",
    "        u = extract_min(Q)\n",
    "        visited[u] = True\n",
    "        if not u == s: \n",
    "            print (parent[u], \"-->\", u)\n",
    "            cost += dist[u]\n",
    "        for (v, edg_w) in G.get(u, None):\n",
    "            if not visited[v] and dist[v] > edg_w:\n",
    "                dist[v] = edg_w\n",
    "                Q[v] = edg_w\n",
    "                parent[v] = u\n",
    "    print(\"Total Weight: \", cost)\n",
    "PRIMS(G, 'A')"
   ]
  },
  {
   "cell_type": "code",
   "execution_count": 23,
   "metadata": {},
   "outputs": [
    {
     "name": "stdout",
     "output_type": "stream",
     "text": [
      "Edges of Minimum Weight Spanning Tree\n",
      "A --> C\n",
      "C --> D\n",
      "A --> B\n",
      "Total Weight:  6\n"
     ]
    }
   ],
   "source": [
    "G = [('A', 'B', 3), ('A', 'C', 1), ('A', 'D', 5),  ('B', 'D', 6), ('C', 'D', 2)]\n",
    "\n",
    "def edg_w(t):\n",
    "    return t[2]\n",
    "def find_set(S, v):\n",
    "    for i in range(0, len(S)):\n",
    "        if v in S[i]:\n",
    "            return i\n",
    "def union(S, i, j):\n",
    "    S[i] = S[i] | S[j]\n",
    "    S.remove(S[j])\n",
    "    \n",
    "def KRUSKAL(G):\n",
    "    G = sorted(G, key = edg_w)\n",
    "    V = set({})\n",
    "    for x,y,z in G:\n",
    "        V = V | {x} | {y}\n",
    "    S = []\n",
    "    for u in V:\n",
    "        S.append({u})\n",
    "    cost = 0\n",
    "    print (\"Edges of Minimum Weight Spanning Tree\")\n",
    "    for (u, v, weight) in G:\n",
    "        i = find_set(S, u)\n",
    "        j = find_set(S, v)\n",
    "        if not (i == j):\n",
    "            print (u, \"-->\", v)\n",
    "            cost += weight\n",
    "            union(S, i, j)\n",
    "    print(\"Total Weight: \",cost)\n",
    "            \n",
    "KRUSKAL(G)"
   ]
  },
  {
   "cell_type": "code",
   "execution_count": null,
   "metadata": {},
   "outputs": [],
   "source": []
  },
  {
   "cell_type": "code",
   "execution_count": null,
   "metadata": {},
   "outputs": [],
   "source": []
  },
  {
   "cell_type": "code",
   "execution_count": null,
   "metadata": {},
   "outputs": [],
   "source": []
  }
 ],
 "metadata": {
  "kernelspec": {
   "display_name": "Python 3",
   "language": "python",
   "name": "python3"
  },
  "language_info": {
   "codemirror_mode": {
    "name": "ipython",
    "version": 3
   },
   "file_extension": ".py",
   "mimetype": "text/x-python",
   "name": "python",
   "nbconvert_exporter": "python",
   "pygments_lexer": "ipython3",
   "version": "3.8.2"
  }
 },
 "nbformat": 4,
 "nbformat_minor": 2
}
