{
 "cells": [
  {
   "cell_type": "markdown",
   "metadata": {},
   "source": [
    "# Text File I/O"
   ]
  },
  {
   "cell_type": "markdown",
   "metadata": {},
   "source": [
    "### Opening a file"
   ]
  },
  {
   "cell_type": "code",
   "execution_count": null,
   "metadata": {},
   "outputs": [],
   "source": [
    "fp = open('myfile.txt', 'w')"
   ]
  },
  {
   "cell_type": "markdown",
   "metadata": {},
   "source": [
    "### Writing contents into file"
   ]
  },
  {
   "cell_type": "code",
   "execution_count": null,
   "metadata": {},
   "outputs": [],
   "source": [
    "fp.write('This is a sample text file\\n')"
   ]
  },
  {
   "cell_type": "markdown",
   "metadata": {},
   "source": [
    "### Closing the file"
   ]
  },
  {
   "cell_type": "code",
   "execution_count": null,
   "metadata": {},
   "outputs": [],
   "source": [
    "fp.close()"
   ]
  },
  {
   "cell_type": "code",
   "execution_count": null,
   "metadata": {},
   "outputs": [],
   "source": [
    "fp = open('myfile.txt', 'a')\n",
    "fp.write('This is second line\\n')\n",
    "fp.write('This is third line\\n')\n",
    "fp.write('This is fourth line\\n')\n",
    "fp.close()"
   ]
  },
  {
   "cell_type": "markdown",
   "metadata": {},
   "source": [
    "### Reading contents from file"
   ]
  },
  {
   "cell_type": "code",
   "execution_count": null,
   "metadata": {},
   "outputs": [],
   "source": [
    "fp = open('myfile.txt', 'r')\n",
    "print(fp.readlines())\n",
    "fp.close()"
   ]
  },
  {
   "cell_type": "code",
   "execution_count": null,
   "metadata": {},
   "outputs": [],
   "source": [
    "with open('myfile.txt') as fp:\n",
    "    line = fp.readline()\n",
    "    while line:\n",
    "        print(line,end='')\n",
    "        line = fp.readline()"
   ]
  },
  {
   "cell_type": "code",
   "execution_count": null,
   "metadata": {},
   "outputs": [],
   "source": [
    "for line in open('myfile.txt'):\n",
    "    print(line, end='')"
   ]
  },
  {
   "cell_type": "markdown",
   "metadata": {},
   "source": [
    "### Reading and Writing list of string items"
   ]
  },
  {
   "cell_type": "code",
   "execution_count": null,
   "metadata": {},
   "outputs": [],
   "source": [
    "MyStrings = ['This is First Line', 'This is Second Line', 'This is Third Line']\n",
    "with open('mylist.txt', 'w') as fp:\n",
    "    for mystr in MyStrings:\n",
    "        fp.write(mystr+'\\n')\n",
    "contents = []\n",
    "for line in open('mylist.txt'):\n",
    "    contents.append(line)\n",
    "print(contents)"
   ]
  },
  {
   "cell_type": "markdown",
   "metadata": {},
   "source": [
    "### Reading and Writing list of numbers"
   ]
  },
  {
   "cell_type": "code",
   "execution_count": null,
   "metadata": {},
   "outputs": [],
   "source": [
    "MyNumbers = [45, 56, 90, 23, 11, 8]\n",
    "with open('mylist.txt', 'w') as fp:\n",
    "    for num in MyNumbers:\n",
    "        fp.write(str(num)+'\\n')\n",
    "contents = []\n",
    "for num in open('mylist.txt'):\n",
    "    contents.append(int(num))\n",
    "print(contents)"
   ]
  },
  {
   "cell_type": "code",
   "execution_count": null,
   "metadata": {},
   "outputs": [],
   "source": [
    "MyNumbers = [45, 56, 90, 23, 11, 8]\n",
    "with open('mylist.txt', 'w') as fp:\n",
    "    fp.write(str(MyNumbers)+'\\n')\n",
    "fp = open('mylist.txt')\n",
    "numbers = fp.read()\n",
    "print(type(numbers))\n",
    "print(numbers)"
   ]
  },
  {
   "cell_type": "code",
   "execution_count": null,
   "metadata": {},
   "outputs": [],
   "source": [
    "MyNumbers = [45, 56, 90, 23, 11, 8]\n",
    "with open('mylist.txt', 'w') as fp:\n",
    "    fp.write(str(MyNumbers)+'\\n')\n",
    "fp = open('mylist.txt')\n",
    "numbers = eval(fp.read())\n",
    "print(type(numbers))\n",
    "print(numbers)"
   ]
  },
  {
   "cell_type": "code",
   "execution_count": null,
   "metadata": {},
   "outputs": [],
   "source": [
    "MyDict = {'A':45, 'B':56, 'C':90, 'D':23, 'E':11, 'F':8}\n",
    "with open('mydict.txt', 'w') as fp:\n",
    "    fp.write(str(MyDict)+'\\n')\n",
    "fp = open('mydict.txt')\n",
    "dic = eval(fp.read())\n",
    "print(type(dic))\n",
    "print(dic)"
   ]
  },
  {
   "cell_type": "code",
   "execution_count": null,
   "metadata": {},
   "outputs": [],
   "source": [
    "MyNumbers = (45, 56, 90, 23, 11, 8)\n",
    "with open('mytuple.txt', 'w') as fp:\n",
    "    fp.write(str(MyNumbers)+'\\n')\n",
    "fp = open('mytuple.txt')\n",
    "numbers = eval(fp.read())\n",
    "print(type(numbers))\n",
    "print(numbers)"
   ]
  },
  {
   "cell_type": "code",
   "execution_count": null,
   "metadata": {},
   "outputs": [],
   "source": [
    "MyNumbers = {45, 56, 90, 23, 11, 8}\n",
    "with open('myset.txt', 'w') as fp:\n",
    "    fp.write(str(MyNumbers)+'\\n')\n",
    "fp = open('myset.txt')\n",
    "numbers = eval(fp.read())\n",
    "print(type(numbers))\n",
    "print(numbers)"
   ]
  },
  {
   "cell_type": "markdown",
   "metadata": {},
   "source": [
    "# Handling CSV Files"
   ]
  },
  {
   "cell_type": "code",
   "execution_count": null,
   "metadata": {},
   "outputs": [],
   "source": [
    "import csv\n",
    "with open('myfile.csv', 'w', newline='') as fp:\n",
    "    w_obj = csv.writer(fp)\n",
    "    mylist =[['Ram', 'Manager', 75000], ['Lakshmi', 'Asst. Manager', 60000], ['Kumar', 'Clerk', 30000], ['Raja', 'Peon', 10000]]\n",
    "    w_obj.writerows(mylist)"
   ]
  },
  {
   "cell_type": "code",
   "execution_count": null,
   "metadata": {},
   "outputs": [],
   "source": [
    "with open('myfile.csv', 'r', newline='') as fp:\n",
    "    r_obj = csv.reader(fp)\n",
    "    for row in r_obj:\n",
    "        print(row)"
   ]
  },
  {
   "cell_type": "code",
   "execution_count": null,
   "metadata": {},
   "outputs": [],
   "source": [
    "with open('employee_file.csv', mode='w',newline='') as employee_file:\n",
    "    employee_writer = csv.writer(employee_file, delimiter=',', quotechar='\"', quoting=csv.QUOTE_MINIMAL)\n",
    "\n",
    "    employee_writer.writerow(['Kumar', 'Marketing', 'January'])\n",
    "    employee_writer.writerow(['Raja', 'Finance', 'May'])"
   ]
  },
  {
   "cell_type": "code",
   "execution_count": null,
   "metadata": {},
   "outputs": [],
   "source": [
    "with open('employee_file.csv') as employee_file:\n",
    "    employee_reader = csv.reader(employee_file, delimiter=',', quotechar='\"', quoting=csv.QUOTE_MINIMAL)\n",
    "    for row in employee_reader:\n",
    "        print(row)"
   ]
  },
  {
   "cell_type": "code",
   "execution_count": null,
   "metadata": {},
   "outputs": [],
   "source": [
    "with open('employee_file2.csv', mode='w', newline='') as csv_file:\n",
    "    fieldnames = ['emp_name', 'dept', 'birth_month']\n",
    "    writer = csv.DictWriter(csv_file, fieldnames=fieldnames)\n",
    "\n",
    "    writer.writeheader()\n",
    "    writer.writerow({'emp_name': 'Ram', 'dept': 'Accounting', 'birth_month': 'November'})\n",
    "    writer.writerow({'emp_name': 'Lakshmi', 'dept': 'IT', 'birth_month': 'March'})"
   ]
  },
  {
   "cell_type": "code",
   "execution_count": null,
   "metadata": {},
   "outputs": [],
   "source": [
    "with open('employee_file2.csv') as employee_file:\n",
    "    employee_reader = csv.DictReader(employee_file, delimiter=',', quotechar='\"', quoting=csv.QUOTE_MINIMAL)\n",
    "    for row in employee_reader:\n",
    "        print(row)"
   ]
  },
  {
   "cell_type": "code",
   "execution_count": null,
   "metadata": {},
   "outputs": [],
   "source": [
    "with open('employee_file2.csv') as employee_file:\n",
    "    employee_reader = csv.DictReader(employee_file, delimiter=',', quotechar='\"', quoting=csv.QUOTE_MINIMAL)\n",
    "    for row in employee_reader:\n",
    "        print('Name:', row['emp_name'], '\\nDepartment:', row['dept'], '\\nBirth Month:', row['birth_month'])"
   ]
  },
  {
   "cell_type": "code",
   "execution_count": null,
   "metadata": {},
   "outputs": [],
   "source": [
    "with open('employee_file.csv') as employee_file:\n",
    "    employee_reader = csv.DictReader(employee_file, fieldnames=['emp_name', 'dept', 'birth_month'])\n",
    "    for row in employee_reader:\n",
    "        print('Name:', row['emp_name'], '\\nDepartment:', row['dept'], '\\nBirth Month:', row['birth_month'])"
   ]
  },
  {
   "cell_type": "markdown",
   "metadata": {},
   "source": [
    "# Binary File I/O"
   ]
  },
  {
   "cell_type": "code",
   "execution_count": null,
   "metadata": {},
   "outputs": [],
   "source": [
    "import pickle\n",
    "MyStrings = ['This is First Line', 'This is Second Line', 'This is Third Line']\n",
    "with open('myfile.bin', 'wb') as fp:\n",
    "    pickle.dump(MyStrings, fp)"
   ]
  },
  {
   "cell_type": "code",
   "execution_count": null,
   "metadata": {},
   "outputs": [],
   "source": [
    "with open('myfile.bin', 'rb') as fp:\n",
    "    MyStrings = pickle.load(fp)\n",
    "    print(MyStrings)"
   ]
  }
 ],
 "metadata": {
  "kernelspec": {
   "display_name": "Python 3",
   "language": "python",
   "name": "python3"
  },
  "language_info": {
   "codemirror_mode": {
    "name": "ipython",
    "version": 3
   },
   "file_extension": ".py",
   "mimetype": "text/x-python",
   "name": "python",
   "nbconvert_exporter": "python",
   "pygments_lexer": "ipython3",
   "version": "3.7.4"
  }
 },
 "nbformat": 4,
 "nbformat_minor": 2
}
