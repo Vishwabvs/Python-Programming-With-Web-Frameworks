{
 "cells": [
  {
   "cell_type": "markdown",
   "metadata": {},
   "source": [
    "# Python Practice Day 19"
   ]
  },
  {
   "cell_type": "markdown",
   "metadata": {},
   "source": [
    "##  Advanced Class Concepts"
   ]
  },
  {
   "cell_type": "code",
   "execution_count": 1,
   "metadata": {},
   "outputs": [
    {
     "name": "stdout",
     "output_type": "stream",
     "text": [
      "Display from Super Class\n",
      "Display from Replacer Class\n",
      "Display from Super Class\n",
      "Display from Extender Class\n"
     ]
    }
   ],
   "source": [
    "class Super:\n",
    "    def display(self):\n",
    "        print(\"Display from Super Class\")\n",
    "        \n",
    "class Inheritor(Super):\n",
    "    pass\n",
    "\n",
    "class Replacer(Super):\n",
    "    def display(self):\n",
    "        print(\"Display from Replacer Class\")\n",
    "    \n",
    "class Extender(Super):\n",
    "    def display(self):\n",
    "        super().display()\n",
    "        print(\"Display from Extender Class\")\n",
    "\n",
    "I = Inheritor()\n",
    "R = Replacer()\n",
    "E = Extender()\n",
    "I.display()\n",
    "R.display()\n",
    "E.display()\n",
    "        "
   ]
  },
  {
   "cell_type": "markdown",
   "metadata": {},
   "source": [
    "### Provider Class Inheritance"
   ]
  },
  {
   "cell_type": "code",
   "execution_count": 4,
   "metadata": {},
   "outputs": [
    {
     "name": "stdout",
     "output_type": "stream",
     "text": [
      "Action from Sub1\n",
      "Action from Sub2\n"
     ]
    },
    {
     "ename": "AttributeError",
     "evalue": "'Super' object has no attribute 'action'",
     "output_type": "error",
     "traceback": [
      "\u001b[0;31m---------------------------------------------------------------------------\u001b[0m",
      "\u001b[0;31mAttributeError\u001b[0m                            Traceback (most recent call last)",
      "\u001b[0;32m<ipython-input-4-272de95f0226>\u001b[0m in \u001b[0;36m<module>\u001b[0;34m\u001b[0m\n\u001b[1;32m     18\u001b[0m \u001b[0mX1\u001b[0m\u001b[0;34m.\u001b[0m\u001b[0mdelegate\u001b[0m\u001b[0;34m(\u001b[0m\u001b[0;34m)\u001b[0m\u001b[0;34m\u001b[0m\u001b[0;34m\u001b[0m\u001b[0m\n\u001b[1;32m     19\u001b[0m \u001b[0mX2\u001b[0m\u001b[0;34m.\u001b[0m\u001b[0mdelegate\u001b[0m\u001b[0;34m(\u001b[0m\u001b[0;34m)\u001b[0m\u001b[0;34m\u001b[0m\u001b[0;34m\u001b[0m\u001b[0m\n\u001b[0;32m---> 20\u001b[0;31m \u001b[0mX\u001b[0m\u001b[0;34m.\u001b[0m\u001b[0mdelegate\u001b[0m\u001b[0;34m(\u001b[0m\u001b[0;34m)\u001b[0m\u001b[0;34m\u001b[0m\u001b[0;34m\u001b[0m\u001b[0m\n\u001b[0m",
      "\u001b[0;32m<ipython-input-4-272de95f0226>\u001b[0m in \u001b[0;36mdelegate\u001b[0;34m(self)\u001b[0m\n\u001b[1;32m      2\u001b[0m \u001b[0;32mclass\u001b[0m \u001b[0mSuper\u001b[0m\u001b[0;34m:\u001b[0m\u001b[0;34m\u001b[0m\u001b[0;34m\u001b[0m\u001b[0m\n\u001b[1;32m      3\u001b[0m     \u001b[0;32mdef\u001b[0m \u001b[0mdelegate\u001b[0m\u001b[0;34m(\u001b[0m\u001b[0mself\u001b[0m\u001b[0;34m)\u001b[0m\u001b[0;34m:\u001b[0m\u001b[0;34m\u001b[0m\u001b[0;34m\u001b[0m\u001b[0m\n\u001b[0;32m----> 4\u001b[0;31m         \u001b[0mself\u001b[0m\u001b[0;34m.\u001b[0m\u001b[0maction\u001b[0m\u001b[0;34m(\u001b[0m\u001b[0;34m)\u001b[0m\u001b[0;34m\u001b[0m\u001b[0;34m\u001b[0m\u001b[0m\n\u001b[0m\u001b[1;32m      5\u001b[0m \u001b[0;34m\u001b[0m\u001b[0m\n\u001b[1;32m      6\u001b[0m \u001b[0;31m#Seperate Subclass implementations\u001b[0m\u001b[0;34m\u001b[0m\u001b[0;34m\u001b[0m\u001b[0;34m\u001b[0m\u001b[0m\n",
      "\u001b[0;31mAttributeError\u001b[0m: 'Super' object has no attribute 'action'"
     ]
    }
   ],
   "source": [
    "#Abstract Super Class\n",
    "class Super:\n",
    "    def delegate(self):\n",
    "        self.action()\n",
    "\n",
    "#Seperate Subclass implementations           \n",
    "class Sub1(Super):\n",
    "    def action(self):\n",
    "        print(\"Action from Sub1\")\n",
    "        \n",
    "class Sub2(Super):\n",
    "    def action(self):\n",
    "        print(\"Action from Sub2\")\n",
    "        \n",
    "X = Super()\n",
    "X1 = Sub1()\n",
    "X2 = Sub2()\n",
    "X1.delegate()\n",
    "X2.delegate()\n",
    "X.delegate()"
   ]
  },
  {
   "cell_type": "markdown",
   "metadata": {},
   "source": [
    "### Operator Overloading"
   ]
  },
  {
   "cell_type": "markdown",
   "metadata": {},
   "source": [
    "#### Overloading Addition and Negation operation"
   ]
  },
  {
   "cell_type": "code",
   "execution_count": 1,
   "metadata": {},
   "outputs": [
    {
     "name": "stdout",
     "output_type": "stream",
     "text": [
      "Calling __add__\n",
      "Adding two objects of A:  30\n",
      "Calling __add__\n",
      "Adding int with object of A:  14\n",
      "Calling __radd__\n",
      "Adding object of A with int:  18\n",
      "Calling __iadd__\n",
      "Adding two objects of A with inplace add:  30\n",
      "Calling __neg__\n",
      "A3:  -30\n",
      "30  is greater than  20\n"
     ]
    }
   ],
   "source": [
    "class A:\n",
    "    def __init__(self, a):\n",
    "        self.a = a\n",
    "        \n",
    "    def __str__(self):\n",
    "        return str(self.a)\n",
    "    \n",
    "    def __neg__(self):\n",
    "        print(\"Calling __neg__\")\n",
    "        T = A(0)\n",
    "        T.a = -self.a\n",
    "        return T\n",
    "    \n",
    "    def __add__(self, other):\n",
    "        print(\"Calling __add__\")\n",
    "        T = A(0)\n",
    "        if isinstance(other, int):\n",
    "            T.a = self.a + other\n",
    "            return T\n",
    "        elif isinstance(other, A):\n",
    "            T.a = self.a + other.a\n",
    "            return T\n",
    "        else:\n",
    "            return None\n",
    "        \n",
    "    def __iadd__(self, other):\n",
    "        print(\"Calling __iadd__\")\n",
    "        if isinstance(other, int):\n",
    "            self.a = self.a + other\n",
    "            return self\n",
    "        elif isinstance(other, A):\n",
    "            self.a = self.a + other.a\n",
    "            return self\n",
    "        else:\n",
    "            return None\n",
    "    \n",
    "    def __radd__(self, other):\n",
    "        print(\"Calling __radd__\")\n",
    "        T = A(0)\n",
    "        if isinstance(other, int):\n",
    "            T.a = self.a + other\n",
    "            return T\n",
    "        else:\n",
    "            return None\n",
    "    \n",
    "    def __gt__(self, other):\n",
    "        if self.a > other.a:\n",
    "            return True\n",
    "        else:\n",
    "            return False\n",
    "        \n",
    "A1 = A(10)\n",
    "A2 = A(20)\n",
    "\n",
    "print(\"Adding two objects of A: \", A1 + A2)\n",
    "print(\"Adding int with object of A: \", A1 + 4)\n",
    "print(\"Adding object of A with int: \", 8 + A1)\n",
    "\n",
    "A1 += A2      \n",
    "\n",
    "print(\"Adding two objects of A with inplace add: \", A1.a)\n",
    "\n",
    "A3 = -A1\n",
    "\n",
    "print(\"A3: \", A3.a)\n",
    "\n",
    "if A1 > A2:\n",
    "    print(A1.a, \" is greater than \", A2.a)\n",
    "else:\n",
    "    print(A2.a, \" is greater than \", A2.a)"
   ]
  },
  {
   "cell_type": "markdown",
   "metadata": {},
   "source": [
    "### Indexable and Iterable User Defined Object"
   ]
  },
  {
   "cell_type": "code",
   "execution_count": 5,
   "metadata": {},
   "outputs": [
    {
     "name": "stdout",
     "output_type": "stream",
     "text": [
      "[12, 14, 18, 26, 20, 30]\n",
      "Accessing through Slicing: \n",
      "[12, 14, 18, 60, 64, 86, 40]\n",
      "Accessing through indexing: \n",
      "12, 14, 18, 60, 64, 86, 40, \n",
      "Accessing through iterator: \n",
      "12, 14, 18, 60, 64, 86, 40, \n"
     ]
    }
   ],
   "source": [
    "class MyArray:\n",
    "    def __init__(self, *args):\n",
    "        self.mydata = [x for x in args if x%2 == 0]\n",
    "    \n",
    "    def __len__(self):\n",
    "        return len(self.mydata)\n",
    "    \n",
    "    def __getitem__(self, index):\n",
    "        if isinstance(index, int):\n",
    "            return self.mydata[index]\n",
    "        else:\n",
    "            return self.mydata[index.start:index.stop:index.step]\n",
    "        \n",
    "    def __setitem__(self, index, value):\n",
    "        if isinstance(index, int):\n",
    "            if value%2 == 0:\n",
    "                self.mydata[index] = value\n",
    "        else:\n",
    "            self.mydata[index.start:index.stop:index.step] = value\n",
    "            \n",
    "    def __iter__(self):\n",
    "        self.index = -1\n",
    "        return iter(self.mydata)\n",
    "    \n",
    "    def __next__(self):\n",
    "        self.index += 1\n",
    "        if self.index < len(mydata):\n",
    "            return self.mydata[self.index]\n",
    "        else:\n",
    "            raise StopIteration()\n",
    "            \n",
    "            \n",
    "M = MyArray(12, 14, 15, 18, 23, 26, 20, 30)\n",
    "print(M.mydata)\n",
    "M[5] = 40\n",
    "M[4] = 45\n",
    "print(\"Accessing through Slicing: \")\n",
    "M[3:5] = [60, 64, 86]\n",
    "print(M[:])\n",
    "print(\"Accessing through indexing: \")\n",
    "for i in range(0, len(M)):\n",
    "    print(M[i], end = \", \")\n",
    "print(\"\\nAccessing through iterator: \")\n",
    "for x in M:\n",
    "    print(x, end = \", \")\n",
    "print()"
   ]
  },
  {
   "cell_type": "code",
   "execution_count": 19,
   "metadata": {},
   "outputs": [
    {
     "name": "stdout",
     "output_type": "stream",
     "text": [
      "10, 20, \n",
      "10, 20, "
     ]
    }
   ],
   "source": [
    "class Complex:\n",
    "    def __init__(self, a, b):\n",
    "        self.real = a\n",
    "        self.im = b\n",
    "        \n",
    "    def __getitem__(self, index):\n",
    "        if index == 0:\n",
    "            return self.real\n",
    "        elif index == 1:\n",
    "            return self.im\n",
    "        else:\n",
    "            raise IndexError\n",
    "            \n",
    "    def __setitem__(self, index, value):\n",
    "        if index == 0:\n",
    "            self.real = value\n",
    "        elif index ==1:\n",
    "            self.im = value\n",
    "        else:\n",
    "            raise IndexError\n",
    "        \n",
    "    def __iter__(self):\n",
    "        self.index = -1\n",
    "        return self\n",
    "    \n",
    "    def __next__(self):\n",
    "        self.index += 1\n",
    "        if self.index == 0:\n",
    "            return self.real\n",
    "        elif self.index == 1:\n",
    "            return self.im\n",
    "        else:\n",
    "            raise StopIteration()\n",
    "            \n",
    "C1 = Complex(10, 20)\n",
    "\n",
    "for i in range(0, 2):\n",
    "    print(C1[i], end = \", \")\n",
    "print()\n",
    "\n",
    "for x in C1:\n",
    "    print(x, end = \", \")\n",
    "    \n"
   ]
  },
  {
   "cell_type": "markdown",
   "metadata": {},
   "source": [
    "### Static and Class Methods"
   ]
  },
  {
   "cell_type": "code",
   "execution_count": null,
   "metadata": {},
   "outputs": [],
   "source": []
  },
  {
   "cell_type": "code",
   "execution_count": null,
   "metadata": {},
   "outputs": [],
   "source": []
  }
 ],
 "metadata": {
  "kernelspec": {
   "display_name": "Python 3",
   "language": "python",
   "name": "python3"
  },
  "language_info": {
   "codemirror_mode": {
    "name": "ipython",
    "version": 3
   },
   "file_extension": ".py",
   "mimetype": "text/x-python",
   "name": "python",
   "nbconvert_exporter": "python",
   "pygments_lexer": "ipython3",
   "version": "3.8.2"
  }
 },
 "nbformat": 4,
 "nbformat_minor": 4
}
